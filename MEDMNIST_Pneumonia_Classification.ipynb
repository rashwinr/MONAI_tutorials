{
  "cells": [
    {
      "cell_type": "markdown",
      "metadata": {
        "id": "view-in-github",
        "colab_type": "text"
      },
      "source": [
        "<a href=\"https://colab.research.google.com/github/rashwinr/MONAI_tutorials/blob/main/MEDMNIST_Pneumonia_Classification.ipynb\" target=\"_parent\"><img src=\"https://colab.research.google.com/assets/colab-badge.svg\" alt=\"Open In Colab\"/></a>"
      ]
    },
    {
      "cell_type": "markdown",
      "metadata": {
        "id": "6SHDTBOX3soX"
      },
      "source": [
        "# MEDMNIST Pneumonia Classification\n",
        "\n",
        "Objectives:\n",
        "Develop a medical image classification algorithm that enables accurate prediction of pneumonia in chest X-ray.\n"
      ]
    },
    {
      "cell_type": "markdown",
      "metadata": {
        "id": "TY2gvpJb1cSh"
      },
      "source": [
        "## Installing MONAI"
      ]
    },
    {
      "cell_type": "code",
      "execution_count": null,
      "metadata": {
        "colab": {
          "base_uri": "https://localhost:8080/"
        },
        "id": "hsV81_ErKXe6",
        "outputId": "15bb0f87-c767-40e4-8c28-79191621f65e"
      },
      "outputs": [
        {
          "output_type": "stream",
          "name": "stdout",
          "text": [
            "\u001b[33mWARNING: Package(s) not found: monai\u001b[0m\u001b[33m\n",
            "\u001b[0m"
          ]
        }
      ],
      "source": [
        "!pip show monai"
      ]
    },
    {
      "cell_type": "code",
      "execution_count": null,
      "metadata": {
        "colab": {
          "base_uri": "https://localhost:8080/"
        },
        "id": "MlQOK-cAU_sg",
        "outputId": "a39f7e19-8986-44c9-bf01-17b42072862a"
      },
      "outputs": [
        {
          "output_type": "stream",
          "name": "stdout",
          "text": [
            "Collecting monai[all]\n",
            "  Downloading monai-1.4.0-py3-none-any.whl.metadata (11 kB)\n",
            "Requirement already satisfied: numpy<2.0,>=1.24 in /usr/local/lib/python3.10/dist-packages (from monai[all]) (1.26.4)\n",
            "Requirement already satisfied: torch>=1.9 in /usr/local/lib/python3.10/dist-packages (from monai[all]) (2.5.0+cu121)\n",
            "Collecting clearml>=1.10.0rc0 (from monai[all])\n",
            "  Downloading clearml-1.16.5-py2.py3-none-any.whl.metadata (17 kB)\n",
            "Requirement already satisfied: einops in /usr/local/lib/python3.10/dist-packages (from monai[all]) (0.8.0)\n",
            "Collecting fire (from monai[all])\n",
            "  Downloading fire-0.7.0.tar.gz (87 kB)\n",
            "\u001b[2K     \u001b[90m━━━━━━━━━━━━━━━━━━━━━━━━━━━━━━━━━━━━━━━━\u001b[0m \u001b[32m87.2/87.2 kB\u001b[0m \u001b[31m4.3 MB/s\u001b[0m eta \u001b[36m0:00:00\u001b[0m\n",
            "\u001b[?25h  Preparing metadata (setup.py) ... \u001b[?25l\u001b[?25hdone\n",
            "Requirement already satisfied: gdown>=4.7.3 in /usr/local/lib/python3.10/dist-packages (from monai[all]) (5.2.0)\n",
            "Requirement already satisfied: h5py in /usr/local/lib/python3.10/dist-packages (from monai[all]) (3.12.1)\n",
            "Requirement already satisfied: huggingface-hub in /usr/local/lib/python3.10/dist-packages (from monai[all]) (0.24.7)\n",
            "Collecting imagecodecs (from monai[all])\n",
            "  Downloading imagecodecs-2024.9.22-cp310-cp310-manylinux_2_17_x86_64.manylinux2014_x86_64.whl.metadata (20 kB)\n",
            "Collecting itk>=5.2 (from monai[all])\n",
            "  Downloading itk-5.4.0-cp310-cp310-manylinux_2_28_x86_64.whl.metadata (22 kB)\n",
            "Requirement already satisfied: jsonschema in /usr/local/lib/python3.10/dist-packages (from monai[all]) (4.23.0)\n",
            "Collecting lmdb (from monai[all])\n",
            "  Downloading lmdb-1.5.1-cp310-cp310-manylinux_2_17_x86_64.manylinux2014_x86_64.whl.metadata (1.1 kB)\n",
            "Collecting lpips==0.1.4 (from monai[all])\n",
            "  Downloading lpips-0.1.4-py3-none-any.whl.metadata (10 kB)\n",
            "Requirement already satisfied: matplotlib>=3.6.3 in /usr/local/lib/python3.10/dist-packages (from monai[all]) (3.8.0)\n",
            "Collecting mlflow>=2.12.2 (from monai[all])\n",
            "  Downloading mlflow-2.17.2-py3-none-any.whl.metadata (29 kB)\n",
            "Requirement already satisfied: nibabel in /usr/local/lib/python3.10/dist-packages (from monai[all]) (5.3.2)\n",
            "Collecting ninja (from monai[all])\n",
            "  Downloading ninja-1.11.1.1-py2.py3-none-manylinux1_x86_64.manylinux_2_5_x86_64.whl.metadata (5.3 kB)\n",
            "Collecting nni (from monai[all])\n",
            "  Downloading nni-3.0-py3-none-manylinux1_x86_64.whl.metadata (19 kB)\n",
            "Collecting nvidia-ml-py (from monai[all])\n",
            "  Downloading nvidia_ml_py-12.560.30-py3-none-any.whl.metadata (8.6 kB)\n",
            "Collecting onnx>=1.13.0 (from monai[all])\n",
            "  Downloading onnx-1.17.0-cp310-cp310-manylinux_2_17_x86_64.manylinux2014_x86_64.whl.metadata (16 kB)\n",
            "Collecting openslide-python (from monai[all])\n",
            "  Downloading openslide_python-1.4.1-cp310-cp310-manylinux_2_5_x86_64.manylinux1_x86_64.whl.metadata (4.3 kB)\n",
            "Collecting optuna (from monai[all])\n",
            "  Downloading optuna-4.0.0-py3-none-any.whl.metadata (16 kB)\n",
            "Requirement already satisfied: pandas in /usr/local/lib/python3.10/dist-packages (from monai[all]) (2.2.2)\n",
            "Requirement already satisfied: pillow in /usr/local/lib/python3.10/dist-packages (from monai[all]) (10.4.0)\n",
            "Requirement already satisfied: psutil in /usr/local/lib/python3.10/dist-packages (from monai[all]) (5.9.5)\n",
            "Collecting pyamg>=5.0.0 (from monai[all])\n",
            "  Downloading pyamg-5.2.1-cp310-cp310-manylinux_2_17_x86_64.manylinux2014_x86_64.whl.metadata (8.1 kB)\n",
            "Collecting pydicom (from monai[all])\n",
            "  Downloading pydicom-3.0.1-py3-none-any.whl.metadata (9.4 kB)\n",
            "Collecting pynrrd (from monai[all])\n",
            "  Downloading pynrrd-1.1.1-py3-none-any.whl.metadata (5.3 kB)\n",
            "Collecting pytorch-ignite==0.4.11 (from monai[all])\n",
            "  Downloading pytorch_ignite-0.4.11-py3-none-any.whl.metadata (28 kB)\n",
            "Requirement already satisfied: pyyaml in /usr/local/lib/python3.10/dist-packages (from monai[all]) (6.0.2)\n",
            "Requirement already satisfied: scikit-image>=0.14.2 in /usr/local/lib/python3.10/dist-packages (from monai[all]) (0.24.0)\n",
            "Requirement already satisfied: tensorboard in /usr/local/lib/python3.10/dist-packages (from monai[all]) (2.17.0)\n",
            "Collecting tensorboardX (from monai[all])\n",
            "  Downloading tensorboardX-2.6.2.2-py2.py3-none-any.whl.metadata (5.8 kB)\n",
            "Requirement already satisfied: tifffile in /usr/local/lib/python3.10/dist-packages (from monai[all]) (2024.9.20)\n",
            "Requirement already satisfied: torchvision in /usr/local/lib/python3.10/dist-packages (from monai[all]) (0.20.0+cu121)\n",
            "Requirement already satisfied: tqdm>=4.47.0 in /usr/local/lib/python3.10/dist-packages (from monai[all]) (4.66.6)\n",
            "Collecting zarr (from monai[all])\n",
            "  Downloading zarr-2.18.3-py3-none-any.whl.metadata (5.7 kB)\n",
            "Collecting onnxruntime (from monai[all])\n",
            "  Downloading onnxruntime-1.20.0-cp310-cp310-manylinux_2_27_x86_64.manylinux_2_28_x86_64.whl.metadata (4.4 kB)\n",
            "Collecting transformers<4.41.0,>=4.36.0 (from monai[all])\n",
            "  Downloading transformers-4.40.2-py3-none-any.whl.metadata (137 kB)\n",
            "\u001b[2K     \u001b[90m━━━━━━━━━━━━━━━━━━━━━━━━━━━━━━━━━━━━━━━━\u001b[0m \u001b[32m138.0/138.0 kB\u001b[0m \u001b[31m8.9 MB/s\u001b[0m eta \u001b[36m0:00:00\u001b[0m\n",
            "\u001b[?25hRequirement already satisfied: scipy>=1.12.0 in /usr/local/lib/python3.10/dist-packages (from monai[all]) (1.13.1)\n",
            "Collecting cucim-cu12 (from monai[all])\n",
            "  Downloading cucim_cu12-24.10.0-cp310-cp310-manylinux_2_28_x86_64.whl.metadata (7.5 kB)\n",
            "Requirement already satisfied: packaging in /usr/local/lib/python3.10/dist-packages (from pytorch-ignite==0.4.11->monai[all]) (24.1)\n",
            "Requirement already satisfied: attrs>=18.0 in /usr/local/lib/python3.10/dist-packages (from clearml>=1.10.0rc0->monai[all]) (24.2.0)\n",
            "Collecting furl>=2.0.0 (from clearml>=1.10.0rc0->monai[all])\n",
            "  Downloading furl-2.1.3-py2.py3-none-any.whl.metadata (1.2 kB)\n",
            "Collecting pathlib2>=2.3.0 (from clearml>=1.10.0rc0->monai[all])\n",
            "  Downloading pathlib2-2.3.7.post1-py2.py3-none-any.whl.metadata (3.5 kB)\n",
            "Requirement already satisfied: pyparsing>=2.0.3 in /usr/local/lib/python3.10/dist-packages (from clearml>=1.10.0rc0->monai[all]) (3.2.0)\n",
            "Requirement already satisfied: python-dateutil>=2.6.1 in /usr/local/lib/python3.10/dist-packages (from clearml>=1.10.0rc0->monai[all]) (2.8.2)\n",
            "Requirement already satisfied: requests>=2.20.0 in /usr/local/lib/python3.10/dist-packages (from clearml>=1.10.0rc0->monai[all]) (2.32.3)\n",
            "Requirement already satisfied: six>=1.16.0 in /usr/local/lib/python3.10/dist-packages (from clearml>=1.10.0rc0->monai[all]) (1.16.0)\n",
            "Requirement already satisfied: urllib3>=1.21.1 in /usr/local/lib/python3.10/dist-packages (from clearml>=1.10.0rc0->monai[all]) (2.2.3)\n",
            "Collecting pyjwt<2.9.0,>=2.4.0 (from clearml>=1.10.0rc0->monai[all])\n",
            "  Downloading PyJWT-2.8.0-py3-none-any.whl.metadata (4.2 kB)\n",
            "Requirement already satisfied: referencing<0.40 in /usr/local/lib/python3.10/dist-packages (from clearml>=1.10.0rc0->monai[all]) (0.35.1)\n",
            "Requirement already satisfied: beautifulsoup4 in /usr/local/lib/python3.10/dist-packages (from gdown>=4.7.3->monai[all]) (4.12.3)\n",
            "Requirement already satisfied: filelock in /usr/local/lib/python3.10/dist-packages (from gdown>=4.7.3->monai[all]) (3.16.1)\n",
            "Collecting itk-core==5.4.0 (from itk>=5.2->monai[all])\n",
            "  Downloading itk_core-5.4.0-cp310-cp310-manylinux_2_28_x86_64.whl.metadata (22 kB)\n",
            "Collecting itk-numerics==5.4.0 (from itk>=5.2->monai[all])\n",
            "  Downloading itk_numerics-5.4.0-cp310-cp310-manylinux_2_28_x86_64.whl.metadata (22 kB)\n",
            "Collecting itk-io==5.4.0 (from itk>=5.2->monai[all])\n",
            "  Downloading itk_io-5.4.0-cp310-cp310-manylinux_2_28_x86_64.whl.metadata (22 kB)\n",
            "Collecting itk-filtering==5.4.0 (from itk>=5.2->monai[all])\n",
            "  Downloading itk_filtering-5.4.0-cp310-cp310-manylinux_2_28_x86_64.whl.metadata (22 kB)\n",
            "Collecting itk-registration==5.4.0 (from itk>=5.2->monai[all])\n",
            "  Downloading itk_registration-5.4.0-cp310-cp310-manylinux_2_28_x86_64.whl.metadata (22 kB)\n",
            "Collecting itk-segmentation==5.4.0 (from itk>=5.2->monai[all])\n",
            "  Downloading itk_segmentation-5.4.0-cp310-cp310-manylinux_2_28_x86_64.whl.metadata (22 kB)\n",
            "Requirement already satisfied: jsonschema-specifications>=2023.03.6 in /usr/local/lib/python3.10/dist-packages (from jsonschema->monai[all]) (2024.10.1)\n",
            "Requirement already satisfied: rpds-py>=0.7.1 in /usr/local/lib/python3.10/dist-packages (from jsonschema->monai[all]) (0.20.0)\n",
            "Requirement already satisfied: contourpy>=1.0.1 in /usr/local/lib/python3.10/dist-packages (from matplotlib>=3.6.3->monai[all]) (1.3.0)\n",
            "Requirement already satisfied: cycler>=0.10 in /usr/local/lib/python3.10/dist-packages (from matplotlib>=3.6.3->monai[all]) (0.12.1)\n",
            "Requirement already satisfied: fonttools>=4.22.0 in /usr/local/lib/python3.10/dist-packages (from matplotlib>=3.6.3->monai[all]) (4.54.1)\n",
            "Requirement already satisfied: kiwisolver>=1.0.1 in /usr/local/lib/python3.10/dist-packages (from matplotlib>=3.6.3->monai[all]) (1.4.7)\n",
            "Collecting mlflow-skinny==2.17.2 (from mlflow>=2.12.2->monai[all])\n",
            "  Downloading mlflow_skinny-2.17.2-py3-none-any.whl.metadata (30 kB)\n",
            "Requirement already satisfied: Flask<4 in /usr/local/lib/python3.10/dist-packages (from mlflow>=2.12.2->monai[all]) (2.2.5)\n",
            "Collecting alembic!=1.10.0,<2 (from mlflow>=2.12.2->monai[all])\n",
            "  Downloading alembic-1.14.0-py3-none-any.whl.metadata (7.4 kB)\n",
            "Collecting docker<8,>=4.0.0 (from mlflow>=2.12.2->monai[all])\n",
            "  Downloading docker-7.1.0-py3-none-any.whl.metadata (3.8 kB)\n",
            "Collecting graphene<4 (from mlflow>=2.12.2->monai[all])\n",
            "  Downloading graphene-3.4.3-py2.py3-none-any.whl.metadata (6.9 kB)\n",
            "Requirement already satisfied: markdown<4,>=3.3 in /usr/local/lib/python3.10/dist-packages (from mlflow>=2.12.2->monai[all]) (3.7)\n",
            "Requirement already satisfied: pyarrow<18,>=4.0.0 in /usr/local/lib/python3.10/dist-packages (from mlflow>=2.12.2->monai[all]) (17.0.0)\n",
            "Requirement already satisfied: scikit-learn<2 in /usr/local/lib/python3.10/dist-packages (from mlflow>=2.12.2->monai[all]) (1.5.2)\n",
            "Requirement already satisfied: sqlalchemy<3,>=1.4.0 in /usr/local/lib/python3.10/dist-packages (from mlflow>=2.12.2->monai[all]) (2.0.36)\n",
            "Requirement already satisfied: Jinja2<4,>=2.11 in /usr/local/lib/python3.10/dist-packages (from mlflow>=2.12.2->monai[all]) (3.1.4)\n",
            "Collecting gunicorn<24 (from mlflow>=2.12.2->monai[all])\n",
            "  Downloading gunicorn-23.0.0-py3-none-any.whl.metadata (4.4 kB)\n",
            "Requirement already satisfied: cachetools<6,>=5.0.0 in /usr/local/lib/python3.10/dist-packages (from mlflow-skinny==2.17.2->mlflow>=2.12.2->monai[all]) (5.5.0)\n",
            "Requirement already satisfied: click<9,>=7.0 in /usr/local/lib/python3.10/dist-packages (from mlflow-skinny==2.17.2->mlflow>=2.12.2->monai[all]) (8.1.7)\n",
            "Requirement already satisfied: cloudpickle<4 in /usr/local/lib/python3.10/dist-packages (from mlflow-skinny==2.17.2->mlflow>=2.12.2->monai[all]) (3.1.0)\n",
            "Collecting databricks-sdk<1,>=0.20.0 (from mlflow-skinny==2.17.2->mlflow>=2.12.2->monai[all])\n",
            "  Downloading databricks_sdk-0.36.0-py3-none-any.whl.metadata (38 kB)\n",
            "Requirement already satisfied: gitpython<4,>=3.1.9 in /usr/local/lib/python3.10/dist-packages (from mlflow-skinny==2.17.2->mlflow>=2.12.2->monai[all]) (3.1.43)\n",
            "Requirement already satisfied: importlib-metadata!=4.7.0,<9,>=3.7.0 in /usr/local/lib/python3.10/dist-packages (from mlflow-skinny==2.17.2->mlflow>=2.12.2->monai[all]) (8.5.0)\n",
            "Requirement already satisfied: opentelemetry-api<3,>=1.9.0 in /usr/local/lib/python3.10/dist-packages (from mlflow-skinny==2.17.2->mlflow>=2.12.2->monai[all]) (1.16.0)\n",
            "Requirement already satisfied: opentelemetry-sdk<3,>=1.9.0 in /usr/local/lib/python3.10/dist-packages (from mlflow-skinny==2.17.2->mlflow>=2.12.2->monai[all]) (1.16.0)\n",
            "Requirement already satisfied: protobuf<6,>=3.12.0 in /usr/local/lib/python3.10/dist-packages (from mlflow-skinny==2.17.2->mlflow>=2.12.2->monai[all]) (3.20.3)\n",
            "Requirement already satisfied: sqlparse<1,>=0.4.0 in /usr/local/lib/python3.10/dist-packages (from mlflow-skinny==2.17.2->mlflow>=2.12.2->monai[all]) (0.5.1)\n",
            "Requirement already satisfied: pytz>=2020.1 in /usr/local/lib/python3.10/dist-packages (from pandas->monai[all]) (2024.2)\n",
            "Requirement already satisfied: tzdata>=2022.7 in /usr/local/lib/python3.10/dist-packages (from pandas->monai[all]) (2024.2)\n",
            "Requirement already satisfied: networkx>=2.8 in /usr/local/lib/python3.10/dist-packages (from scikit-image>=0.14.2->monai[all]) (3.4.2)\n",
            "Requirement already satisfied: imageio>=2.33 in /usr/local/lib/python3.10/dist-packages (from scikit-image>=0.14.2->monai[all]) (2.36.0)\n",
            "Requirement already satisfied: lazy-loader>=0.4 in /usr/local/lib/python3.10/dist-packages (from scikit-image>=0.14.2->monai[all]) (0.4)\n",
            "Requirement already satisfied: typing-extensions>=4.8.0 in /usr/local/lib/python3.10/dist-packages (from torch>=1.9->monai[all]) (4.12.2)\n",
            "Requirement already satisfied: fsspec in /usr/local/lib/python3.10/dist-packages (from torch>=1.9->monai[all]) (2024.10.0)\n",
            "Requirement already satisfied: sympy==1.13.1 in /usr/local/lib/python3.10/dist-packages (from torch>=1.9->monai[all]) (1.13.1)\n",
            "Requirement already satisfied: mpmath<1.4,>=1.1.0 in /usr/local/lib/python3.10/dist-packages (from sympy==1.13.1->torch>=1.9->monai[all]) (1.3.0)\n",
            "Requirement already satisfied: regex!=2019.12.17 in /usr/local/lib/python3.10/dist-packages (from transformers<4.41.0,>=4.36.0->monai[all]) (2024.9.11)\n",
            "Requirement already satisfied: tokenizers<0.20,>=0.19 in /usr/local/lib/python3.10/dist-packages (from transformers<4.41.0,>=4.36.0->monai[all]) (0.19.1)\n",
            "Requirement already satisfied: safetensors>=0.4.1 in /usr/local/lib/python3.10/dist-packages (from transformers<4.41.0,>=4.36.0->monai[all]) (0.4.5)\n",
            "Requirement already satisfied: cupy-cuda12x>=12.0.0 in /usr/local/lib/python3.10/dist-packages (from cucim-cu12->monai[all]) (12.2.0)\n",
            "Requirement already satisfied: termcolor in /usr/local/lib/python3.10/dist-packages (from fire->monai[all]) (2.5.0)\n",
            "Requirement already satisfied: importlib-resources>=5.12 in /usr/local/lib/python3.10/dist-packages (from nibabel->monai[all]) (6.4.5)\n",
            "Collecting astor (from nni->monai[all])\n",
            "  Downloading astor-0.8.1-py2.py3-none-any.whl.metadata (4.2 kB)\n",
            "Collecting colorama (from nni->monai[all])\n",
            "  Downloading colorama-0.4.6-py2.py3-none-any.whl.metadata (17 kB)\n",
            "Collecting filelock (from gdown>=4.7.3->monai[all])\n",
            "  Downloading filelock-3.11.0-py3-none-any.whl.metadata (2.5 kB)\n",
            "Collecting json-tricks>=3.15.5 (from nni->monai[all])\n",
            "  Downloading json_tricks-3.17.3-py2.py3-none-any.whl.metadata (16 kB)\n",
            "Requirement already satisfied: prettytable in /usr/local/lib/python3.10/dist-packages (from nni->monai[all]) (3.11.0)\n",
            "Collecting PythonWebHDFS (from nni->monai[all])\n",
            "  Downloading PythonWebHDFS-0.2.3-py3-none-any.whl.metadata (717 bytes)\n",
            "Collecting responses (from nni->monai[all])\n",
            "  Downloading responses-0.25.3-py3-none-any.whl.metadata (46 kB)\n",
            "\u001b[2K     \u001b[90m━━━━━━━━━━━━━━━━━━━━━━━━━━━━━━━━━━━━━━━━\u001b[0m \u001b[32m46.7/46.7 kB\u001b[0m \u001b[31m2.3 MB/s\u001b[0m eta \u001b[36m0:00:00\u001b[0m\n",
            "\u001b[?25hCollecting schema (from nni->monai[all])\n",
            "  Downloading schema-0.7.7-py2.py3-none-any.whl.metadata (34 kB)\n",
            "Collecting typeguard<4.1.3,>=3.0.0 (from nni->monai[all])\n",
            "  Downloading typeguard-4.1.2-py3-none-any.whl.metadata (3.7 kB)\n",
            "Collecting websockets>=10.1 (from nni->monai[all])\n",
            "  Downloading websockets-14.0-cp310-cp310-manylinux_2_5_x86_64.manylinux1_x86_64.manylinux_2_17_x86_64.manylinux2014_x86_64.whl.metadata (6.7 kB)\n",
            "Collecting coloredlogs (from onnxruntime->monai[all])\n",
            "  Downloading coloredlogs-15.0.1-py2.py3-none-any.whl.metadata (12 kB)\n",
            "Requirement already satisfied: flatbuffers in /usr/local/lib/python3.10/dist-packages (from onnxruntime->monai[all]) (24.3.25)\n",
            "Collecting colorlog (from optuna->monai[all])\n",
            "  Downloading colorlog-6.9.0-py3-none-any.whl.metadata (10 kB)\n",
            "Requirement already satisfied: absl-py>=0.4 in /usr/local/lib/python3.10/dist-packages (from tensorboard->monai[all]) (1.4.0)\n",
            "Requirement already satisfied: grpcio>=1.48.2 in /usr/local/lib/python3.10/dist-packages (from tensorboard->monai[all]) (1.64.1)\n",
            "Requirement already satisfied: setuptools>=41.0.0 in /usr/local/lib/python3.10/dist-packages (from tensorboard->monai[all]) (75.1.0)\n",
            "Requirement already satisfied: tensorboard-data-server<0.8.0,>=0.7.0 in /usr/local/lib/python3.10/dist-packages (from tensorboard->monai[all]) (0.7.2)\n",
            "Requirement already satisfied: werkzeug>=1.0.1 in /usr/local/lib/python3.10/dist-packages (from tensorboard->monai[all]) (3.0.6)\n",
            "Collecting asciitree (from zarr->monai[all])\n",
            "  Downloading asciitree-0.3.3.tar.gz (4.0 kB)\n",
            "  Preparing metadata (setup.py) ... \u001b[?25l\u001b[?25hdone\n",
            "Collecting numcodecs>=0.10.0 (from zarr->monai[all])\n",
            "  Downloading numcodecs-0.13.1-cp310-cp310-manylinux_2_17_x86_64.manylinux2014_x86_64.whl.metadata (2.9 kB)\n",
            "Collecting fasteners (from zarr->monai[all])\n",
            "  Downloading fasteners-0.19-py3-none-any.whl.metadata (4.9 kB)\n",
            "Collecting Mako (from alembic!=1.10.0,<2->mlflow>=2.12.2->monai[all])\n",
            "  Downloading Mako-1.3.6-py3-none-any.whl.metadata (2.9 kB)\n",
            "Requirement already satisfied: fastrlock>=0.5 in /usr/local/lib/python3.10/dist-packages (from cupy-cuda12x>=12.0.0->cucim-cu12->monai[all]) (0.8.2)\n",
            "Requirement already satisfied: itsdangerous>=2.0 in /usr/local/lib/python3.10/dist-packages (from Flask<4->mlflow>=2.12.2->monai[all]) (2.2.0)\n",
            "Collecting orderedmultidict>=1.0.1 (from furl>=2.0.0->clearml>=1.10.0rc0->monai[all])\n",
            "  Downloading orderedmultidict-1.0.1-py2.py3-none-any.whl.metadata (1.3 kB)\n",
            "Collecting graphql-core<3.3,>=3.1 (from graphene<4->mlflow>=2.12.2->monai[all])\n",
            "  Downloading graphql_core-3.2.5-py3-none-any.whl.metadata (10 kB)\n",
            "Collecting graphql-relay<3.3,>=3.1 (from graphene<4->mlflow>=2.12.2->monai[all])\n",
            "  Downloading graphql_relay-3.2.0-py3-none-any.whl.metadata (12 kB)\n",
            "Requirement already satisfied: MarkupSafe>=2.0 in /usr/local/lib/python3.10/dist-packages (from Jinja2<4,>=2.11->mlflow>=2.12.2->monai[all]) (3.0.2)\n",
            "Requirement already satisfied: charset-normalizer<4,>=2 in /usr/local/lib/python3.10/dist-packages (from requests>=2.20.0->clearml>=1.10.0rc0->monai[all]) (3.4.0)\n",
            "Requirement already satisfied: idna<4,>=2.5 in /usr/local/lib/python3.10/dist-packages (from requests>=2.20.0->clearml>=1.10.0rc0->monai[all]) (3.10)\n",
            "Requirement already satisfied: certifi>=2017.4.17 in /usr/local/lib/python3.10/dist-packages (from requests>=2.20.0->clearml>=1.10.0rc0->monai[all]) (2024.8.30)\n",
            "Requirement already satisfied: joblib>=1.2.0 in /usr/local/lib/python3.10/dist-packages (from scikit-learn<2->mlflow>=2.12.2->monai[all]) (1.4.2)\n",
            "Requirement already satisfied: threadpoolctl>=3.1.0 in /usr/local/lib/python3.10/dist-packages (from scikit-learn<2->mlflow>=2.12.2->monai[all]) (3.5.0)\n",
            "Requirement already satisfied: greenlet!=0.4.17 in /usr/local/lib/python3.10/dist-packages (from sqlalchemy<3,>=1.4.0->mlflow>=2.12.2->monai[all]) (3.1.1)\n",
            "Requirement already satisfied: soupsieve>1.2 in /usr/local/lib/python3.10/dist-packages (from beautifulsoup4->gdown>=4.7.3->monai[all]) (2.6)\n",
            "Collecting humanfriendly>=9.1 (from coloredlogs->onnxruntime->monai[all])\n",
            "  Downloading humanfriendly-10.0-py2.py3-none-any.whl.metadata (9.2 kB)\n",
            "Requirement already satisfied: wcwidth in /usr/local/lib/python3.10/dist-packages (from prettytable->nni->monai[all]) (0.2.13)\n",
            "Collecting simplejson (from PythonWebHDFS->nni->monai[all])\n",
            "  Downloading simplejson-3.19.3-cp310-cp310-manylinux_2_5_x86_64.manylinux1_x86_64.manylinux_2_17_x86_64.manylinux2014_x86_64.whl.metadata (3.2 kB)\n",
            "Requirement already satisfied: PySocks!=1.5.7,>=1.5.6 in /usr/local/lib/python3.10/dist-packages (from requests[socks]->gdown>=4.7.3->monai[all]) (1.7.1)\n",
            "Requirement already satisfied: google-auth~=2.0 in /usr/local/lib/python3.10/dist-packages (from databricks-sdk<1,>=0.20.0->mlflow-skinny==2.17.2->mlflow>=2.12.2->monai[all]) (2.27.0)\n",
            "Requirement already satisfied: gitdb<5,>=4.0.1 in /usr/local/lib/python3.10/dist-packages (from gitpython<4,>=3.1.9->mlflow-skinny==2.17.2->mlflow>=2.12.2->monai[all]) (4.0.11)\n",
            "Requirement already satisfied: zipp>=3.20 in /usr/local/lib/python3.10/dist-packages (from importlib-metadata!=4.7.0,<9,>=3.7.0->mlflow-skinny==2.17.2->mlflow>=2.12.2->monai[all]) (3.20.2)\n",
            "Requirement already satisfied: deprecated>=1.2.6 in /usr/local/lib/python3.10/dist-packages (from opentelemetry-api<3,>=1.9.0->mlflow-skinny==2.17.2->mlflow>=2.12.2->monai[all]) (1.2.14)\n",
            "Requirement already satisfied: opentelemetry-semantic-conventions==0.37b0 in /usr/local/lib/python3.10/dist-packages (from opentelemetry-sdk<3,>=1.9.0->mlflow-skinny==2.17.2->mlflow>=2.12.2->monai[all]) (0.37b0)\n",
            "Requirement already satisfied: wrapt<2,>=1.10 in /usr/local/lib/python3.10/dist-packages (from deprecated>=1.2.6->opentelemetry-api<3,>=1.9.0->mlflow-skinny==2.17.2->mlflow>=2.12.2->monai[all]) (1.16.0)\n",
            "Requirement already satisfied: smmap<6,>=3.0.1 in /usr/local/lib/python3.10/dist-packages (from gitdb<5,>=4.0.1->gitpython<4,>=3.1.9->mlflow-skinny==2.17.2->mlflow>=2.12.2->monai[all]) (5.0.1)\n",
            "Requirement already satisfied: pyasn1-modules>=0.2.1 in /usr/local/lib/python3.10/dist-packages (from google-auth~=2.0->databricks-sdk<1,>=0.20.0->mlflow-skinny==2.17.2->mlflow>=2.12.2->monai[all]) (0.4.1)\n",
            "Requirement already satisfied: rsa<5,>=3.1.4 in /usr/local/lib/python3.10/dist-packages (from google-auth~=2.0->databricks-sdk<1,>=0.20.0->mlflow-skinny==2.17.2->mlflow>=2.12.2->monai[all]) (4.9)\n",
            "Requirement already satisfied: pyasn1<0.7.0,>=0.4.6 in /usr/local/lib/python3.10/dist-packages (from pyasn1-modules>=0.2.1->google-auth~=2.0->databricks-sdk<1,>=0.20.0->mlflow-skinny==2.17.2->mlflow>=2.12.2->monai[all]) (0.6.1)\n",
            "Downloading lpips-0.1.4-py3-none-any.whl (53 kB)\n",
            "\u001b[2K   \u001b[90m━━━━━━━━━━━━━━━━━━━━━━━━━━━━━━━━━━━━━━━━\u001b[0m \u001b[32m53.8/53.8 kB\u001b[0m \u001b[31m4.0 MB/s\u001b[0m eta \u001b[36m0:00:00\u001b[0m\n",
            "\u001b[?25hDownloading pytorch_ignite-0.4.11-py3-none-any.whl (266 kB)\n",
            "\u001b[2K   \u001b[90m━━━━━━━━━━━━━━━━━━━━━━━━━━━━━━━━━━━━━━━━\u001b[0m \u001b[32m266.5/266.5 kB\u001b[0m \u001b[31m10.5 MB/s\u001b[0m eta \u001b[36m0:00:00\u001b[0m\n",
            "\u001b[?25hDownloading clearml-1.16.5-py2.py3-none-any.whl (1.2 MB)\n",
            "\u001b[2K   \u001b[90m━━━━━━━━━━━━━━━━━━━━━━━━━━━━━━━━━━━━━━━━\u001b[0m \u001b[32m1.2/1.2 MB\u001b[0m \u001b[31m36.4 MB/s\u001b[0m eta \u001b[36m0:00:00\u001b[0m\n",
            "\u001b[?25hDownloading itk-5.4.0-cp310-cp310-manylinux_2_28_x86_64.whl (17 kB)\n",
            "Downloading itk_core-5.4.0-cp310-cp310-manylinux_2_28_x86_64.whl (80.2 MB)\n",
            "\u001b[2K   \u001b[90m━━━━━━━━━━━━━━━━━━━━━━━━━━━━━━━━━━━━━━━━\u001b[0m \u001b[32m80.2/80.2 MB\u001b[0m \u001b[31m7.4 MB/s\u001b[0m eta \u001b[36m0:00:00\u001b[0m\n",
            "\u001b[?25hDownloading itk_filtering-5.4.0-cp310-cp310-manylinux_2_28_x86_64.whl (67.7 MB)\n",
            "\u001b[2K   \u001b[90m━━━━━━━━━━━━━━━━━━━━━━━━━━━━━━━━━━━━━━━━\u001b[0m \u001b[32m67.7/67.7 MB\u001b[0m \u001b[31m7.7 MB/s\u001b[0m eta \u001b[36m0:00:00\u001b[0m\n",
            "\u001b[?25hDownloading itk_io-5.4.0-cp310-cp310-manylinux_2_28_x86_64.whl (28.0 MB)\n",
            "\u001b[2K   \u001b[90m━━━━━━━━━━━━━━━━━━━━━━━━━━━━━━━━━━━━━━━━\u001b[0m \u001b[32m28.0/28.0 MB\u001b[0m \u001b[31m24.5 MB/s\u001b[0m eta \u001b[36m0:00:00\u001b[0m\n",
            "\u001b[?25hDownloading itk_numerics-5.4.0-cp310-cp310-manylinux_2_28_x86_64.whl (57.0 MB)\n",
            "\u001b[2K   \u001b[90m━━━━━━━━━━━━━━━━━━━━━━━━━━━━━━━━━━━━━━━━\u001b[0m \u001b[32m57.0/57.0 MB\u001b[0m \u001b[31m8.6 MB/s\u001b[0m eta \u001b[36m0:00:00\u001b[0m\n",
            "\u001b[?25hDownloading itk_registration-5.4.0-cp310-cp310-manylinux_2_28_x86_64.whl (28.4 MB)\n",
            "\u001b[2K   \u001b[90m━━━━━━━━━━━━━━━━━━━━━━━━━━━━━━━━━━━━━━━━\u001b[0m \u001b[32m28.4/28.4 MB\u001b[0m \u001b[31m54.1 MB/s\u001b[0m eta \u001b[36m0:00:00\u001b[0m\n",
            "\u001b[?25hDownloading itk_segmentation-5.4.0-cp310-cp310-manylinux_2_28_x86_64.whl (15.8 MB)\n",
            "\u001b[2K   \u001b[90m━━━━━━━━━━━━━━━━━━━━━━━━━━━━━━━━━━━━━━━━\u001b[0m \u001b[32m15.8/15.8 MB\u001b[0m \u001b[31m76.5 MB/s\u001b[0m eta \u001b[36m0:00:00\u001b[0m\n",
            "\u001b[?25hDownloading mlflow-2.17.2-py3-none-any.whl (26.7 MB)\n",
            "\u001b[2K   \u001b[90m━━━━━━━━━━━━━━━━━━━━━━━━━━━━━━━━━━━━━━━━\u001b[0m \u001b[32m26.7/26.7 MB\u001b[0m \u001b[31m19.6 MB/s\u001b[0m eta \u001b[36m0:00:00\u001b[0m\n",
            "\u001b[?25hDownloading mlflow_skinny-2.17.2-py3-none-any.whl (5.7 MB)\n",
            "\u001b[2K   \u001b[90m━━━━━━━━━━━━━━━━━━━━━━━━━━━━━━━━━━━━━━━━\u001b[0m \u001b[32m5.7/5.7 MB\u001b[0m \u001b[31m89.1 MB/s\u001b[0m eta \u001b[36m0:00:00\u001b[0m\n",
            "\u001b[?25hDownloading onnx-1.17.0-cp310-cp310-manylinux_2_17_x86_64.manylinux2014_x86_64.whl (16.0 MB)\n",
            "\u001b[2K   \u001b[90m━━━━━━━━━━━━━━━━━━━━━━━━━━━━━━━━━━━━━━━━\u001b[0m \u001b[32m16.0/16.0 MB\u001b[0m \u001b[31m86.2 MB/s\u001b[0m eta \u001b[36m0:00:00\u001b[0m\n",
            "\u001b[?25hDownloading pyamg-5.2.1-cp310-cp310-manylinux_2_17_x86_64.manylinux2014_x86_64.whl (2.0 MB)\n",
            "\u001b[2K   \u001b[90m━━━━━━━━━━━━━━━━━━━━━━━━━━━━━━━━━━━━━━━━\u001b[0m \u001b[32m2.0/2.0 MB\u001b[0m \u001b[31m61.2 MB/s\u001b[0m eta \u001b[36m0:00:00\u001b[0m\n",
            "\u001b[?25hDownloading transformers-4.40.2-py3-none-any.whl (9.0 MB)\n",
            "\u001b[2K   \u001b[90m━━━━━━━━━━━━━━━━━━━━━━━━━━━━━━━━━━━━━━━━\u001b[0m \u001b[32m9.0/9.0 MB\u001b[0m \u001b[31m86.6 MB/s\u001b[0m eta \u001b[36m0:00:00\u001b[0m\n",
            "\u001b[?25hDownloading cucim_cu12-24.10.0-cp310-cp310-manylinux_2_28_x86_64.whl (5.6 MB)\n",
            "\u001b[2K   \u001b[90m━━━━━━━━━━━━━━━━━━━━━━━━━━━━━━━━━━━━━━━━\u001b[0m \u001b[32m5.6/5.6 MB\u001b[0m \u001b[31m83.9 MB/s\u001b[0m eta \u001b[36m0:00:00\u001b[0m\n",
            "\u001b[?25hDownloading imagecodecs-2024.9.22-cp310-cp310-manylinux_2_17_x86_64.manylinux2014_x86_64.whl (43.3 MB)\n",
            "\u001b[2K   \u001b[90m━━━━━━━━━━━━━━━━━━━━━━━━━━━━━━━━━━━━━━━━\u001b[0m \u001b[32m43.3/43.3 MB\u001b[0m \u001b[31m12.5 MB/s\u001b[0m eta \u001b[36m0:00:00\u001b[0m\n",
            "\u001b[?25hDownloading lmdb-1.5.1-cp310-cp310-manylinux_2_17_x86_64.manylinux2014_x86_64.whl (294 kB)\n",
            "\u001b[2K   \u001b[90m━━━━━━━━━━━━━━━━━━━━━━━━━━━━━━━━━━━━━━━━\u001b[0m \u001b[32m294.9/294.9 kB\u001b[0m \u001b[31m19.6 MB/s\u001b[0m eta \u001b[36m0:00:00\u001b[0m\n",
            "\u001b[?25hDownloading monai-1.4.0-py3-none-any.whl (1.5 MB)\n",
            "\u001b[2K   \u001b[90m━━━━━━━━━━━━━━━━━━━━━━━━━━━━━━━━━━━━━━━━\u001b[0m \u001b[32m1.5/1.5 MB\u001b[0m \u001b[31m55.3 MB/s\u001b[0m eta \u001b[36m0:00:00\u001b[0m\n",
            "\u001b[?25hDownloading ninja-1.11.1.1-py2.py3-none-manylinux1_x86_64.manylinux_2_5_x86_64.whl (307 kB)\n",
            "\u001b[2K   \u001b[90m━━━━━━━━━━━━━━━━━━━━━━━━━━━━━━━━━━━━━━━━\u001b[0m \u001b[32m307.2/307.2 kB\u001b[0m \u001b[31m17.1 MB/s\u001b[0m eta \u001b[36m0:00:00\u001b[0m\n",
            "\u001b[?25hDownloading nni-3.0-py3-none-manylinux1_x86_64.whl (61.4 MB)\n",
            "\u001b[2K   \u001b[90m━━━━━━━━━━━━━━━━━━━━━━━━━━━━━━━━━━━━━━━━\u001b[0m \u001b[32m61.4/61.4 MB\u001b[0m \u001b[31m12.2 MB/s\u001b[0m eta \u001b[36m0:00:00\u001b[0m\n",
            "\u001b[?25hDownloading nvidia_ml_py-12.560.30-py3-none-any.whl (40 kB)\n",
            "\u001b[2K   \u001b[90m━━━━━━━━━━━━━━━━━━━━━━━━━━━━━━━━━━━━━━━━\u001b[0m \u001b[32m40.5/40.5 kB\u001b[0m \u001b[31m2.7 MB/s\u001b[0m eta \u001b[36m0:00:00\u001b[0m\n",
            "\u001b[?25hDownloading onnxruntime-1.20.0-cp310-cp310-manylinux_2_27_x86_64.manylinux_2_28_x86_64.whl (13.3 MB)\n",
            "\u001b[2K   \u001b[90m━━━━━━━━━━━━━━━━━━━━━━━━━━━━━━━━━━━━━━━━\u001b[0m \u001b[32m13.3/13.3 MB\u001b[0m \u001b[31m86.3 MB/s\u001b[0m eta \u001b[36m0:00:00\u001b[0m\n",
            "\u001b[?25hDownloading openslide_python-1.4.1-cp310-cp310-manylinux_2_5_x86_64.manylinux1_x86_64.whl (36 kB)\n",
            "Downloading optuna-4.0.0-py3-none-any.whl (362 kB)\n",
            "\u001b[2K   \u001b[90m━━━━━━━━━━━━━━━━━━━━━━━━━━━━━━━━━━━━━━━━\u001b[0m \u001b[32m362.8/362.8 kB\u001b[0m \u001b[31m23.1 MB/s\u001b[0m eta \u001b[36m0:00:00\u001b[0m\n",
            "\u001b[?25hDownloading pydicom-3.0.1-py3-none-any.whl (2.4 MB)\n",
            "\u001b[2K   \u001b[90m━━━━━━━━━━━━━━━━━━━━━━━━━━━━━━━━━━━━━━━━\u001b[0m \u001b[32m2.4/2.4 MB\u001b[0m \u001b[31m64.0 MB/s\u001b[0m eta \u001b[36m0:00:00\u001b[0m\n",
            "\u001b[?25hDownloading pynrrd-1.1.1-py3-none-any.whl (23 kB)\n",
            "Downloading tensorboardX-2.6.2.2-py2.py3-none-any.whl (101 kB)\n",
            "\u001b[2K   \u001b[90m━━━━━━━━━━━━━━━━━━━━━━━━━━━━━━━━━━━━━━━━\u001b[0m \u001b[32m101.7/101.7 kB\u001b[0m \u001b[31m7.7 MB/s\u001b[0m eta \u001b[36m0:00:00\u001b[0m\n",
            "\u001b[?25hDownloading zarr-2.18.3-py3-none-any.whl (210 kB)\n",
            "\u001b[2K   \u001b[90m━━━━━━━━━━━━━━━━━━━━━━━━━━━━━━━━━━━━━━━━\u001b[0m \u001b[32m210.7/210.7 kB\u001b[0m \u001b[31m15.4 MB/s\u001b[0m eta \u001b[36m0:00:00\u001b[0m\n",
            "\u001b[?25hDownloading alembic-1.14.0-py3-none-any.whl (233 kB)\n",
            "\u001b[2K   \u001b[90m━━━━━━━━━━━━━━━━━━━━━━━━━━━━━━━━━━━━━━━━\u001b[0m \u001b[32m233.5/233.5 kB\u001b[0m \u001b[31m17.0 MB/s\u001b[0m eta \u001b[36m0:00:00\u001b[0m\n",
            "\u001b[?25hDownloading docker-7.1.0-py3-none-any.whl (147 kB)\n",
            "\u001b[2K   \u001b[90m━━━━━━━━━━━━━━━━━━━━━━━━━━━━━━━━━━━━━━━━\u001b[0m \u001b[32m147.8/147.8 kB\u001b[0m \u001b[31m10.9 MB/s\u001b[0m eta \u001b[36m0:00:00\u001b[0m\n",
            "\u001b[?25hDownloading filelock-3.11.0-py3-none-any.whl (10.0 kB)\n",
            "Downloading furl-2.1.3-py2.py3-none-any.whl (20 kB)\n",
            "Downloading graphene-3.4.3-py2.py3-none-any.whl (114 kB)\n",
            "\u001b[2K   \u001b[90m━━━━━━━━━━━━━━━━━━━━━━━━━━━━━━━━━━━━━━━━\u001b[0m \u001b[32m114.9/114.9 kB\u001b[0m \u001b[31m9.3 MB/s\u001b[0m eta \u001b[36m0:00:00\u001b[0m\n",
            "\u001b[?25hDownloading gunicorn-23.0.0-py3-none-any.whl (85 kB)\n",
            "\u001b[2K   \u001b[90m━━━━━━━━━━━━━━━━━━━━━━━━━━━━━━━━━━━━━━━━\u001b[0m \u001b[32m85.0/85.0 kB\u001b[0m \u001b[31m6.7 MB/s\u001b[0m eta \u001b[36m0:00:00\u001b[0m\n",
            "\u001b[?25hDownloading json_tricks-3.17.3-py2.py3-none-any.whl (27 kB)\n",
            "Downloading numcodecs-0.13.1-cp310-cp310-manylinux_2_17_x86_64.manylinux2014_x86_64.whl (8.6 MB)\n",
            "\u001b[2K   \u001b[90m━━━━━━━━━━━━━━━━━━━━━━━━━━━━━━━━━━━━━━━━\u001b[0m \u001b[32m8.6/8.6 MB\u001b[0m \u001b[31m92.0 MB/s\u001b[0m eta \u001b[36m0:00:00\u001b[0m\n",
            "\u001b[?25hDownloading pathlib2-2.3.7.post1-py2.py3-none-any.whl (18 kB)\n",
            "Downloading PyJWT-2.8.0-py3-none-any.whl (22 kB)\n",
            "Downloading typeguard-4.1.2-py3-none-any.whl (33 kB)\n",
            "Downloading websockets-14.0-cp310-cp310-manylinux_2_5_x86_64.manylinux1_x86_64.manylinux_2_17_x86_64.manylinux2014_x86_64.whl (167 kB)\n",
            "\u001b[2K   \u001b[90m━━━━━━━━━━━━━━━━━━━━━━━━━━━━━━━━━━━━━━━━\u001b[0m \u001b[32m167.5/167.5 kB\u001b[0m \u001b[31m11.9 MB/s\u001b[0m eta \u001b[36m0:00:00\u001b[0m\n",
            "\u001b[?25hDownloading astor-0.8.1-py2.py3-none-any.whl (27 kB)\n",
            "Downloading colorama-0.4.6-py2.py3-none-any.whl (25 kB)\n",
            "Downloading coloredlogs-15.0.1-py2.py3-none-any.whl (46 kB)\n",
            "\u001b[2K   \u001b[90m━━━━━━━━━━━━━━━━━━━━━━━━━━━━━━━━━━━━━━━━\u001b[0m \u001b[32m46.0/46.0 kB\u001b[0m \u001b[31m3.0 MB/s\u001b[0m eta \u001b[36m0:00:00\u001b[0m\n",
            "\u001b[?25hDownloading colorlog-6.9.0-py3-none-any.whl (11 kB)\n",
            "Downloading fasteners-0.19-py3-none-any.whl (18 kB)\n",
            "Downloading PythonWebHDFS-0.2.3-py3-none-any.whl (10 kB)\n",
            "Downloading responses-0.25.3-py3-none-any.whl (55 kB)\n",
            "\u001b[2K   \u001b[90m━━━━━━━━━━━━━━━━━━━━━━━━━━━━━━━━━━━━━━━━\u001b[0m \u001b[32m55.2/55.2 kB\u001b[0m \u001b[31m3.5 MB/s\u001b[0m eta \u001b[36m0:00:00\u001b[0m\n",
            "\u001b[?25hDownloading schema-0.7.7-py2.py3-none-any.whl (18 kB)\n",
            "Downloading databricks_sdk-0.36.0-py3-none-any.whl (569 kB)\n",
            "\u001b[2K   \u001b[90m━━━━━━━━━━━━━━━━━━━━━━━━━━━━━━━━━━━━━━━━\u001b[0m \u001b[32m569.1/569.1 kB\u001b[0m \u001b[31m28.9 MB/s\u001b[0m eta \u001b[36m0:00:00\u001b[0m\n",
            "\u001b[?25hDownloading graphql_core-3.2.5-py3-none-any.whl (203 kB)\n",
            "\u001b[2K   \u001b[90m━━━━━━━━━━━━━━━━━━━━━━━━━━━━━━━━━━━━━━━━\u001b[0m \u001b[32m203.2/203.2 kB\u001b[0m \u001b[31m13.6 MB/s\u001b[0m eta \u001b[36m0:00:00\u001b[0m\n",
            "\u001b[?25hDownloading graphql_relay-3.2.0-py3-none-any.whl (16 kB)\n",
            "Downloading humanfriendly-10.0-py2.py3-none-any.whl (86 kB)\n",
            "\u001b[2K   \u001b[90m━━━━━━━━━━━━━━━━━━━━━━━━━━━━━━━━━━━━━━━━\u001b[0m \u001b[32m86.8/86.8 kB\u001b[0m \u001b[31m7.1 MB/s\u001b[0m eta \u001b[36m0:00:00\u001b[0m\n",
            "\u001b[?25hDownloading orderedmultidict-1.0.1-py2.py3-none-any.whl (11 kB)\n",
            "Downloading Mako-1.3.6-py3-none-any.whl (78 kB)\n",
            "\u001b[2K   \u001b[90m━━━━━━━━━━━━━━━━━━━━━━━━━━━━━━━━━━━━━━━━\u001b[0m \u001b[32m78.6/78.6 kB\u001b[0m \u001b[31m4.8 MB/s\u001b[0m eta \u001b[36m0:00:00\u001b[0m\n",
            "\u001b[?25hDownloading simplejson-3.19.3-cp310-cp310-manylinux_2_5_x86_64.manylinux1_x86_64.manylinux_2_17_x86_64.manylinux2014_x86_64.whl (137 kB)\n",
            "\u001b[2K   \u001b[90m━━━━━━━━━━━━━━━━━━━━━━━━━━━━━━━━━━━━━━━━\u001b[0m \u001b[32m137.9/137.9 kB\u001b[0m \u001b[31m10.3 MB/s\u001b[0m eta \u001b[36m0:00:00\u001b[0m\n",
            "\u001b[?25hBuilding wheels for collected packages: fire, asciitree\n",
            "  Building wheel for fire (setup.py) ... \u001b[?25l\u001b[?25hdone\n",
            "  Created wheel for fire: filename=fire-0.7.0-py3-none-any.whl size=114249 sha256=4eb08ac362457307378de93d70f889bf8670c3230599b7b421a9caabcd6a64c3\n",
            "  Stored in directory: /root/.cache/pip/wheels/19/39/2f/2d3cadc408a8804103f1c34ddd4b9f6a93497b11fa96fe738e\n",
            "  Building wheel for asciitree (setup.py) ... \u001b[?25l\u001b[?25hdone\n",
            "  Created wheel for asciitree: filename=asciitree-0.3.3-py3-none-any.whl size=5034 sha256=bbb3c92dd64c91bea4b29d0071a79b98e1846f578b86869de1e94dafeef0a6c3\n",
            "  Stored in directory: /root/.cache/pip/wheels/7f/4e/be/1171b40f43b918087657ec57cf3b81fa1a2e027d8755baa184\n",
            "Successfully built fire asciitree\n",
            "Installing collected packages: schema, nvidia-ml-py, ninja, lmdb, json-tricks, asciitree, websockets, typeguard, tensorboardX, simplejson, pynrrd, pyjwt, pydicom, pathlib2, orderedmultidict, openslide-python, onnx, numcodecs, Mako, itk-core, imagecodecs, humanfriendly, gunicorn, graphql-core, fire, filelock, fasteners, colorlog, colorama, astor, zarr, responses, PythonWebHDFS, pyamg, itk-numerics, itk-io, graphql-relay, furl, docker, coloredlogs, alembic, pytorch-ignite, optuna, onnxruntime, nni, monai, itk-filtering, graphene, databricks-sdk, cucim-cu12, transformers, mlflow-skinny, lpips, itk-segmentation, itk-registration, clearml, mlflow, itk\n",
            "  Attempting uninstall: typeguard\n",
            "    Found existing installation: typeguard 4.4.0\n",
            "    Uninstalling typeguard-4.4.0:\n",
            "      Successfully uninstalled typeguard-4.4.0\n",
            "  Attempting uninstall: pyjwt\n",
            "    Found existing installation: PyJWT 2.9.0\n",
            "    Uninstalling PyJWT-2.9.0:\n",
            "      Successfully uninstalled PyJWT-2.9.0\n",
            "  Attempting uninstall: filelock\n",
            "    Found existing installation: filelock 3.16.1\n",
            "    Uninstalling filelock-3.16.1:\n",
            "      Successfully uninstalled filelock-3.16.1\n",
            "  Attempting uninstall: transformers\n",
            "    Found existing installation: transformers 4.44.2\n",
            "    Uninstalling transformers-4.44.2:\n",
            "      Successfully uninstalled transformers-4.44.2\n",
            "\u001b[31mERROR: pip's dependency resolver does not currently take into account all the packages that are installed. This behaviour is the source of the following dependency conflicts.\n",
            "pytensor 2.25.5 requires filelock>=3.15, but you have filelock 3.11.0 which is incompatible.\n",
            "sentence-transformers 3.2.1 requires transformers<5.0.0,>=4.41.0, but you have transformers 4.40.2 which is incompatible.\u001b[0m\u001b[31m\n",
            "\u001b[0mSuccessfully installed Mako-1.3.6 PythonWebHDFS-0.2.3 alembic-1.14.0 asciitree-0.3.3 astor-0.8.1 clearml-1.16.5 colorama-0.4.6 coloredlogs-15.0.1 colorlog-6.9.0 cucim-cu12-24.10.0 databricks-sdk-0.36.0 docker-7.1.0 fasteners-0.19 filelock-3.11.0 fire-0.7.0 furl-2.1.3 graphene-3.4.3 graphql-core-3.2.5 graphql-relay-3.2.0 gunicorn-23.0.0 humanfriendly-10.0 imagecodecs-2024.9.22 itk-5.4.0 itk-core-5.4.0 itk-filtering-5.4.0 itk-io-5.4.0 itk-numerics-5.4.0 itk-registration-5.4.0 itk-segmentation-5.4.0 json-tricks-3.17.3 lmdb-1.5.1 lpips-0.1.4 mlflow-2.17.2 mlflow-skinny-2.17.2 monai-1.4.0 ninja-1.11.1.1 nni-3.0 numcodecs-0.13.1 nvidia-ml-py-12.560.30 onnx-1.17.0 onnxruntime-1.20.0 openslide-python-1.4.1 optuna-4.0.0 orderedmultidict-1.0.1 pathlib2-2.3.7.post1 pyamg-5.2.1 pydicom-3.0.1 pyjwt-2.8.0 pynrrd-1.1.1 pytorch-ignite-0.4.11 responses-0.25.3 schema-0.7.7 simplejson-3.19.3 tensorboardX-2.6.2.2 transformers-4.40.2 typeguard-4.1.2 websockets-14.0 zarr-2.18.3\n"
          ]
        }
      ],
      "source": [
        "!pip install monai[all]"
      ]
    },
    {
      "cell_type": "markdown",
      "metadata": {
        "id": "AZjPdajL1mn0"
      },
      "source": [
        "## Download Data"
      ]
    },
    {
      "cell_type": "code",
      "execution_count": null,
      "metadata": {
        "colab": {
          "base_uri": "https://localhost:8080/"
        },
        "id": "ZouMxrCoucWM",
        "outputId": "8af9df9c-07c2-4209-92b8-5ceed755e914"
      },
      "outputs": [
        {
          "output_type": "stream",
          "name": "stdout",
          "text": [
            "Collecting medmnist\n",
            "  Downloading medmnist-3.0.2-py3-none-any.whl.metadata (14 kB)\n",
            "Requirement already satisfied: numpy in /usr/local/lib/python3.10/dist-packages (from medmnist) (1.26.4)\n",
            "Requirement already satisfied: pandas in /usr/local/lib/python3.10/dist-packages (from medmnist) (2.2.2)\n",
            "Requirement already satisfied: scikit-learn in /usr/local/lib/python3.10/dist-packages (from medmnist) (1.5.2)\n",
            "Requirement already satisfied: scikit-image in /usr/local/lib/python3.10/dist-packages (from medmnist) (0.24.0)\n",
            "Requirement already satisfied: tqdm in /usr/local/lib/python3.10/dist-packages (from medmnist) (4.66.6)\n",
            "Requirement already satisfied: Pillow in /usr/local/lib/python3.10/dist-packages (from medmnist) (10.4.0)\n",
            "Requirement already satisfied: fire in /usr/local/lib/python3.10/dist-packages (from medmnist) (0.7.0)\n",
            "Requirement already satisfied: torch in /usr/local/lib/python3.10/dist-packages (from medmnist) (2.5.0+cu121)\n",
            "Requirement already satisfied: torchvision in /usr/local/lib/python3.10/dist-packages (from medmnist) (0.20.0+cu121)\n",
            "Requirement already satisfied: termcolor in /usr/local/lib/python3.10/dist-packages (from fire->medmnist) (2.5.0)\n",
            "Requirement already satisfied: python-dateutil>=2.8.2 in /usr/local/lib/python3.10/dist-packages (from pandas->medmnist) (2.8.2)\n",
            "Requirement already satisfied: pytz>=2020.1 in /usr/local/lib/python3.10/dist-packages (from pandas->medmnist) (2024.2)\n",
            "Requirement already satisfied: tzdata>=2022.7 in /usr/local/lib/python3.10/dist-packages (from pandas->medmnist) (2024.2)\n",
            "Requirement already satisfied: scipy>=1.9 in /usr/local/lib/python3.10/dist-packages (from scikit-image->medmnist) (1.13.1)\n",
            "Requirement already satisfied: networkx>=2.8 in /usr/local/lib/python3.10/dist-packages (from scikit-image->medmnist) (3.4.2)\n",
            "Requirement already satisfied: imageio>=2.33 in /usr/local/lib/python3.10/dist-packages (from scikit-image->medmnist) (2.36.0)\n",
            "Requirement already satisfied: tifffile>=2022.8.12 in /usr/local/lib/python3.10/dist-packages (from scikit-image->medmnist) (2024.9.20)\n",
            "Requirement already satisfied: packaging>=21 in /usr/local/lib/python3.10/dist-packages (from scikit-image->medmnist) (24.1)\n",
            "Requirement already satisfied: lazy-loader>=0.4 in /usr/local/lib/python3.10/dist-packages (from scikit-image->medmnist) (0.4)\n",
            "Requirement already satisfied: joblib>=1.2.0 in /usr/local/lib/python3.10/dist-packages (from scikit-learn->medmnist) (1.4.2)\n",
            "Requirement already satisfied: threadpoolctl>=3.1.0 in /usr/local/lib/python3.10/dist-packages (from scikit-learn->medmnist) (3.5.0)\n",
            "Requirement already satisfied: filelock in /usr/local/lib/python3.10/dist-packages (from torch->medmnist) (3.11.0)\n",
            "Requirement already satisfied: typing-extensions>=4.8.0 in /usr/local/lib/python3.10/dist-packages (from torch->medmnist) (4.12.2)\n",
            "Requirement already satisfied: jinja2 in /usr/local/lib/python3.10/dist-packages (from torch->medmnist) (3.1.4)\n",
            "Requirement already satisfied: fsspec in /usr/local/lib/python3.10/dist-packages (from torch->medmnist) (2024.10.0)\n",
            "Requirement already satisfied: sympy==1.13.1 in /usr/local/lib/python3.10/dist-packages (from torch->medmnist) (1.13.1)\n",
            "Requirement already satisfied: mpmath<1.4,>=1.1.0 in /usr/local/lib/python3.10/dist-packages (from sympy==1.13.1->torch->medmnist) (1.3.0)\n",
            "Requirement already satisfied: six>=1.5 in /usr/local/lib/python3.10/dist-packages (from python-dateutil>=2.8.2->pandas->medmnist) (1.16.0)\n",
            "Requirement already satisfied: MarkupSafe>=2.0 in /usr/local/lib/python3.10/dist-packages (from jinja2->torch->medmnist) (3.0.2)\n",
            "Downloading medmnist-3.0.2-py3-none-any.whl (25 kB)\n",
            "Installing collected packages: medmnist\n",
            "Successfully installed medmnist-3.0.2\n"
          ]
        }
      ],
      "source": [
        "!pip install medmnist"
      ]
    },
    {
      "cell_type": "code",
      "execution_count": null,
      "metadata": {
        "id": "mXWqFxqCured"
      },
      "outputs": [],
      "source": [
        "from medmnist import PneumoniaMNIST"
      ]
    },
    {
      "cell_type": "code",
      "execution_count": null,
      "metadata": {
        "colab": {
          "base_uri": "https://localhost:8080/"
        },
        "id": "onsTQY7G2F-Z",
        "outputId": "ee42f24f-b591-4205-f792-6d02c4f190ce"
      },
      "outputs": [
        {
          "output_type": "stream",
          "name": "stdout",
          "text": [
            "/content\n"
          ]
        }
      ],
      "source": [
        "import os\n",
        "dir_path = os.getcwd()\n",
        "print(dir_path)"
      ]
    },
    {
      "cell_type": "code",
      "execution_count": null,
      "metadata": {
        "colab": {
          "base_uri": "https://localhost:8080/"
        },
        "id": "zF0c2KIZuvNU",
        "outputId": "59f5dab3-8630-4dae-d2a9-339c678115f5"
      },
      "outputs": [
        {
          "output_type": "stream",
          "name": "stdout",
          "text": [
            "Downloading https://zenodo.org/records/10519652/files/pneumoniamnist.npz?download=1 to /content/pneumoniamnist.npz\n"
          ]
        },
        {
          "output_type": "stream",
          "name": "stderr",
          "text": [
            "100%|██████████| 4.17M/4.17M [00:00<00:00, 4.36MB/s]\n"
          ]
        },
        {
          "output_type": "stream",
          "name": "stdout",
          "text": [
            "Downloading https://zenodo.org/records/10519652/files/pneumoniamnist.npz?download=1 to /root/.medmnist/pneumoniamnist.npz\n"
          ]
        },
        {
          "output_type": "stream",
          "name": "stderr",
          "text": [
            "100%|██████████| 4.17M/4.17M [00:00<00:00, 4.51MB/s]"
          ]
        },
        {
          "output_type": "stream",
          "name": "stdout",
          "text": [
            "Using downloaded and verified file: /root/.medmnist/pneumoniamnist.npz\n"
          ]
        },
        {
          "output_type": "stream",
          "name": "stderr",
          "text": [
            "\n"
          ]
        }
      ],
      "source": [
        "data_train = PneumoniaMNIST(root=dir_path, split='train',download=True)\n",
        "data_val = PneumoniaMNIST(split='val', download=True)\n",
        "data_test = PneumoniaMNIST(split='test', download=True)"
      ]
    },
    {
      "cell_type": "code",
      "execution_count": null,
      "metadata": {
        "colab": {
          "base_uri": "https://localhost:8080/"
        },
        "id": "Fg2Dr26R6H30",
        "outputId": "1be38d6d-8843-4902-c61c-dbd5715ad0e5"
      },
      "outputs": [
        {
          "output_type": "stream",
          "name": "stdout",
          "text": [
            "{'python_class': 'PneumoniaMNIST', 'description': 'The PneumoniaMNIST is based on a prior dataset of 5,856 pediatric chest X-Ray images. The task is binary-class classification of pneumonia against normal. We split the source training set with a ratio of 9:1 into training and validation set and use its source validation set as the test set. The source images are gray-scale, and their sizes are (384−2,916)×(127−2,713). We center-crop the images and resize them into 1×28×28.', 'url': 'https://zenodo.org/records/10519652/files/pneumoniamnist.npz?download=1', 'MD5': '28209eda62fecd6e6a2d98b1501bb15f', 'url_64': 'https://zenodo.org/records/10519652/files/pneumoniamnist_64.npz?download=1', 'MD5_64': '8f4eceb4ccffa70c672198ea285246c6', 'url_128': 'https://zenodo.org/records/10519652/files/pneumoniamnist_128.npz?download=1', 'MD5_128': '05b46931834c231683c68f40c47b2971', 'url_224': 'https://zenodo.org/records/10519652/files/pneumoniamnist_224.npz?download=1', 'MD5_224': 'd6a3c71de1b945ea11211b03746c1fe1', 'task': 'binary-class', 'label': {'0': 'normal', '1': 'pneumonia'}, 'n_channels': 1, 'n_samples': {'train': 4708, 'val': 524, 'test': 624}, 'license': 'CC BY 4.0'}\n"
          ]
        }
      ],
      "source": [
        "print(data_train.info)"
      ]
    },
    {
      "cell_type": "code",
      "execution_count": null,
      "metadata": {
        "colab": {
          "base_uri": "https://localhost:8080/"
        },
        "id": "wwuLUQtdu0Xk",
        "outputId": "3ca124bc-2fb0-4a12-f11e-766d57ccde33"
      },
      "outputs": [
        {
          "output_type": "stream",
          "name": "stdout",
          "text": [
            "Archive:  /content/pneumoniamnist.npz\n",
            "  inflating: /content/pneumoniamnist/train_images.npy  \n",
            "  inflating: /content/pneumoniamnist/val_images.npy  \n",
            "  inflating: /content/pneumoniamnist/test_images.npy  \n",
            "  inflating: /content/pneumoniamnist/train_labels.npy  \n",
            "  inflating: /content/pneumoniamnist/val_labels.npy  \n",
            "  inflating: /content/pneumoniamnist/test_labels.npy  \n"
          ]
        }
      ],
      "source": [
        "!unzip /content/pneumoniamnist.npz -d /content/pneumoniamnist"
      ]
    },
    {
      "cell_type": "code",
      "execution_count": null,
      "metadata": {
        "id": "5Nol62FxyIHM",
        "colab": {
          "base_uri": "https://localhost:8080/"
        },
        "outputId": "a55fb49d-aca5-43bd-8809-a1d8c39e9122"
      },
      "outputs": [
        {
          "output_type": "stream",
          "name": "stdout",
          "text": [
            "/content/pneumoniamnist\n",
            "test_labels.npy\n",
            "val_images.npy\n",
            "train_labels.npy\n",
            "train_images.npy\n",
            "val_labels.npy\n",
            "test_images.npy\n"
          ]
        }
      ],
      "source": [
        "\n",
        "data_dir=\"/content/pneumoniamnist\"\n",
        "print(data_dir)\n",
        "\n",
        "for files in os.listdir(data_dir):\n",
        "    print(files)"
      ]
    },
    {
      "cell_type": "markdown",
      "metadata": {
        "id": "STwhxmzwHMi5"
      },
      "source": [
        "## Data preparation"
      ]
    },
    {
      "cell_type": "markdown",
      "metadata": {
        "id": "BkU3dG4Y4rKQ"
      },
      "source": [
        "* Below cell prints the total number of classes in train dataset, class names, and the number of images per class."
      ]
    },
    {
      "cell_type": "code",
      "execution_count": null,
      "metadata": {
        "id": "QgGHGJUMHMi6",
        "colab": {
          "base_uri": "https://localhost:8080/"
        },
        "outputId": "c2a683bf-48ed-4531-e82f-26577772305f"
      },
      "outputs": [
        {
          "output_type": "stream",
          "name": "stdout",
          "text": [
            "train_images shape: (4708, 28, 28)\n",
            "train_labels shape: (4708, 1)\n"
          ]
        }
      ],
      "source": [
        "import numpy as np\n",
        "\n",
        "train_images = np.load('/content/pneumoniamnist/train_images.npy')\n",
        "train_label = np.load('/content/pneumoniamnist/train_labels.npy')\n",
        "\n",
        "print(\"train_images shape:\", train_images.shape)\n",
        "print(\"train_labels shape:\", train_label.shape)"
      ]
    },
    {
      "cell_type": "code",
      "execution_count": null,
      "metadata": {
        "id": "Y63oif_H6kja",
        "colab": {
          "base_uri": "https://localhost:8080/"
        },
        "outputId": "f5f147df-15cf-4ae3-97f5-0536a6c12745"
      },
      "outputs": [
        {
          "output_type": "stream",
          "name": "stdout",
          "text": [
            "4708\n"
          ]
        }
      ],
      "source": [
        "from monai.data import Dataset                                      # Prepare data for MONAI Dataset\n",
        "\n",
        "train_files = [{'image': img} for img in train_images]\n",
        "print(len(train_files))\n",
        "\n",
        "train_dataset = Dataset(data=train_files, transform=None)           # Create a MONAI Dataset"
      ]
    },
    {
      "cell_type": "code",
      "execution_count": null,
      "metadata": {
        "id": "G94XhSMs7j8K",
        "colab": {
          "base_uri": "https://localhost:8080/"
        },
        "outputId": "1a92f1e9-4e98-4f9b-a0b1-82a77473e99f"
      },
      "outputs": [
        {
          "output_type": "stream",
          "name": "stdout",
          "text": [
            "The length of train dataset is: 4708\n",
            "The size of the image is: (28, 28) with type <class 'numpy.ndarray'>\n"
          ]
        }
      ],
      "source": [
        "print(f\"The length of train dataset is: {len(train_dataset)}\")\n",
        "print(f\"The size of the image is: {train_dataset[0]['image'].shape} with type {type(train_dataset[0]['image'])}\")"
      ]
    },
    {
      "cell_type": "markdown",
      "metadata": {
        "id": "muIMIedz8SF4"
      },
      "source": [
        "### Data Visualization"
      ]
    },
    {
      "cell_type": "code",
      "execution_count": null,
      "metadata": {
        "id": "3s2atMRz8UNl",
        "colab": {
          "base_uri": "https://localhost:8080/",
          "height": 807
        },
        "outputId": "c224b26e-081b-4160-baad-628a76cc440f"
      },
      "outputs": [
        {
          "output_type": "display_data",
          "data": {
            "text/plain": [
              "<Figure size 800x800 with 9 Axes>"
            ],
            "image/png": "[encoded data removed]"
          },
          "metadata": {}
        }
      ],
      "source": [
        "import matplotlib.pyplot as plt\n",
        "import random\n",
        "import numpy as np\n",
        "\n",
        "# Select 9 random images from the training dataset\n",
        "random_indices = random.sample(range(len(train_dataset)), 9)\n",
        "images = [train_dataset[i]['image'] for i in random_indices]\n",
        "labels = [train_label[i].item() for i in random_indices]  # Assuming train_label contains labels\n",
        "\n",
        "# Create a 3x3 subplot grid\n",
        "fig, axes = plt.subplots(3, 3, figsize=(8, 8))\n",
        "\n",
        "# Plot each image in the subplot with title\n",
        "for i, ax in enumerate(axes.flat):\n",
        "    ax.imshow(np.transpose(images[i]), cmap='gray')\n",
        "    ax.set_title(f\"Label: {labels[i]}\")  # Add title with label\n",
        "    ax.axis('off')\n",
        "\n",
        "plt.tight_layout()\n",
        "plt.show()"
      ]
    },
    {
      "cell_type": "markdown",
      "source": [
        "### Data distribution"
      ],
      "metadata": {
        "id": "JynNFXSFpGml"
      }
    },
    {
      "cell_type": "code",
      "source": [
        "# Count the occurrences of each class in the training set\n",
        "train_class_counts = np.bincount(train_label.flatten().astype(int))\n",
        "\n",
        "# Assuming class 0 is 'normal' and class 1 is 'pneumonia'\n",
        "class_names = ['normal', 'pneumonia']\n",
        "\n",
        "\n",
        "# Repeat the process for validation and test sets\n",
        "val_labels = np.load('/content/pneumoniamnist/val_labels.npy')\n",
        "test_labels = np.load('/content/pneumoniamnist/test_labels.npy')\n",
        "\n",
        "val_class_counts = np.bincount(val_labels.flatten().astype(int))\n",
        "test_class_counts = np.bincount(test_labels.flatten().astype(int))\n",
        "\n",
        "import matplotlib.pyplot as plt\n",
        "import numpy as np\n",
        "\n",
        "# ... (your existing code to load and process data) ...\n",
        "\n",
        "# Define bar width and positions\n",
        "bar_width = 0.25\n",
        "x_positions = np.arange(len(class_names))\n",
        "\n",
        "# Create the bar plot\n",
        "plt.figure(figsize=(10, 6))\n",
        "\n",
        "plt.bar(x_positions - bar_width, train_class_counts, width=bar_width, label='Train', color='skyblue')\n",
        "plt.bar(x_positions, val_class_counts, width=bar_width, label='Validation', color='orange')\n",
        "plt.bar(x_positions + bar_width, test_class_counts, width=bar_width, label='Test', color='lightgreen')\n",
        "\n",
        "# Set labels, title, and legend\n",
        "plt.xlabel('Class')\n",
        "plt.ylabel('Number of Images')\n",
        "plt.title('Data Distribution Across Datasets')\n",
        "plt.xticks(x_positions, class_names)  # Set x-axis tick labels\n",
        "plt.legend()\n",
        "\n",
        "# Display the plot\n",
        "plt.tight_layout()\n",
        "plt.show()"
      ],
      "metadata": {
        "colab": {
          "base_uri": "https://localhost:8080/",
          "height": 607
        },
        "id": "bcKXIUUtpKh9",
        "outputId": "233cb67c-bd95-450e-96f5-ac3930f14ecc"
      },
      "execution_count": null,
      "outputs": [
        {
          "output_type": "display_data",
          "data": {
            "text/plain": [
              "<Figure size 1000x600 with 1 Axes>"
            ],
            "image/png": "[encoded data removed]"
          },
          "metadata": {}
        }
      ]
    },
    {
      "cell_type": "markdown",
      "metadata": {
        "id": "AdVzPjZBBSXR"
      },
      "source": [
        "### Transforms"
      ]
    },
    {
      "cell_type": "code",
      "execution_count": null,
      "metadata": {
        "id": "FHtiw3-ABUhU"
      },
      "outputs": [],
      "source": [
        "from monai.transforms import (\n",
        "    Compose,\n",
        "    LoadImaged,  # Import LoadImaged for dictionary-based input\n",
        "    RandRotate,\n",
        "    RandFlip,\n",
        "    ToTensor,\n",
        "    EnsureChannelFirstd, # Use EnsureChannelFirstd to work with dictionary\n",
        "    ScaleIntensityd, # Use ScaleIntensityd to work with dictionary\n",
        "    EnsureTyped, # Add this\n",
        "    Resized,\n",
        "    BorderPadd # Use BorderPadd for dictionary-based input\n",
        ")\n",
        "from monai.data import Dataset, NumpyReader\n",
        "\n",
        "# Define transforms for training data\n",
        "train_transforms = Compose([\n",
        "    ToTensor(),\n",
        "    EnsureChannelFirstd(keys=['image'], channel_dim=\"no_channel\"),  # Add channel dimension to the image data using the 'image' key\n",
        "    ScaleIntensityd(keys=['image']),  # Rescale image pixel values using the 'image' key\n",
        "    EnsureTyped(keys=['image']),\n",
        "    # Resized(keys=[\"image\"],spatial_size=(32,32)),\n",
        "    BorderPadd(keys=[\"image\"],spatial_border=[2, 2]), # Use a list of two integers for padding (height, width) or a single integer for both.\n",
        "    ToTensor(),\n",
        "])\n",
        "\n",
        "train_ds = Dataset(data=train_dataset, transform=train_transforms)\n",
        "train_label = np.load('/content/pneumoniamnist/train_labels.npy')\n",
        "train_label = ToTensor()(train_label)"
      ]
    },
    {
      "cell_type": "code",
      "execution_count": null,
      "metadata": {
        "id": "Qqpr1D_kBwG2",
        "colab": {
          "base_uri": "https://localhost:8080/"
        },
        "outputId": "cfa46852-0ce0-4994-bf70-4d8ea94e36a8"
      },
      "outputs": [
        {
          "output_type": "stream",
          "name": "stdout",
          "text": [
            "The length of train dataset is: 4708\n",
            "The size of the image is: torch.Size([1, 32, 32]) with type <class 'monai.data.meta_tensor.MetaTensor'>\n",
            "The size of the label is: torch.Size([4708, 1]) with type <class 'monai.data.meta_tensor.MetaTensor'>\n"
          ]
        }
      ],
      "source": [
        "print(f\"The length of train dataset is: {len(train_ds)}\")\n",
        "print(f\"The size of the image is: {train_ds[0]['image'].shape} with type {type(train_ds[0]['image'])}\")\n",
        "print(f\"The size of the label is: {train_label.shape} with type {type(train_label)}\")"
      ]
    },
    {
      "cell_type": "code",
      "source": [
        "val_images = np.load('/content/pneumoniamnist/val_images.npy')\n",
        "val_labels = np.load('/content/pneumoniamnist/val_labels.npy')\n",
        "\n",
        "val_files = [{'image': img} for img in val_images]\n",
        "\n",
        "val_transforms = Compose([\n",
        "    ToTensor(),\n",
        "    EnsureChannelFirstd(keys=['image'], channel_dim=\"no_channel\"),\n",
        "    ScaleIntensityd(keys=['image']),\n",
        "    EnsureTyped(keys=['image']),\n",
        "    # Resized(keys=[\"image\"],spatial_size=(32,32)),\n",
        "    BorderPadd(keys=[\"image\"],spatial_border=[2,2]), # Changed BorderPad to BorderPadd\n",
        "])\n",
        "\n",
        "val_ds = Dataset(data=val_files, transform=val_transforms)\n",
        "val_label = np.load('/content/pneumoniamnist/val_labels.npy')\n",
        "val_label = ToTensor()(val_label)"
      ],
      "metadata": {
        "id": "uyN0g7iztQvA"
      },
      "execution_count": null,
      "outputs": []
    },
    {
      "cell_type": "code",
      "source": [
        "print(f\"The length of val dataset is: {len(val_ds)}\")\n",
        "print(f\"The size of the image is: {val_ds[0]['image'].shape} with type {type(val_ds[0]['image'])}\")\n",
        "print(f\"The size of the label is: {val_label.shape} with type {type(val_label)}\")"
      ],
      "metadata": {
        "colab": {
          "base_uri": "https://localhost:8080/"
        },
        "id": "zy-QrlXnvaFD",
        "outputId": "be67e957-55d4-4afb-adee-84256523e476"
      },
      "execution_count": null,
      "outputs": [
        {
          "output_type": "stream",
          "name": "stdout",
          "text": [
            "The length of val dataset is: 524\n",
            "The size of the image is: torch.Size([1, 32, 32]) with type <class 'monai.data.meta_tensor.MetaTensor'>\n",
            "The size of the label is: torch.Size([524, 1]) with type <class 'monai.data.meta_tensor.MetaTensor'>\n"
          ]
        }
      ]
    },
    {
      "cell_type": "markdown",
      "metadata": {
        "id": "vRVNZNHj8N-H"
      },
      "source": [
        "### DataLoader"
      ]
    },
    {
      "cell_type": "code",
      "execution_count": null,
      "metadata": {
        "id": "cmKmrDk6HMi9"
      },
      "outputs": [],
      "source": [
        "from monai.data import DataLoader\n",
        "import numpy as np\n",
        "import torch"
      ]
    },
    {
      "cell_type": "code",
      "execution_count": null,
      "metadata": {
        "id": "3yeaP_TGEQ7Y"
      },
      "outputs": [],
      "source": [
        "train_loader = DataLoader(\n",
        "    dataset=list(zip(train_ds, train_label)),  # Use zip to create pairs of (image, label)\n",
        "    batch_size=32,\n",
        "    shuffle=True,\n",
        "    num_workers=2\n",
        ")"
      ]
    },
    {
      "cell_type": "code",
      "execution_count": null,
      "metadata": {
        "id": "3P1sKftxH08Y",
        "colab": {
          "base_uri": "https://localhost:8080/"
        },
        "outputId": "3b8ecd25-3ac9-4531-8195-3aeaa3f92b83"
      },
      "outputs": [
        {
          "output_type": "stream",
          "name": "stdout",
          "text": [
            "148\n",
            "torch.Size([32, 1, 32, 32]) torch.Size([32, 1])\n"
          ]
        }
      ],
      "source": [
        "print(len(train_loader))\n",
        "\n",
        "# Iterate through the DataLoader using a for loop\n",
        "for batch_data in train_loader:\n",
        "    # Access the batch data (images and labels)\n",
        "    images, labels = batch_data\n",
        "    # Now you can print or process the data in the batch\n",
        "    print(images['image'].shape, labels.shape)  # Example: print the shape of images and labels\n",
        "    break  # Exit the loop after processing the first batch"
      ]
    },
    {
      "cell_type": "code",
      "execution_count": null,
      "metadata": {
        "id": "tfcQ11MyFmJS"
      },
      "outputs": [],
      "source": [
        "val_loader = DataLoader(\n",
        "    dataset=list(zip(val_ds, val_label)),\n",
        "    batch_size=32,\n",
        "    shuffle=False,\n",
        "    num_workers=2\n",
        ")"
      ]
    },
    {
      "cell_type": "markdown",
      "metadata": {
        "id": "VJMrXOKsHMi_"
      },
      "source": [
        "## Model and parameters"
      ]
    },
    {
      "cell_type": "code",
      "execution_count": null,
      "metadata": {
        "id": "uPOEMdXKlZax"
      },
      "outputs": [],
      "source": [
        "from monai.networks.nets import DenseNet\n",
        "from monai.losses import DiceCELoss\n",
        "from monai.metrics import ROCAUCMetric\n",
        "import sklearn\n",
        "\n",
        "device= torch.device(\"cuda\" if torch.cuda.is_available() else 'cpu')\n",
        "if(device == \"cpu\"): print(\"using CPU\")\n",
        "\n",
        "model = DenseNet(spatial_dims=2, in_channels=1, out_channels=2).to(device)     #Declare the model\n",
        "loss_function=DiceCELoss(to_onehot_y=True,lambda_dice=0,lambda_ce=1)           #Loss function declaration\n",
        "optimizer= torch.optim.Adam(model.parameters(), 1e-3)\n",
        "max_epochs=5\n",
        "val_interval=1\n",
        "auc_metric = ROCAUCMetric()\n",
        "class_names = ['normal', 'pneumonia']\n",
        "\n",
        "from monai.transforms import AsDiscrete, Activations\n",
        "y_pred_trans = Activations(softmax=True)                          #added y_pred_trans for softmax\n",
        "y_trans = AsDiscrete(to_onehot=2)                                 #added y_trans for one_hot"
      ]
    },
    {
      "cell_type": "markdown",
      "metadata": {
        "id": "ym1UHXv1HMi_"
      },
      "source": [
        "## Training & Validation"
      ]
    },
    {
      "cell_type": "markdown",
      "metadata": {
        "id": "tB8K4SkQ6M3N"
      },
      "source": [
        "* Below cell trains model on train dataset and validate the model on validation dataset."
      ]
    },
    {
      "cell_type": "code",
      "execution_count": null,
      "metadata": {
        "id": "sG7jmcLyHMi_",
        "colab": {
          "base_uri": "https://localhost:8080/"
        },
        "outputId": "20ea38e1-7ea4-4cc4-e6f3-d0bf7fa72f4d"
      },
      "outputs": [
        {
          "output_type": "stream",
          "name": "stdout",
          "text": [
            "----------\n",
            "epoch 1/5\n"
          ]
        },
        {
          "output_type": "stream",
          "name": "stderr",
          "text": [
            "100%|██████████| 148/148 [02:04<00:00,  1.19it/s]"
          ]
        },
        {
          "output_type": "stream",
          "name": "stdout",
          "text": [
            "epoch 1 average loss: 0.1743\n"
          ]
        },
        {
          "output_type": "stream",
          "name": "stderr",
          "text": [
            "\n"
          ]
        },
        {
          "output_type": "stream",
          "name": "stdout",
          "text": [
            "saved new best metric model\n",
            "current epoch: 1 current AUC: 0.9937 current accuracy: 0.9561 best AUC: 0.9937 at epoch: 1\n",
            "----------\n",
            "epoch 2/5\n"
          ]
        },
        {
          "output_type": "stream",
          "name": "stderr",
          "text": [
            "100%|██████████| 148/148 [02:05<00:00,  1.18it/s]"
          ]
        },
        {
          "output_type": "stream",
          "name": "stdout",
          "text": [
            "epoch 2 average loss: 0.1216\n"
          ]
        },
        {
          "output_type": "stream",
          "name": "stderr",
          "text": [
            "\n"
          ]
        },
        {
          "output_type": "stream",
          "name": "stdout",
          "text": [
            "current epoch: 2 current AUC: 0.9923 current accuracy: 0.9561 best AUC: 0.9937 at epoch: 1\n",
            "----------\n",
            "epoch 3/5\n"
          ]
        },
        {
          "output_type": "stream",
          "name": "stderr",
          "text": [
            "100%|██████████| 148/148 [03:14<00:00,  1.31s/it]"
          ]
        },
        {
          "output_type": "stream",
          "name": "stdout",
          "text": [
            "epoch 3 average loss: 0.1014\n"
          ]
        },
        {
          "output_type": "stream",
          "name": "stderr",
          "text": [
            "\n"
          ]
        },
        {
          "output_type": "stream",
          "name": "stdout",
          "text": [
            "current epoch: 3 current AUC: 0.9862 current accuracy: 0.9504 best AUC: 0.9937 at epoch: 1\n",
            "----------\n",
            "epoch 4/5\n"
          ]
        },
        {
          "output_type": "stream",
          "name": "stderr",
          "text": [
            "100%|██████████| 148/148 [02:04<00:00,  1.19it/s]"
          ]
        },
        {
          "output_type": "stream",
          "name": "stdout",
          "text": [
            "epoch 4 average loss: 0.1270\n"
          ]
        },
        {
          "output_type": "stream",
          "name": "stderr",
          "text": [
            "\n"
          ]
        },
        {
          "output_type": "stream",
          "name": "stdout",
          "text": [
            "saved new best metric model\n",
            "current epoch: 4 current AUC: 0.9943 current accuracy: 0.8912 best AUC: 0.9943 at epoch: 4\n",
            "----------\n",
            "epoch 5/5\n"
          ]
        },
        {
          "output_type": "stream",
          "name": "stderr",
          "text": [
            "100%|██████████| 148/148 [02:10<00:00,  1.13it/s]"
          ]
        },
        {
          "output_type": "stream",
          "name": "stdout",
          "text": [
            "epoch 5 average loss: 0.1057\n"
          ]
        },
        {
          "output_type": "stream",
          "name": "stderr",
          "text": [
            "\n"
          ]
        },
        {
          "output_type": "stream",
          "name": "stdout",
          "text": [
            "current epoch: 5 current AUC: 0.9894 current accuracy: 0.9141 best AUC: 0.9943 at epoch: 4\n",
            "train completed, best_metric: 0.9943 at epoch: 4\n"
          ]
        }
      ],
      "source": [
        "from monai.data import decollate_batch\n",
        "from sklearn.metrics import accuracy_score\n",
        "from tqdm import tqdm\n",
        "best_metric = -1\n",
        "best_metric_epoch = -1\n",
        "epoch_loss_values = []\n",
        "metric_values = []\n",
        "\n",
        "\n",
        "\n",
        "for epoch in range(max_epochs):                                                                   #Iteration of for loop through multiple epochs\n",
        "    print(\"-\" * 10)\n",
        "    print(f\"epoch {epoch + 1}/{max_epochs}\")\n",
        "    model.train()\n",
        "    epoch_loss = 0\n",
        "    step = 0\n",
        "    for batch_data in tqdm(train_loader):                                                                              #Iteration of all the data in train loader\n",
        "        step += 1\n",
        "        inputs, labels = batch_data\n",
        "        inputs = inputs[\"image\"].to(device)\n",
        "        labels = labels.to(device)\n",
        "        optimizer.zero_grad()\n",
        "        outputs = model(inputs)                                                                                 #Predicting the outputs from the model\n",
        "        loss = loss_function(outputs, labels)                                                                   #Computing the loss for each batch\n",
        "        loss.backward()\n",
        "        optimizer.step()\n",
        "        epoch_loss += loss.item()\n",
        "        # print(f\"{step}/{len(train_ds) // train_loader.batch_size}, \" f\"train_loss: {loss.item():.4f}\")\n",
        "        epoch_len = len(train_ds) // train_loader.batch_size\n",
        "    epoch_loss /= step\n",
        "    epoch_loss_values.append(epoch_loss)\n",
        "    print(f\"epoch {epoch + 1} average loss: {epoch_loss:.4f}\")                                                  #Printing the computed loss after training\n",
        "\n",
        "    if (epoch + 1) % val_interval == 0:\n",
        "        model.eval()\n",
        "        with torch.no_grad():\n",
        "            y_pred = torch.tensor([], dtype=torch.float32, device=device)\n",
        "            y = torch.tensor([], dtype=torch.long, device=device)\n",
        "            for val_data in val_loader:                                                                         #Iteration of all the data in val loader\n",
        "                val_images, val_labels = val_data[0][\"image\"].to(device), val_data[1].to(device)\n",
        "                y_pred = torch.cat([y_pred, model(val_images)], dim=0)\n",
        "                y = torch.cat([y, val_labels], dim=0)\n",
        "            y_onehot = [y_trans(i) for i in decollate_batch(y, detach=False)]\n",
        "            y_pred_act = [y_pred_trans(i) for i in decollate_batch(y_pred)]\n",
        "            auc_metric(y_pred_act, y_onehot)                                                                    #Computing the AUROC metric\n",
        "            result = auc_metric.aggregate()\n",
        "            auc_metric.reset()\n",
        "            del y_pred_act, y_onehot\n",
        "            metric_values.append(result)\n",
        "            y_pred_class = torch.argmax(y_pred, dim=1)                          # Convert logits to class labels\n",
        "            acc_metric = accuracy_score(y.cpu().numpy(),y_pred_class.cpu().numpy())                             # Computing the accuracy\n",
        "            if result > best_metric:\n",
        "                best_metric = result\n",
        "                best_metric_epoch = epoch + 1\n",
        "                torch.save(model.state_dict(), \"best_metric_model.pth\")\n",
        "                print(\"saved new best metric model\")\n",
        "            print(\n",
        "                f\"current epoch: {epoch + 1} current AUC: {result:.4f}\"\n",
        "                f\" current accuracy: {acc_metric:.4f}\"\n",
        "                f\" best AUC: {best_metric:.4f}\"\n",
        "                f\" at epoch: {best_metric_epoch}\"\n",
        "            )\n",
        "\n",
        "print(f\"train completed, best_metric: {best_metric:.4f} \" f\"at epoch: {best_metric_epoch}\")"
      ]
    },
    {
      "cell_type": "markdown",
      "source": [
        "## Evaluation"
      ],
      "metadata": {
        "id": "vL88y5ULJB-7"
      }
    },
    {
      "cell_type": "code",
      "source": [
        "from sklearn.metrics import confusion_matrix\n",
        "\n",
        "# Load the best model\n",
        "model.load_state_dict(torch.load(\"/content/best_metric_model.pth\"))\n",
        "\n",
        "#Setting the model to evaluation state\n",
        "model.eval()\n",
        "\n",
        "\n",
        "with torch.no_grad():\n",
        "    y_pred = torch.tensor([], dtype=torch.float32, device=device)\n",
        "    y = torch.tensor([], dtype=torch.long, device=device)\n",
        "    for val_data in val_loader:\n",
        "        val_images, val_labels = val_data[0][\"image\"].to(device), val_data[1].to(device)\n",
        "        y_pred = torch.cat([y_pred, model(val_images)], dim=0)\n",
        "        y = torch.cat([y, val_labels], dim=0)\n",
        "\n",
        "print(f\"The shape of y_pred is: {y_pred.shape}\")\n",
        "y_pred_class = torch.argmax(y_pred,dim=1)\n",
        "print(f\"The shape of y_pred_class is: {y_pred_class.shape}\")\n",
        "print(f\"The shape of y_pred_class is: {y_pred_class.unsqueeze(-1).shape}\")\n",
        "accuracy = accuracy_score(y_pred_class.cpu().numpy(),y.squeeze(-1).cpu().numpy())\n",
        "print(f\"Accuracy on validation set: {accuracy}\")\n",
        "y_onehot = [y_trans(i) for i in decollate_batch(y, detach=False)]\n",
        "y_pred_onehot = [y_trans(i) for i in decollate_batch(y_pred_class.unsqueeze(-1), detach=False)]\n",
        "y_onehot = torch.stack(y_onehot)\n",
        "y_pred_onehot = torch.stack(y_pred_onehot)\n",
        "print(f\"The shape of y_pred_onehot is: {y_pred_onehot.shape}\")\n",
        "print(f\"The shape of y_onehot is: {y_onehot.shape}\")\n",
        "# print(f\"Confusion Matrix:\\n{conf_matrix}\")\n",
        "conf_matix_sklearn = confusion_matrix(y,y_pred_class)\n",
        "# print(f\"Confusion Matrix:\\n{conf_matix_sklearn}\")\n",
        "\n",
        "from sklearn.metrics import classification_report\n",
        "\n",
        "print(classification_report(y.cpu().numpy(), y_pred_class.cpu().numpy(), target_names=class_names))"
      ],
      "metadata": {
        "colab": {
          "base_uri": "https://localhost:8080/"
        },
        "id": "X9SQdSSNXXBM",
        "outputId": "5696c892-1d86-4a0b-895f-17f93332a109"
      },
      "execution_count": null,
      "outputs": [
        {
          "output_type": "stream",
          "name": "stderr",
          "text": [
            "You are using `torch.load` with `weights_only=False` (the current default value), which uses the default pickle module implicitly. It is possible to construct malicious pickle data which will execute arbitrary code during unpickling (See https://github.com/pytorch/pytorch/blob/main/SECURITY.md#untrusted-models for more details). In a future release, the default value for `weights_only` will be flipped to `True`. This limits the functions that could be executed during unpickling. Arbitrary objects will no longer be allowed to be loaded via this mode unless they are explicitly allowlisted by the user via `torch.serialization.add_safe_globals`. We recommend you start setting `weights_only=True` for any use case where you don't have full control of the loaded file. Please open an issue on GitHub for any issues related to this experimental feature.\n"
          ]
        },
        {
          "output_type": "stream",
          "name": "stdout",
          "text": [
            "The shape of y_pred is: torch.Size([524, 2])\n",
            "The shape of y_pred_class is: torch.Size([524])\n",
            "The shape of y_pred_class is: torch.Size([524, 1])\n",
            "Accuracy on validation set: 0.8912213740458015\n",
            "The shape of y_pred_onehot is: torch.Size([524, 2])\n",
            "The shape of y_onehot is: torch.Size([524, 2])\n",
            "              precision    recall  f1-score   support\n",
            "\n",
            "      normal       0.70      1.00      0.83       135\n",
            "   pneumonia       1.00      0.85      0.92       389\n",
            "\n",
            "    accuracy                           0.89       524\n",
            "   macro avg       0.85      0.93      0.87       524\n",
            "weighted avg       0.92      0.89      0.90       524\n",
            "\n"
          ]
        }
      ]
    },
    {
      "cell_type": "markdown",
      "source": [
        "### Visualization"
      ],
      "metadata": {
        "id": "S_XBOyA6XY_P"
      }
    },
    {
      "cell_type": "code",
      "source": [
        "import seaborn as sns\n",
        "import matplotlib.pyplot as plt\n",
        "\n",
        "# Assuming conf_matix_sklearn is your confusion matrix from sklearn\n",
        "plt.figure(figsize=(8, 6))\n",
        "sns.heatmap(conf_matix_sklearn, annot=True, fmt=\"d\", cmap=\"Blues\",\n",
        "            xticklabels=class_names, yticklabels=class_names)\n",
        "plt.xlabel(\"Predicted\")\n",
        "plt.ylabel(\"True\")\n",
        "plt.title(\"Confusion Matrix\")\n",
        "plt.show()"
      ],
      "metadata": {
        "colab": {
          "base_uri": "https://localhost:8080/",
          "height": 564
        },
        "id": "v7dUVj_dllaR",
        "outputId": "10f8f918-2e30-48eb-b967-8f439ddc31a1"
      },
      "execution_count": null,
      "outputs": [
        {
          "output_type": "display_data",
          "data": {
            "text/plain": [
              "<Figure size 800x600 with 2 Axes>"
            ],
            "image/png": "[encoded data removed]"
          },
          "metadata": {}
        }
      ]
    },
    {
      "cell_type": "markdown",
      "source": [
        "# Project Work\n",
        "\n",
        "**Methodology**\n",
        "The project explored six tasks to understand how different factors affect classification performance:\n",
        "\n",
        "**Task 1**: Impact of Model Architecture on Classification Performance\n",
        "\n",
        "**Task 2**: Evaluating the Influence of Loss Functions\n",
        "\n",
        "**Task 3**: Investigating the Effect of Image Resizing on Classification Accuracy\n",
        "\n",
        "**Task 4**: Assessing Training Variability in Deep Learning Models\n",
        "\n",
        "**Task 5**: Exploring the Role of Weight Initialization Strategies\n",
        "\n",
        "**Task 6**: Generalizability of Medical Image Classification Models to New Datasets\n",
        "\n"
      ],
      "metadata": {
        "id": "Uj589t8gK51H"
      }
    },
    {
      "cell_type": "markdown",
      "source": [
        "## 1. Changing the model"
      ],
      "metadata": {
        "id": "47azpMMwdsrr"
      }
    },
    {
      "cell_type": "markdown",
      "source": [
        "### [MONAI Models](https://docs.monai.io/en/stable/networks.html)\n",
        "\n",
        "- Provides an overview of essential building blocks for deep learning models in medical imaging, including various layers, activation functions, and normalization techniques.\n",
        "\n",
        "- It also showcases how these components can be combined to create powerful network architectures for tasks like classification, segmentation, and generative modeling."
      ],
      "metadata": {
        "id": "unh27pAolaEB"
      }
    },
    {
      "cell_type": "code",
      "source": [
        "from monai.networks.nets import ResNet,EfficientNet, DenseNet121\n",
        "\n",
        "# model = ResNet(spatial_dims=2, in_channels=1, out_channels=2).to(device)\n",
        "# model = EfficientNet(spatial_dims=2, in_channels=1, out_channels=2).to(device)\n",
        "model = DenseNet121(spatial_dims=2, in_channels=1, out_channels=2).to(device)"
      ],
      "metadata": {
        "id": "gu84xfTbnci0"
      },
      "execution_count": null,
      "outputs": []
    },
    {
      "cell_type": "markdown",
      "source": [
        "### [Torchvision Models](https://pytorch.org/vision/stable/models.html)\n",
        "\n",
        "1. **Provides a Variety of Pre-trained Models**:  The page lists various  models for image classification, object detection, video classification, and image segmentation,  including popular architectures like ResNet, AlexNet, VGG, and Inception. These pre-trained models can be used directly or fine-tuned for specific tasks.\n",
        "\n",
        "2. **Offers Flexibility with Weights**:  You can easily load pre-trained weights for these models, and even use a new Multi-weight support API (as of version 0.13) to load different weights into the existing model architectures. This allows for experimentation and customization.\n",
        "\n",
        "3. **[GitHub repository](https://github.com/pytorch/vision/blob/main/torchvision/models/)**: The source code for all the models are found here.\n"
      ],
      "metadata": {
        "id": "4FBP8EzWd01h"
      }
    },
    {
      "cell_type": "code",
      "source": [
        "!pip show torchvision"
      ],
      "metadata": {
        "colab": {
          "base_uri": "https://localhost:8080/"
        },
        "id": "05bygL2XfM1s",
        "outputId": "3a27efb6-7d8e-4185-f354-553fc3f81ff0"
      },
      "execution_count": null,
      "outputs": [
        {
          "output_type": "stream",
          "name": "stdout",
          "text": [
            "Name: torchvision\n",
            "Version: 0.20.0+cu121\n",
            "Summary: image and video datasets and models for torch deep learning\n",
            "Home-page: https://github.com/pytorch/vision\n",
            "Author: PyTorch Core Team\n",
            "Author-email: soumith@pytorch.org\n",
            "License: BSD\n",
            "Location: /usr/local/lib/python3.10/dist-packages\n",
            "Requires: numpy, pillow, torch\n",
            "Required-by: fastai, lpips, medmnist, timm\n"
          ]
        }
      ]
    },
    {
      "cell_type": "code",
      "source": [
        "import torchvision\n",
        "del model\n",
        "#Importing mobilenetV3\n",
        "from torchvision.models import mobilenet_v3_large\n",
        "\n",
        "# model_mobilenet = mobilenet_v3_small(input_channels=1,out_channels=2)\n",
        "# print(model_mobilenet)\n",
        "\n",
        "# Load the pre-trained model\n",
        "model = mobilenet_v3_large(pretrained=False)\n",
        "\n",
        "# Modify the first convolutional layer to accept 1 input channel\n",
        "model.features[0][0] = torch.nn.Conv2d(1, 16, kernel_size=(3, 3), stride=(2, 2), padding=(1, 1), bias=False)\n",
        "\n",
        "# Modify the classifier to output 2 classes\n",
        "model.classifier[3] = torch.nn.Linear(in_features=1280, out_features=2, bias=True)\n",
        "model.classifier[2] = torch.nn.Dropout(p=0.0, inplace=True)\n",
        "\n",
        "print(model)\n",
        "loss_function=DiceCELoss(to_onehot_y=True,lambda_dice=0,lambda_ce=1)\n",
        "optimizer= torch.optim.Adam(model.parameters(), 1e-3)"
      ],
      "metadata": {
        "id": "HPvGzbRxfS6n"
      },
      "execution_count": null,
      "outputs": []
    },
    {
      "cell_type": "code",
      "source": [
        "from torchvision.models import mobilenet_v2\n",
        "del model\n",
        "# Load the pre-trained model\n",
        "model = mobilenet_v2(pretrained=False)\n",
        "\n",
        "# Modify the first convolutional layer to accept 1 input channel\n",
        "model.features[0][0] = torch.nn.Conv2d(1, 32, kernel_size=(3, 3), stride=(2, 2), padding=(1, 1), bias=False)\n",
        "\n",
        "# Modify the classifier to output 2 classes\n",
        "model.classifier[1] = torch.nn.Linear(in_features=1280, out_features=2, bias=True)\n",
        "model.classifier[0] = torch.nn.Dropout(p=0.0, inplace=False)\n",
        "print(model)\n",
        "loss_function=DiceCELoss(to_onehot_y=True,lambda_dice=0,lambda_ce=1)\n",
        "optimizer= torch.optim.Adam(model.parameters(), 1e-3)"
      ],
      "metadata": {
        "id": "0fQ-LflfIHwn",
        "colab": {
          "base_uri": "https://localhost:8080/"
        },
        "outputId": "f00d1bf4-8ad4-4fe9-ae2d-09335605b199"
      },
      "execution_count": null,
      "outputs": [
        {
          "output_type": "stream",
          "name": "stdout",
          "text": [
            "MobileNetV2(\n",
            "  (features): Sequential(\n",
            "    (0): Conv2dNormActivation(\n",
            "      (0): Conv2d(1, 32, kernel_size=(3, 3), stride=(2, 2), padding=(1, 1), bias=False)\n",
            "      (1): BatchNorm2d(32, eps=1e-05, momentum=0.1, affine=True, track_running_stats=True)\n",
            "      (2): ReLU6(inplace=True)\n",
            "    )\n",
            "    (1): InvertedResidual(\n",
            "      (conv): Sequential(\n",
            "        (0): Conv2dNormActivation(\n",
            "          (0): Conv2d(32, 32, kernel_size=(3, 3), stride=(1, 1), padding=(1, 1), groups=32, bias=False)\n",
            "          (1): BatchNorm2d(32, eps=1e-05, momentum=0.1, affine=True, track_running_stats=True)\n",
            "          (2): ReLU6(inplace=True)\n",
            "        )\n",
            "        (1): Conv2d(32, 16, kernel_size=(1, 1), stride=(1, 1), bias=False)\n",
            "        (2): BatchNorm2d(16, eps=1e-05, momentum=0.1, affine=True, track_running_stats=True)\n",
            "      )\n",
            "    )\n",
            "    (2): InvertedResidual(\n",
            "      (conv): Sequential(\n",
            "        (0): Conv2dNormActivation(\n",
            "          (0): Conv2d(16, 96, kernel_size=(1, 1), stride=(1, 1), bias=False)\n",
            "          (1): BatchNorm2d(96, eps=1e-05, momentum=0.1, affine=True, track_running_stats=True)\n",
            "          (2): ReLU6(inplace=True)\n",
            "        )\n",
            "        (1): Conv2dNormActivation(\n",
            "          (0): Conv2d(96, 96, kernel_size=(3, 3), stride=(2, 2), padding=(1, 1), groups=96, bias=False)\n",
            "          (1): BatchNorm2d(96, eps=1e-05, momentum=0.1, affine=True, track_running_stats=True)\n",
            "          (2): ReLU6(inplace=True)\n",
            "        )\n",
            "        (2): Conv2d(96, 24, kernel_size=(1, 1), stride=(1, 1), bias=False)\n",
            "        (3): BatchNorm2d(24, eps=1e-05, momentum=0.1, affine=True, track_running_stats=True)\n",
            "      )\n",
            "    )\n",
            "    (3): InvertedResidual(\n",
            "      (conv): Sequential(\n",
            "        (0): Conv2dNormActivation(\n",
            "          (0): Conv2d(24, 144, kernel_size=(1, 1), stride=(1, 1), bias=False)\n",
            "          (1): BatchNorm2d(144, eps=1e-05, momentum=0.1, affine=True, track_running_stats=True)\n",
            "          (2): ReLU6(inplace=True)\n",
            "        )\n",
            "        (1): Conv2dNormActivation(\n",
            "          (0): Conv2d(144, 144, kernel_size=(3, 3), stride=(1, 1), padding=(1, 1), groups=144, bias=False)\n",
            "          (1): BatchNorm2d(144, eps=1e-05, momentum=0.1, affine=True, track_running_stats=True)\n",
            "          (2): ReLU6(inplace=True)\n",
            "        )\n",
            "        (2): Conv2d(144, 24, kernel_size=(1, 1), stride=(1, 1), bias=False)\n",
            "        (3): BatchNorm2d(24, eps=1e-05, momentum=0.1, affine=True, track_running_stats=True)\n",
            "      )\n",
            "    )\n",
            "    (4): InvertedResidual(\n",
            "      (conv): Sequential(\n",
            "        (0): Conv2dNormActivation(\n",
            "          (0): Conv2d(24, 144, kernel_size=(1, 1), stride=(1, 1), bias=False)\n",
            "          (1): BatchNorm2d(144, eps=1e-05, momentum=0.1, affine=True, track_running_stats=True)\n",
            "          (2): ReLU6(inplace=True)\n",
            "        )\n",
            "        (1): Conv2dNormActivation(\n",
            "          (0): Conv2d(144, 144, kernel_size=(3, 3), stride=(2, 2), padding=(1, 1), groups=144, bias=False)\n",
            "          (1): BatchNorm2d(144, eps=1e-05, momentum=0.1, affine=True, track_running_stats=True)\n",
            "          (2): ReLU6(inplace=True)\n",
            "        )\n",
            "        (2): Conv2d(144, 32, kernel_size=(1, 1), stride=(1, 1), bias=False)\n",
            "        (3): BatchNorm2d(32, eps=1e-05, momentum=0.1, affine=True, track_running_stats=True)\n",
            "      )\n",
            "    )\n",
            "    (5): InvertedResidual(\n",
            "      (conv): Sequential(\n",
            "        (0): Conv2dNormActivation(\n",
            "          (0): Conv2d(32, 192, kernel_size=(1, 1), stride=(1, 1), bias=False)\n",
            "          (1): BatchNorm2d(192, eps=1e-05, momentum=0.1, affine=True, track_running_stats=True)\n",
            "          (2): ReLU6(inplace=True)\n",
            "        )\n",
            "        (1): Conv2dNormActivation(\n",
            "          (0): Conv2d(192, 192, kernel_size=(3, 3), stride=(1, 1), padding=(1, 1), groups=192, bias=False)\n",
            "          (1): BatchNorm2d(192, eps=1e-05, momentum=0.1, affine=True, track_running_stats=True)\n",
            "          (2): ReLU6(inplace=True)\n",
            "        )\n",
            "        (2): Conv2d(192, 32, kernel_size=(1, 1), stride=(1, 1), bias=False)\n",
            "        (3): BatchNorm2d(32, eps=1e-05, momentum=0.1, affine=True, track_running_stats=True)\n",
            "      )\n",
            "    )\n",
            "    (6): InvertedResidual(\n",
            "      (conv): Sequential(\n",
            "        (0): Conv2dNormActivation(\n",
            "          (0): Conv2d(32, 192, kernel_size=(1, 1), stride=(1, 1), bias=False)\n",
            "          (1): BatchNorm2d(192, eps=1e-05, momentum=0.1, affine=True, track_running_stats=True)\n",
            "          (2): ReLU6(inplace=True)\n",
            "        )\n",
            "        (1): Conv2dNormActivation(\n",
            "          (0): Conv2d(192, 192, kernel_size=(3, 3), stride=(1, 1), padding=(1, 1), groups=192, bias=False)\n",
            "          (1): BatchNorm2d(192, eps=1e-05, momentum=0.1, affine=True, track_running_stats=True)\n",
            "          (2): ReLU6(inplace=True)\n",
            "        )\n",
            "        (2): Conv2d(192, 32, kernel_size=(1, 1), stride=(1, 1), bias=False)\n",
            "        (3): BatchNorm2d(32, eps=1e-05, momentum=0.1, affine=True, track_running_stats=True)\n",
            "      )\n",
            "    )\n",
            "    (7): InvertedResidual(\n",
            "      (conv): Sequential(\n",
            "        (0): Conv2dNormActivation(\n",
            "          (0): Conv2d(32, 192, kernel_size=(1, 1), stride=(1, 1), bias=False)\n",
            "          (1): BatchNorm2d(192, eps=1e-05, momentum=0.1, affine=True, track_running_stats=True)\n",
            "          (2): ReLU6(inplace=True)\n",
            "        )\n",
            "        (1): Conv2dNormActivation(\n",
            "          (0): Conv2d(192, 192, kernel_size=(3, 3), stride=(2, 2), padding=(1, 1), groups=192, bias=False)\n",
            "          (1): BatchNorm2d(192, eps=1e-05, momentum=0.1, affine=True, track_running_stats=True)\n",
            "          (2): ReLU6(inplace=True)\n",
            "        )\n",
            "        (2): Conv2d(192, 64, kernel_size=(1, 1), stride=(1, 1), bias=False)\n",
            "        (3): BatchNorm2d(64, eps=1e-05, momentum=0.1, affine=True, track_running_stats=True)\n",
            "      )\n",
            "    )\n",
            "    (8): InvertedResidual(\n",
            "      (conv): Sequential(\n",
            "        (0): Conv2dNormActivation(\n",
            "          (0): Conv2d(64, 384, kernel_size=(1, 1), stride=(1, 1), bias=False)\n",
            "          (1): BatchNorm2d(384, eps=1e-05, momentum=0.1, affine=True, track_running_stats=True)\n",
            "          (2): ReLU6(inplace=True)\n",
            "        )\n",
            "        (1): Conv2dNormActivation(\n",
            "          (0): Conv2d(384, 384, kernel_size=(3, 3), stride=(1, 1), padding=(1, 1), groups=384, bias=False)\n",
            "          (1): BatchNorm2d(384, eps=1e-05, momentum=0.1, affine=True, track_running_stats=True)\n",
            "          (2): ReLU6(inplace=True)\n",
            "        )\n",
            "        (2): Conv2d(384, 64, kernel_size=(1, 1), stride=(1, 1), bias=False)\n",
            "        (3): BatchNorm2d(64, eps=1e-05, momentum=0.1, affine=True, track_running_stats=True)\n",
            "      )\n",
            "    )\n",
            "    (9): InvertedResidual(\n",
            "      (conv): Sequential(\n",
            "        (0): Conv2dNormActivation(\n",
            "          (0): Conv2d(64, 384, kernel_size=(1, 1), stride=(1, 1), bias=False)\n",
            "          (1): BatchNorm2d(384, eps=1e-05, momentum=0.1, affine=True, track_running_stats=True)\n",
            "          (2): ReLU6(inplace=True)\n",
            "        )\n",
            "        (1): Conv2dNormActivation(\n",
            "          (0): Conv2d(384, 384, kernel_size=(3, 3), stride=(1, 1), padding=(1, 1), groups=384, bias=False)\n",
            "          (1): BatchNorm2d(384, eps=1e-05, momentum=0.1, affine=True, track_running_stats=True)\n",
            "          (2): ReLU6(inplace=True)\n",
            "        )\n",
            "        (2): Conv2d(384, 64, kernel_size=(1, 1), stride=(1, 1), bias=False)\n",
            "        (3): BatchNorm2d(64, eps=1e-05, momentum=0.1, affine=True, track_running_stats=True)\n",
            "      )\n",
            "    )\n",
            "    (10): InvertedResidual(\n",
            "      (conv): Sequential(\n",
            "        (0): Conv2dNormActivation(\n",
            "          (0): Conv2d(64, 384, kernel_size=(1, 1), stride=(1, 1), bias=False)\n",
            "          (1): BatchNorm2d(384, eps=1e-05, momentum=0.1, affine=True, track_running_stats=True)\n",
            "          (2): ReLU6(inplace=True)\n",
            "        )\n",
            "        (1): Conv2dNormActivation(\n",
            "          (0): Conv2d(384, 384, kernel_size=(3, 3), stride=(1, 1), padding=(1, 1), groups=384, bias=False)\n",
            "          (1): BatchNorm2d(384, eps=1e-05, momentum=0.1, affine=True, track_running_stats=True)\n",
            "          (2): ReLU6(inplace=True)\n",
            "        )\n",
            "        (2): Conv2d(384, 64, kernel_size=(1, 1), stride=(1, 1), bias=False)\n",
            "        (3): BatchNorm2d(64, eps=1e-05, momentum=0.1, affine=True, track_running_stats=True)\n",
            "      )\n",
            "    )\n",
            "    (11): InvertedResidual(\n",
            "      (conv): Sequential(\n",
            "        (0): Conv2dNormActivation(\n",
            "          (0): Conv2d(64, 384, kernel_size=(1, 1), stride=(1, 1), bias=False)\n",
            "          (1): BatchNorm2d(384, eps=1e-05, momentum=0.1, affine=True, track_running_stats=True)\n",
            "          (2): ReLU6(inplace=True)\n",
            "        )\n",
            "        (1): Conv2dNormActivation(\n",
            "          (0): Conv2d(384, 384, kernel_size=(3, 3), stride=(1, 1), padding=(1, 1), groups=384, bias=False)\n",
            "          (1): BatchNorm2d(384, eps=1e-05, momentum=0.1, affine=True, track_running_stats=True)\n",
            "          (2): ReLU6(inplace=True)\n",
            "        )\n",
            "        (2): Conv2d(384, 96, kernel_size=(1, 1), stride=(1, 1), bias=False)\n",
            "        (3): BatchNorm2d(96, eps=1e-05, momentum=0.1, affine=True, track_running_stats=True)\n",
            "      )\n",
            "    )\n",
            "    (12): InvertedResidual(\n",
            "      (conv): Sequential(\n",
            "        (0): Conv2dNormActivation(\n",
            "          (0): Conv2d(96, 576, kernel_size=(1, 1), stride=(1, 1), bias=False)\n",
            "          (1): BatchNorm2d(576, eps=1e-05, momentum=0.1, affine=True, track_running_stats=True)\n",
            "          (2): ReLU6(inplace=True)\n",
            "        )\n",
            "        (1): Conv2dNormActivation(\n",
            "          (0): Conv2d(576, 576, kernel_size=(3, 3), stride=(1, 1), padding=(1, 1), groups=576, bias=False)\n",
            "          (1): BatchNorm2d(576, eps=1e-05, momentum=0.1, affine=True, track_running_stats=True)\n",
            "          (2): ReLU6(inplace=True)\n",
            "        )\n",
            "        (2): Conv2d(576, 96, kernel_size=(1, 1), stride=(1, 1), bias=False)\n",
            "        (3): BatchNorm2d(96, eps=1e-05, momentum=0.1, affine=True, track_running_stats=True)\n",
            "      )\n",
            "    )\n",
            "    (13): InvertedResidual(\n",
            "      (conv): Sequential(\n",
            "        (0): Conv2dNormActivation(\n",
            "          (0): Conv2d(96, 576, kernel_size=(1, 1), stride=(1, 1), bias=False)\n",
            "          (1): BatchNorm2d(576, eps=1e-05, momentum=0.1, affine=True, track_running_stats=True)\n",
            "          (2): ReLU6(inplace=True)\n",
            "        )\n",
            "        (1): Conv2dNormActivation(\n",
            "          (0): Conv2d(576, 576, kernel_size=(3, 3), stride=(1, 1), padding=(1, 1), groups=576, bias=False)\n",
            "          (1): BatchNorm2d(576, eps=1e-05, momentum=0.1, affine=True, track_running_stats=True)\n",
            "          (2): ReLU6(inplace=True)\n",
            "        )\n",
            "        (2): Conv2d(576, 96, kernel_size=(1, 1), stride=(1, 1), bias=False)\n",
            "        (3): BatchNorm2d(96, eps=1e-05, momentum=0.1, affine=True, track_running_stats=True)\n",
            "      )\n",
            "    )\n",
            "    (14): InvertedResidual(\n",
            "      (conv): Sequential(\n",
            "        (0): Conv2dNormActivation(\n",
            "          (0): Conv2d(96, 576, kernel_size=(1, 1), stride=(1, 1), bias=False)\n",
            "          (1): BatchNorm2d(576, eps=1e-05, momentum=0.1, affine=True, track_running_stats=True)\n",
            "          (2): ReLU6(inplace=True)\n",
            "        )\n",
            "        (1): Conv2dNormActivation(\n",
            "          (0): Conv2d(576, 576, kernel_size=(3, 3), stride=(2, 2), padding=(1, 1), groups=576, bias=False)\n",
            "          (1): BatchNorm2d(576, eps=1e-05, momentum=0.1, affine=True, track_running_stats=True)\n",
            "          (2): ReLU6(inplace=True)\n",
            "        )\n",
            "        (2): Conv2d(576, 160, kernel_size=(1, 1), stride=(1, 1), bias=False)\n",
            "        (3): BatchNorm2d(160, eps=1e-05, momentum=0.1, affine=True, track_running_stats=True)\n",
            "      )\n",
            "    )\n",
            "    (15): InvertedResidual(\n",
            "      (conv): Sequential(\n",
            "        (0): Conv2dNormActivation(\n",
            "          (0): Conv2d(160, 960, kernel_size=(1, 1), stride=(1, 1), bias=False)\n",
            "          (1): BatchNorm2d(960, eps=1e-05, momentum=0.1, affine=True, track_running_stats=True)\n",
            "          (2): ReLU6(inplace=True)\n",
            "        )\n",
            "        (1): Conv2dNormActivation(\n",
            "          (0): Conv2d(960, 960, kernel_size=(3, 3), stride=(1, 1), padding=(1, 1), groups=960, bias=False)\n",
            "          (1): BatchNorm2d(960, eps=1e-05, momentum=0.1, affine=True, track_running_stats=True)\n",
            "          (2): ReLU6(inplace=True)\n",
            "        )\n",
            "        (2): Conv2d(960, 160, kernel_size=(1, 1), stride=(1, 1), bias=False)\n",
            "        (3): BatchNorm2d(160, eps=1e-05, momentum=0.1, affine=True, track_running_stats=True)\n",
            "      )\n",
            "    )\n",
            "    (16): InvertedResidual(\n",
            "      (conv): Sequential(\n",
            "        (0): Conv2dNormActivation(\n",
            "          (0): Conv2d(160, 960, kernel_size=(1, 1), stride=(1, 1), bias=False)\n",
            "          (1): BatchNorm2d(960, eps=1e-05, momentum=0.1, affine=True, track_running_stats=True)\n",
            "          (2): ReLU6(inplace=True)\n",
            "        )\n",
            "        (1): Conv2dNormActivation(\n",
            "          (0): Conv2d(960, 960, kernel_size=(3, 3), stride=(1, 1), padding=(1, 1), groups=960, bias=False)\n",
            "          (1): BatchNorm2d(960, eps=1e-05, momentum=0.1, affine=True, track_running_stats=True)\n",
            "          (2): ReLU6(inplace=True)\n",
            "        )\n",
            "        (2): Conv2d(960, 160, kernel_size=(1, 1), stride=(1, 1), bias=False)\n",
            "        (3): BatchNorm2d(160, eps=1e-05, momentum=0.1, affine=True, track_running_stats=True)\n",
            "      )\n",
            "    )\n",
            "    (17): InvertedResidual(\n",
            "      (conv): Sequential(\n",
            "        (0): Conv2dNormActivation(\n",
            "          (0): Conv2d(160, 960, kernel_size=(1, 1), stride=(1, 1), bias=False)\n",
            "          (1): BatchNorm2d(960, eps=1e-05, momentum=0.1, affine=True, track_running_stats=True)\n",
            "          (2): ReLU6(inplace=True)\n",
            "        )\n",
            "        (1): Conv2dNormActivation(\n",
            "          (0): Conv2d(960, 960, kernel_size=(3, 3), stride=(1, 1), padding=(1, 1), groups=960, bias=False)\n",
            "          (1): BatchNorm2d(960, eps=1e-05, momentum=0.1, affine=True, track_running_stats=True)\n",
            "          (2): ReLU6(inplace=True)\n",
            "        )\n",
            "        (2): Conv2d(960, 320, kernel_size=(1, 1), stride=(1, 1), bias=False)\n",
            "        (3): BatchNorm2d(320, eps=1e-05, momentum=0.1, affine=True, track_running_stats=True)\n",
            "      )\n",
            "    )\n",
            "    (18): Conv2dNormActivation(\n",
            "      (0): Conv2d(320, 1280, kernel_size=(1, 1), stride=(1, 1), bias=False)\n",
            "      (1): BatchNorm2d(1280, eps=1e-05, momentum=0.1, affine=True, track_running_stats=True)\n",
            "      (2): ReLU6(inplace=True)\n",
            "    )\n",
            "  )\n",
            "  (classifier): Sequential(\n",
            "    (0): Dropout(p=0.0, inplace=False)\n",
            "    (1): Linear(in_features=1280, out_features=2, bias=True)\n",
            "  )\n",
            ")\n"
          ]
        },
        {
          "output_type": "stream",
          "name": "stderr",
          "text": [
            "The parameter 'pretrained' is deprecated since 0.13 and may be removed in the future, please use 'weights' instead.\n",
            "Arguments other than a weight enum or `None` for 'weights' are deprecated since 0.13 and may be removed in the future. The current behavior is equivalent to passing `weights=None`.\n"
          ]
        }
      ]
    },
    {
      "cell_type": "code",
      "source": [
        "from torchvision.models import resnet34\n",
        "\n",
        "model = resnet34(weights=True)\n",
        "model.conv1 = torch.nn.Conv2d(1, 64, kernel_size=(7, 7), stride=(2, 2), padding=(3, 3), bias=False)\n",
        "model.fc = torch.nn.Linear(in_features=512, out_features=2, bias=True)\n",
        "print(model)\n",
        "loss_function=DiceCELoss(to_onehot_y=True,lambda_dice=0,lambda_ce=1)\n",
        "optimizer= torch.optim.Adam(model.parameters(), 1e-3)"
      ],
      "metadata": {
        "id": "uc7fRsLhabnn"
      },
      "execution_count": null,
      "outputs": []
    },
    {
      "cell_type": "markdown",
      "source": [
        "### Training New Model"
      ],
      "metadata": {
        "id": "yn5aFGRcy1vk"
      }
    },
    {
      "cell_type": "code",
      "source": [
        "from monai.data import decollate_batch\n",
        "from sklearn.metrics import accuracy_score\n",
        "from tqdm import tqdm\n",
        "best_metric = -1\n",
        "best_metric_epoch = -1\n",
        "epoch_loss_values = []\n",
        "metric_values = []\n",
        "max_epochs=5\n",
        "for epoch in range(max_epochs):                                                                   #Iteration of for loop through multiple epochs\n",
        "    print(\"-\" * 10)\n",
        "    print(f\"epoch {epoch + 1}/{max_epochs}\")\n",
        "    model.train()\n",
        "    epoch_loss = 0\n",
        "    step = 0\n",
        "    for batch_data in tqdm(train_loader):                                                                              #Iteration of all the data in train loader\n",
        "        step += 1\n",
        "        inputs, labels = batch_data\n",
        "        inputs = inputs[\"image\"].to(device)\n",
        "        labels = labels.to(device)\n",
        "        optimizer.zero_grad()\n",
        "        outputs = model(inputs)                                                                                 #Predicting the outputs from the model\n",
        "        loss = loss_function(outputs, labels)                                                                   #Computing the loss for each batch\n",
        "        loss.backward()\n",
        "        optimizer.step()\n",
        "        epoch_loss += loss.item()\n",
        "        # print(f\"{step}/{len(train_ds) // train_loader.batch_size}, \" f\"train_loss: {loss.item():.4f}\")\n",
        "        epoch_len = len(train_ds) // train_loader.batch_size\n",
        "    epoch_loss /= step\n",
        "    epoch_loss_values.append(epoch_loss)\n",
        "    print(f\"epoch {epoch + 1} average loss: {epoch_loss:.4f}\")                                                  #Printing the computed loss after training\n",
        "\n",
        "    if (epoch + 1) % val_interval == 0:\n",
        "        model.eval()\n",
        "        with torch.no_grad():\n",
        "            y_pred = torch.tensor([], dtype=torch.float32, device=device)\n",
        "            y = torch.tensor([], dtype=torch.long, device=device)\n",
        "            for val_data in val_loader:                                                                         #Iteration of all the data in val loader\n",
        "                val_images, val_labels = val_data[0][\"image\"].to(device), val_data[1].to(device)\n",
        "                y_pred = torch.cat([y_pred, model(val_images)], dim=0)\n",
        "                y = torch.cat([y, val_labels], dim=0)\n",
        "            y_onehot = [y_trans(i) for i in decollate_batch(y, detach=False)]\n",
        "            y_pred_act = [y_pred_trans(i) for i in decollate_batch(y_pred)]\n",
        "            auc_metric(y_pred_act, y_onehot)                                                                    #Computing the AUROC metric\n",
        "            result = auc_metric.aggregate()\n",
        "            auc_metric.reset()\n",
        "            del y_pred_act, y_onehot\n",
        "            metric_values.append(result)\n",
        "            y_pred_class = torch.argmax(y_pred, dim=1)                          # Convert logits to class labels\n",
        "            acc_metric = accuracy_score(y.cpu().numpy(),y_pred_class.cpu().numpy())                             # Computing the accuracy\n",
        "            if result > best_metric:\n",
        "                best_metric = result\n",
        "                best_metric_epoch = epoch + 1\n",
        "                torch.save(model.state_dict(), \"best_metric_model_modelchange.pth\")\n",
        "                print(\"saved new best metric model\")\n",
        "            print(\n",
        "                f\"current epoch: {epoch + 1} current AUC: {result:.4f}\"\n",
        "                f\" current accuracy: {acc_metric:.4f}\"\n",
        "                f\" best AUC: {best_metric:.4f}\"\n",
        "                f\" at epoch: {best_metric_epoch}\"\n",
        "            )\n",
        "\n",
        "print(f\"train completed, best_metric: {best_metric:.4f} \" f\"at epoch: {best_metric_epoch}\")"
      ],
      "metadata": {
        "colab": {
          "base_uri": "https://localhost:8080/"
        },
        "id": "lG6F1dCmy8Y0",
        "outputId": "618a0612-1d50-44cb-bfd9-acc273bb22da"
      },
      "execution_count": null,
      "outputs": [
        {
          "output_type": "stream",
          "name": "stdout",
          "text": [
            "----------\n",
            "epoch 1/5\n"
          ]
        },
        {
          "output_type": "stream",
          "name": "stderr",
          "text": [
            "100%|██████████| 148/148 [00:55<00:00,  2.65it/s]"
          ]
        },
        {
          "output_type": "stream",
          "name": "stdout",
          "text": [
            "epoch 1 average loss: 0.3319\n"
          ]
        },
        {
          "output_type": "stream",
          "name": "stderr",
          "text": [
            "\n"
          ]
        },
        {
          "output_type": "stream",
          "name": "stdout",
          "text": [
            "saved new best metric model\n",
            "current epoch: 1 current AUC: 0.9739 current accuracy: 0.9160 best AUC: 0.9739 at epoch: 1\n",
            "----------\n",
            "epoch 2/5\n"
          ]
        },
        {
          "output_type": "stream",
          "name": "stderr",
          "text": [
            "100%|██████████| 148/148 [00:53<00:00,  2.76it/s]"
          ]
        },
        {
          "output_type": "stream",
          "name": "stdout",
          "text": [
            "epoch 2 average loss: 0.1694\n"
          ]
        },
        {
          "output_type": "stream",
          "name": "stderr",
          "text": [
            "\n"
          ]
        },
        {
          "output_type": "stream",
          "name": "stdout",
          "text": [
            "saved new best metric model\n",
            "current epoch: 2 current AUC: 0.9859 current accuracy: 0.9427 best AUC: 0.9859 at epoch: 2\n",
            "----------\n",
            "epoch 3/5\n"
          ]
        },
        {
          "output_type": "stream",
          "name": "stderr",
          "text": [
            "100%|██████████| 148/148 [00:53<00:00,  2.74it/s]"
          ]
        },
        {
          "output_type": "stream",
          "name": "stdout",
          "text": [
            "epoch 3 average loss: 0.1670\n"
          ]
        },
        {
          "output_type": "stream",
          "name": "stderr",
          "text": [
            "\n"
          ]
        },
        {
          "output_type": "stream",
          "name": "stdout",
          "text": [
            "saved new best metric model\n",
            "current epoch: 3 current AUC: 0.9892 current accuracy: 0.9542 best AUC: 0.9892 at epoch: 3\n",
            "----------\n",
            "epoch 4/5\n"
          ]
        },
        {
          "output_type": "stream",
          "name": "stderr",
          "text": [
            "100%|██████████| 148/148 [01:18<00:00,  1.90it/s]"
          ]
        },
        {
          "output_type": "stream",
          "name": "stdout",
          "text": [
            "epoch 4 average loss: 0.1205\n"
          ]
        },
        {
          "output_type": "stream",
          "name": "stderr",
          "text": [
            "\n"
          ]
        },
        {
          "output_type": "stream",
          "name": "stdout",
          "text": [
            "saved new best metric model\n",
            "current epoch: 4 current AUC: 0.9907 current accuracy: 0.9580 best AUC: 0.9907 at epoch: 4\n",
            "----------\n",
            "epoch 5/5\n"
          ]
        },
        {
          "output_type": "stream",
          "name": "stderr",
          "text": [
            "100%|██████████| 148/148 [00:53<00:00,  2.74it/s]"
          ]
        },
        {
          "output_type": "stream",
          "name": "stdout",
          "text": [
            "epoch 5 average loss: 0.1064\n"
          ]
        },
        {
          "output_type": "stream",
          "name": "stderr",
          "text": [
            "\n"
          ]
        },
        {
          "output_type": "stream",
          "name": "stdout",
          "text": [
            "saved new best metric model\n",
            "current epoch: 5 current AUC: 0.9910 current accuracy: 0.9561 best AUC: 0.9910 at epoch: 5\n",
            "train completed, best_metric: 0.9910 at epoch: 5\n"
          ]
        }
      ]
    },
    {
      "cell_type": "markdown",
      "source": [
        "### Evaluation"
      ],
      "metadata": {
        "id": "schS7YuscHPT"
      }
    },
    {
      "cell_type": "code",
      "source": [
        "# Load the best model\n",
        "model.load_state_dict(torch.load(\"/content/best_metric_model_modelchange.pth\"))\n",
        "\n",
        "#Setting the model to evaluation state\n",
        "model.eval()\n",
        "\n",
        "\n",
        "with torch.no_grad():\n",
        "    y_pred = torch.tensor([], dtype=torch.float32, device=device)\n",
        "    y = torch.tensor([], dtype=torch.long, device=device)\n",
        "    for val_data in val_loader:\n",
        "        val_images, val_labels = val_data[0][\"image\"].to(device), val_data[1].to(device)\n",
        "        y_pred = torch.cat([y_pred, model(val_images)], dim=0)\n",
        "        y = torch.cat([y, val_labels], dim=0)\n",
        "\n",
        "print(f\"The shape of y_pred is: {y_pred.shape}\")\n",
        "y_pred_class = torch.argmax(y_pred,dim=1)\n",
        "print(f\"The shape of y_pred_class is: {y_pred_class.shape}\")\n",
        "print(f\"The shape of y_pred_class is: {y_pred_class.unsqueeze(-1).shape}\")\n",
        "accuracy = accuracy_score(y_pred_class.cpu().numpy(),y.squeeze(-1).cpu().numpy())\n",
        "print(f\"Accuracy on validation set: {accuracy}\")\n",
        "y_onehot = [y_trans(i) for i in decollate_batch(y, detach=False)]\n",
        "y_pred_onehot = [y_trans(i) for i in decollate_batch(y_pred_class.unsqueeze(-1), detach=False)]\n",
        "y_onehot = torch.stack(y_onehot)\n",
        "y_pred_onehot = torch.stack(y_pred_onehot)\n",
        "print(f\"The shape of y_pred_onehot is: {y_pred_onehot.shape}\")\n",
        "print(f\"The shape of y_onehot is: {y_onehot.shape}\")\n",
        "# print(f\"Confusion Matrix:\\n{conf_matrix}\")\n",
        "conf_matix_sklearn = confusion_matrix(y,y_pred_class)\n",
        "# print(f\"Confusion Matrix:\\n{conf_matix_sklearn}\")\n",
        "\n",
        "from sklearn.metrics import classification_report\n",
        "\n",
        "print(classification_report(y.cpu().numpy(), y_pred_class.cpu().numpy(), target_names=class_names))"
      ],
      "metadata": {
        "colab": {
          "base_uri": "https://localhost:8080/"
        },
        "id": "PpNgRBQacGeb",
        "outputId": "dbd89f07-c505-40d8-b0eb-3aaeeb0a030f"
      },
      "execution_count": null,
      "outputs": [
        {
          "output_type": "stream",
          "name": "stderr",
          "text": [
            "You are using `torch.load` with `weights_only=False` (the current default value), which uses the default pickle module implicitly. It is possible to construct malicious pickle data which will execute arbitrary code during unpickling (See https://github.com/pytorch/pytorch/blob/main/SECURITY.md#untrusted-models for more details). In a future release, the default value for `weights_only` will be flipped to `True`. This limits the functions that could be executed during unpickling. Arbitrary objects will no longer be allowed to be loaded via this mode unless they are explicitly allowlisted by the user via `torch.serialization.add_safe_globals`. We recommend you start setting `weights_only=True` for any use case where you don't have full control of the loaded file. Please open an issue on GitHub for any issues related to this experimental feature.\n"
          ]
        },
        {
          "output_type": "stream",
          "name": "stdout",
          "text": [
            "The shape of y_pred is: torch.Size([524, 2])\n",
            "The shape of y_pred_class is: torch.Size([524])\n",
            "The shape of y_pred_class is: torch.Size([524, 1])\n",
            "Accuracy on validation set: 0.9561068702290076\n",
            "The shape of y_pred_onehot is: torch.Size([524, 2])\n",
            "The shape of y_onehot is: torch.Size([524, 2])\n",
            "              precision    recall  f1-score   support\n",
            "\n",
            "      normal       0.92      0.91      0.91       135\n",
            "   pneumonia       0.97      0.97      0.97       389\n",
            "\n",
            "    accuracy                           0.96       524\n",
            "   macro avg       0.94      0.94      0.94       524\n",
            "weighted avg       0.96      0.96      0.96       524\n",
            "\n"
          ]
        }
      ]
    },
    {
      "cell_type": "markdown",
      "source": [
        "#### Visualization"
      ],
      "metadata": {
        "id": "sINbbg3Jlr9s"
      }
    },
    {
      "cell_type": "code",
      "source": [
        "import seaborn as sns\n",
        "import matplotlib.pyplot as plt\n",
        "\n",
        "# Assuming conf_matix_sklearn is your confusion matrix from sklearn\n",
        "plt.figure(figsize=(8, 6))\n",
        "sns.heatmap(conf_matix_sklearn, annot=True, fmt=\"d\", cmap=\"Blues\",\n",
        "            xticklabels=class_names, yticklabels=class_names)\n",
        "plt.xlabel(\"Predicted\")\n",
        "plt.ylabel(\"True\")\n",
        "plt.title(\"Confusion Matrix\")\n",
        "plt.show()"
      ],
      "metadata": {
        "colab": {
          "base_uri": "https://localhost:8080/",
          "height": 564
        },
        "id": "mR53w3JslvmM",
        "outputId": "6ad857d9-7136-4f44-b70f-e10a9cfb7240"
      },
      "execution_count": null,
      "outputs": [
        {
          "output_type": "display_data",
          "data": {
            "text/plain": [
              "<Figure size 800x600 with 2 Axes>"
            ],
            "image/png": "[encoded data removed]"
          },
          "metadata": {}
        }
      ]
    },
    {
      "cell_type": "markdown",
      "source": [
        "## 2. Changing loss function"
      ],
      "metadata": {
        "id": "E0-rGKGFms-K"
      }
    },
    {
      "cell_type": "code",
      "source": [
        "#Importing Torch lossses\n",
        "from torch.nn import CrossEntropyLoss\n",
        "from torch.nn import BCEWithLogitsLoss\n",
        "from torch.nn import MultiMarginLoss\n",
        "\n"
      ],
      "metadata": {
        "id": "MRVzsM8oRCv5"
      },
      "execution_count": null,
      "outputs": []
    },
    {
      "cell_type": "code",
      "source": [
        "import torch\n",
        "import torch.nn as nn\n",
        "\n",
        "# Define batch size and number of classes\n",
        "batch_size = 32\n",
        "num_classes = 2\n",
        "\n",
        "# Generate random tensors\n",
        "x = torch.rand(batch_size, num_classes)  # Probabilities\n",
        "y = torch.randint(0, num_classes, (batch_size,))  # Labels\n",
        "\n",
        "# Print shapes\n",
        "print(\"Shape of x:\", x.shape)\n",
        "print(\"Shape of y:\", y.shape)\n",
        "\n",
        "# Define loss functions\n",
        "loss_fn_bce = nn.BCELoss()\n",
        "loss_fn_bce_logits = nn.BCEWithLogitsLoss()\n",
        "loss_fn_multimargin = nn.MultiMarginLoss()\n",
        "loss_fn_monai_ce = DiceCELoss(to_onehot_y=True, lambda_dice=0, lambda_ce=1)\n",
        "\n",
        "loss_bce = loss_fn_bce(torch.sigmoid(x), nn.functional.one_hot(y, num_classes).float())\n",
        "loss_bce_logits = loss_fn_bce_logits(x, nn.functional.one_hot(y, num_classes).float())\n",
        "loss_multimargin = loss_fn_multimargin(x, y)\n",
        "loss_monai_ce = loss_fn_monai_ce(x, y.unsqueeze(-1))\n",
        "\n",
        "# Print losses\n",
        "print(\"BCELoss:\", loss_bce)\n",
        "print(\"BCEWithLogitsLoss:\", loss_bce_logits)\n",
        "print(\"MultiMarginLoss:\", loss_multimargin)\n",
        "print(\"MONAI DiceCELoss:\", loss_monai_ce)"
      ],
      "metadata": {
        "colab": {
          "base_uri": "https://localhost:8080/"
        },
        "id": "kDb46Jf3RcV9",
        "outputId": "cbda21f8-3de7-421c-ec04-9ae1625b1935"
      },
      "execution_count": null,
      "outputs": [
        {
          "output_type": "stream",
          "name": "stdout",
          "text": [
            "Shape of x: torch.Size([32, 2])\n",
            "Shape of y: torch.Size([32])\n",
            "BCELoss: tensor(0.7708)\n",
            "BCEWithLogitsLoss: tensor(0.7708)\n",
            "MultiMarginLoss: tensor(0.5743)\n",
            "MONAI DiceCELoss: tensor(0.7894)\n"
          ]
        }
      ]
    },
    {
      "cell_type": "code",
      "source": [
        "from monai.networks.nets import DenseNet\n",
        "#Importing FocalLoss from MONAI\n",
        "from monai.losses import FocalLoss\n",
        "\n",
        "device= torch.device(\"cuda\" if torch.cuda.is_available() else 'cpu')\n",
        "if(device == \"cpu\"): print(\"using CPU\")\n",
        "\n",
        "model = DenseNet(spatial_dims=2, in_channels=1, out_channels=2).to(device)\n",
        "loss_function=FocalLoss(to_onehot_y=True)\n",
        "optimizer= torch.optim.Adam(model.parameters(), 1e-3)\n",
        "max_epochs=5\n",
        "val_interval=1\n",
        "auc_metric = ROCAUCMetric()\n",
        "class_names = ['normal', 'pneumonia']\n",
        "\n",
        "from monai.transforms import AsDiscrete, Activations\n",
        "y_pred_trans = Activations(softmax=True)                          #added y_pred_trans for softmax\n",
        "y_trans = AsDiscrete(to_onehot=2)                                 #added y_trans for one_hot"
      ],
      "metadata": {
        "id": "4TIyRTkJm0WO"
      },
      "execution_count": null,
      "outputs": []
    },
    {
      "cell_type": "markdown",
      "source": [
        "### Model & Training"
      ],
      "metadata": {
        "id": "QED4y76DrKZS"
      }
    },
    {
      "cell_type": "code",
      "source": [
        "from monai.data import decollate_batch\n",
        "from sklearn.metrics import accuracy_score\n",
        "from tqdm import tqdm\n",
        "best_metric = -1\n",
        "best_metric_epoch = -1\n",
        "epoch_loss_values = []\n",
        "metric_values = []\n",
        "max_epochs=5\n",
        "for epoch in range(max_epochs):                                                                   #Iteration of for loop through multiple epochs\n",
        "    print(\"-\" * 10)\n",
        "    print(f\"epoch {epoch + 1}/{max_epochs}\")\n",
        "    model.train()\n",
        "    epoch_loss = 0\n",
        "    step = 0\n",
        "    for batch_data in tqdm(train_loader):                                                                              #Iteration of all the data in train loader\n",
        "        step += 1\n",
        "        inputs, labels = batch_data\n",
        "        inputs = inputs[\"image\"].to(device)\n",
        "        labels = labels.to(device)\n",
        "        optimizer.zero_grad()\n",
        "        outputs = model(inputs)                                                                                 #Predicting the outputs from the model\n",
        "        loss = loss_fn_multimargin(outputs, labels)                                                                   #Computing the loss for each batch\n",
        "        loss.backward()\n",
        "        optimizer.step()\n",
        "        epoch_loss += loss.item()\n",
        "        # print(f\"{step}/{len(train_ds) // train_loader.batch_size}, \" f\"train_loss: {loss.item():.4f}\")\n",
        "        epoch_len = len(train_ds) // train_loader.batch_size\n",
        "    epoch_loss /= step\n",
        "    epoch_loss_values.append(epoch_loss)\n",
        "    print(f\"epoch {epoch + 1} average loss: {epoch_loss:.4f}\")                                                  #Printing the computed loss after training\n",
        "\n",
        "    if (epoch + 1) % val_interval == 0:\n",
        "        model.eval()\n",
        "        with torch.no_grad():\n",
        "            y_pred = torch.tensor([], dtype=torch.float32, device=device)\n",
        "            y = torch.tensor([], dtype=torch.long, device=device)\n",
        "            for val_data in val_loader:                                                                         #Iteration of all the data in val loader\n",
        "                val_images, val_labels = val_data[0][\"image\"].to(device), val_data[1].to(device)\n",
        "                y_pred = torch.cat([y_pred, model(val_images)], dim=0)\n",
        "                y = torch.cat([y, val_labels], dim=0)\n",
        "            y_onehot = [y_trans(i) for i in decollate_batch(y, detach=False)]\n",
        "            y_pred_act = [y_pred_trans(i) for i in decollate_batch(y_pred)]\n",
        "            auc_metric(y_pred_act, y_onehot)                                                                    #Computing the AUROC metric\n",
        "            result = auc_metric.aggregate()\n",
        "            auc_metric.reset()\n",
        "            del y_pred_act, y_onehot\n",
        "            metric_values.append(result)\n",
        "            y_pred_class = torch.argmax(y_pred, dim=1)                          # Convert logits to class labels\n",
        "            acc_metric = accuracy_score(y.cpu().numpy(),y_pred_class.cpu().numpy())                             # Computing the accuracy\n",
        "            if result > best_metric:\n",
        "                best_metric = result\n",
        "                best_metric_epoch = epoch + 1\n",
        "                torch.save(model.state_dict(), \"best_metric_model_losfunctionchange.pth\")\n",
        "                print(\"saved new best metric model\")\n",
        "            print(\n",
        "                f\"current epoch: {epoch + 1} current AUC: {result:.4f}\"\n",
        "                f\" current accuracy: {acc_metric:.4f}\"\n",
        "                f\" best AUC: {best_metric:.4f}\"\n",
        "                f\" at epoch: {best_metric_epoch}\"\n",
        "            )\n",
        "\n",
        "print(f\"train completed, best_metric: {best_metric:.4f} \" f\"at epoch: {best_metric_epoch}\")"
      ],
      "metadata": {
        "colab": {
          "base_uri": "https://localhost:8080/",
          "height": 408
        },
        "id": "Pje3YU95rC0m",
        "outputId": "08d96422-cce7-4d8d-ff50-1479f44d63b5"
      },
      "execution_count": null,
      "outputs": [
        {
          "output_type": "stream",
          "name": "stdout",
          "text": [
            "----------\n",
            "epoch 1/5\n"
          ]
        },
        {
          "output_type": "stream",
          "name": "stderr",
          "text": [
            "  0%|          | 0/148 [00:02<?, ?it/s]\n"
          ]
        },
        {
          "output_type": "error",
          "ename": "RuntimeError",
          "evalue": "inconsistent target size, expected 32 but got [32, 1]",
          "traceback": [
            "\u001b[0;31m---------------------------------------------------------------------------\u001b[0m",
            "\u001b[0;31mRuntimeError\u001b[0m                              Traceback (most recent call last)",
            "\u001b[0;32m<ipython-input-88-a3f5d30229b2>\u001b[0m in \u001b[0;36m<cell line: 9>\u001b[0;34m()\u001b[0m\n\u001b[1;32m     20\u001b[0m         \u001b[0moptimizer\u001b[0m\u001b[0;34m.\u001b[0m\u001b[0mzero_grad\u001b[0m\u001b[0;34m(\u001b[0m\u001b[0;34m)\u001b[0m\u001b[0;34m\u001b[0m\u001b[0;34m\u001b[0m\u001b[0m\n\u001b[1;32m     21\u001b[0m         \u001b[0moutputs\u001b[0m \u001b[0;34m=\u001b[0m \u001b[0mmodel\u001b[0m\u001b[0;34m(\u001b[0m\u001b[0minputs\u001b[0m\u001b[0;34m)\u001b[0m                                                                                 \u001b[0;31m#Predicting the outputs from the model\u001b[0m\u001b[0;34m\u001b[0m\u001b[0;34m\u001b[0m\u001b[0m\n\u001b[0;32m---> 22\u001b[0;31m         \u001b[0mloss\u001b[0m \u001b[0;34m=\u001b[0m \u001b[0mloss_fn_multimargin\u001b[0m\u001b[0;34m(\u001b[0m\u001b[0moutputs\u001b[0m\u001b[0;34m,\u001b[0m \u001b[0mlabels\u001b[0m\u001b[0;34m)\u001b[0m                                                                   \u001b[0;31m#Computing the loss for each batch\u001b[0m\u001b[0;34m\u001b[0m\u001b[0;34m\u001b[0m\u001b[0m\n\u001b[0m\u001b[1;32m     23\u001b[0m         \u001b[0mloss\u001b[0m\u001b[0;34m.\u001b[0m\u001b[0mbackward\u001b[0m\u001b[0;34m(\u001b[0m\u001b[0;34m)\u001b[0m\u001b[0;34m\u001b[0m\u001b[0;34m\u001b[0m\u001b[0m\n\u001b[1;32m     24\u001b[0m         \u001b[0moptimizer\u001b[0m\u001b[0;34m.\u001b[0m\u001b[0mstep\u001b[0m\u001b[0;34m(\u001b[0m\u001b[0;34m)\u001b[0m\u001b[0;34m\u001b[0m\u001b[0;34m\u001b[0m\u001b[0m\n",
            "\u001b[0;32m/usr/local/lib/python3.10/dist-packages/torch/nn/modules/module.py\u001b[0m in \u001b[0;36m_wrapped_call_impl\u001b[0;34m(self, *args, **kwargs)\u001b[0m\n\u001b[1;32m   1734\u001b[0m             \u001b[0;32mreturn\u001b[0m \u001b[0mself\u001b[0m\u001b[0;34m.\u001b[0m\u001b[0m_compiled_call_impl\u001b[0m\u001b[0;34m(\u001b[0m\u001b[0;34m*\u001b[0m\u001b[0margs\u001b[0m\u001b[0;34m,\u001b[0m \u001b[0;34m**\u001b[0m\u001b[0mkwargs\u001b[0m\u001b[0;34m)\u001b[0m  \u001b[0;31m# type: ignore[misc]\u001b[0m\u001b[0;34m\u001b[0m\u001b[0;34m\u001b[0m\u001b[0m\n\u001b[1;32m   1735\u001b[0m         \u001b[0;32melse\u001b[0m\u001b[0;34m:\u001b[0m\u001b[0;34m\u001b[0m\u001b[0;34m\u001b[0m\u001b[0m\n\u001b[0;32m-> 1736\u001b[0;31m             \u001b[0;32mreturn\u001b[0m \u001b[0mself\u001b[0m\u001b[0;34m.\u001b[0m\u001b[0m_call_impl\u001b[0m\u001b[0;34m(\u001b[0m\u001b[0;34m*\u001b[0m\u001b[0margs\u001b[0m\u001b[0;34m,\u001b[0m \u001b[0;34m**\u001b[0m\u001b[0mkwargs\u001b[0m\u001b[0;34m)\u001b[0m\u001b[0;34m\u001b[0m\u001b[0;34m\u001b[0m\u001b[0m\n\u001b[0m\u001b[1;32m   1737\u001b[0m \u001b[0;34m\u001b[0m\u001b[0m\n\u001b[1;32m   1738\u001b[0m     \u001b[0;31m# torchrec tests the code consistency with the following code\u001b[0m\u001b[0;34m\u001b[0m\u001b[0;34m\u001b[0m\u001b[0m\n",
            "\u001b[0;32m/usr/local/lib/python3.10/dist-packages/torch/nn/modules/module.py\u001b[0m in \u001b[0;36m_call_impl\u001b[0;34m(self, *args, **kwargs)\u001b[0m\n\u001b[1;32m   1745\u001b[0m                 \u001b[0;32mor\u001b[0m \u001b[0m_global_backward_pre_hooks\u001b[0m \u001b[0;32mor\u001b[0m \u001b[0m_global_backward_hooks\u001b[0m\u001b[0;34m\u001b[0m\u001b[0;34m\u001b[0m\u001b[0m\n\u001b[1;32m   1746\u001b[0m                 or _global_forward_hooks or _global_forward_pre_hooks):\n\u001b[0;32m-> 1747\u001b[0;31m             \u001b[0;32mreturn\u001b[0m \u001b[0mforward_call\u001b[0m\u001b[0;34m(\u001b[0m\u001b[0;34m*\u001b[0m\u001b[0margs\u001b[0m\u001b[0;34m,\u001b[0m \u001b[0;34m**\u001b[0m\u001b[0mkwargs\u001b[0m\u001b[0;34m)\u001b[0m\u001b[0;34m\u001b[0m\u001b[0;34m\u001b[0m\u001b[0m\n\u001b[0m\u001b[1;32m   1748\u001b[0m \u001b[0;34m\u001b[0m\u001b[0m\n\u001b[1;32m   1749\u001b[0m         \u001b[0mresult\u001b[0m \u001b[0;34m=\u001b[0m \u001b[0;32mNone\u001b[0m\u001b[0;34m\u001b[0m\u001b[0;34m\u001b[0m\u001b[0m\n",
            "\u001b[0;32m/usr/local/lib/python3.10/dist-packages/torch/nn/modules/loss.py\u001b[0m in \u001b[0;36mforward\u001b[0;34m(self, input, target)\u001b[0m\n\u001b[1;32m   1575\u001b[0m \u001b[0;34m\u001b[0m\u001b[0m\n\u001b[1;32m   1576\u001b[0m     \u001b[0;32mdef\u001b[0m \u001b[0mforward\u001b[0m\u001b[0;34m(\u001b[0m\u001b[0mself\u001b[0m\u001b[0;34m,\u001b[0m \u001b[0minput\u001b[0m\u001b[0;34m:\u001b[0m \u001b[0mTensor\u001b[0m\u001b[0;34m,\u001b[0m \u001b[0mtarget\u001b[0m\u001b[0;34m:\u001b[0m \u001b[0mTensor\u001b[0m\u001b[0;34m)\u001b[0m \u001b[0;34m->\u001b[0m \u001b[0mTensor\u001b[0m\u001b[0;34m:\u001b[0m\u001b[0;34m\u001b[0m\u001b[0;34m\u001b[0m\u001b[0m\n\u001b[0;32m-> 1577\u001b[0;31m         return F.multi_margin_loss(\n\u001b[0m\u001b[1;32m   1578\u001b[0m             \u001b[0minput\u001b[0m\u001b[0;34m,\u001b[0m\u001b[0;34m\u001b[0m\u001b[0;34m\u001b[0m\u001b[0m\n\u001b[1;32m   1579\u001b[0m             \u001b[0mtarget\u001b[0m\u001b[0;34m,\u001b[0m\u001b[0;34m\u001b[0m\u001b[0;34m\u001b[0m\u001b[0m\n",
            "\u001b[0;32m/usr/local/lib/python3.10/dist-packages/torch/nn/functional.py\u001b[0m in \u001b[0;36mmulti_margin_loss\u001b[0;34m(input, target, p, margin, weight, size_average, reduce, reduction)\u001b[0m\n\u001b[1;32m   4013\u001b[0m     \"\"\"\n\u001b[1;32m   4014\u001b[0m     \u001b[0;32mif\u001b[0m \u001b[0mhas_torch_function_variadic\u001b[0m\u001b[0;34m(\u001b[0m\u001b[0minput\u001b[0m\u001b[0;34m,\u001b[0m \u001b[0mtarget\u001b[0m\u001b[0;34m,\u001b[0m \u001b[0mweight\u001b[0m\u001b[0;34m)\u001b[0m\u001b[0;34m:\u001b[0m\u001b[0;34m\u001b[0m\u001b[0;34m\u001b[0m\u001b[0m\n\u001b[0;32m-> 4015\u001b[0;31m         return handle_torch_function(\n\u001b[0m\u001b[1;32m   4016\u001b[0m             \u001b[0mmulti_margin_loss\u001b[0m\u001b[0;34m,\u001b[0m\u001b[0;34m\u001b[0m\u001b[0;34m\u001b[0m\u001b[0m\n\u001b[1;32m   4017\u001b[0m             \u001b[0;34m(\u001b[0m\u001b[0minput\u001b[0m\u001b[0;34m,\u001b[0m \u001b[0mtarget\u001b[0m\u001b[0;34m,\u001b[0m \u001b[0mweight\u001b[0m\u001b[0;34m)\u001b[0m\u001b[0;34m,\u001b[0m\u001b[0;34m\u001b[0m\u001b[0;34m\u001b[0m\u001b[0m\n",
            "\u001b[0;32m/usr/local/lib/python3.10/dist-packages/torch/overrides.py\u001b[0m in \u001b[0;36mhandle_torch_function\u001b[0;34m(public_api, relevant_args, *args, **kwargs)\u001b[0m\n\u001b[1;32m   1737\u001b[0m         \u001b[0;31m# Use `public_api` instead of `implementation` so __torch_function__\u001b[0m\u001b[0;34m\u001b[0m\u001b[0;34m\u001b[0m\u001b[0m\n\u001b[1;32m   1738\u001b[0m         \u001b[0;31m# implementations can do equality/identity comparisons.\u001b[0m\u001b[0;34m\u001b[0m\u001b[0;34m\u001b[0m\u001b[0m\n\u001b[0;32m-> 1739\u001b[0;31m         \u001b[0mresult\u001b[0m \u001b[0;34m=\u001b[0m \u001b[0mtorch_func_method\u001b[0m\u001b[0;34m(\u001b[0m\u001b[0mpublic_api\u001b[0m\u001b[0;34m,\u001b[0m \u001b[0mtypes\u001b[0m\u001b[0;34m,\u001b[0m \u001b[0margs\u001b[0m\u001b[0;34m,\u001b[0m \u001b[0mkwargs\u001b[0m\u001b[0;34m)\u001b[0m\u001b[0;34m\u001b[0m\u001b[0;34m\u001b[0m\u001b[0m\n\u001b[0m\u001b[1;32m   1740\u001b[0m \u001b[0;34m\u001b[0m\u001b[0m\n\u001b[1;32m   1741\u001b[0m         \u001b[0;32mif\u001b[0m \u001b[0mresult\u001b[0m \u001b[0;32mis\u001b[0m \u001b[0;32mnot\u001b[0m \u001b[0mNotImplemented\u001b[0m\u001b[0;34m:\u001b[0m\u001b[0;34m\u001b[0m\u001b[0;34m\u001b[0m\u001b[0m\n",
            "\u001b[0;32m/usr/local/lib/python3.10/dist-packages/monai/data/meta_tensor.py\u001b[0m in \u001b[0;36m__torch_function__\u001b[0;34m(cls, func, types, args, kwargs)\u001b[0m\n\u001b[1;32m    280\u001b[0m         \u001b[0;32mif\u001b[0m \u001b[0mkwargs\u001b[0m \u001b[0;32mis\u001b[0m \u001b[0;32mNone\u001b[0m\u001b[0;34m:\u001b[0m\u001b[0;34m\u001b[0m\u001b[0;34m\u001b[0m\u001b[0m\n\u001b[1;32m    281\u001b[0m             \u001b[0mkwargs\u001b[0m \u001b[0;34m=\u001b[0m \u001b[0;34m{\u001b[0m\u001b[0;34m}\u001b[0m\u001b[0;34m\u001b[0m\u001b[0;34m\u001b[0m\u001b[0m\n\u001b[0;32m--> 282\u001b[0;31m         \u001b[0mret\u001b[0m \u001b[0;34m=\u001b[0m \u001b[0msuper\u001b[0m\u001b[0;34m(\u001b[0m\u001b[0;34m)\u001b[0m\u001b[0;34m.\u001b[0m\u001b[0m__torch_function__\u001b[0m\u001b[0;34m(\u001b[0m\u001b[0mfunc\u001b[0m\u001b[0;34m,\u001b[0m \u001b[0mtypes\u001b[0m\u001b[0;34m,\u001b[0m \u001b[0margs\u001b[0m\u001b[0;34m,\u001b[0m \u001b[0mkwargs\u001b[0m\u001b[0;34m)\u001b[0m\u001b[0;34m\u001b[0m\u001b[0;34m\u001b[0m\u001b[0m\n\u001b[0m\u001b[1;32m    283\u001b[0m         \u001b[0;31m# if `out` has been used as argument, metadata is not copied, nothing to do.\u001b[0m\u001b[0;34m\u001b[0m\u001b[0;34m\u001b[0m\u001b[0m\n\u001b[1;32m    284\u001b[0m         \u001b[0;31m# if \"out\" in kwargs:\u001b[0m\u001b[0;34m\u001b[0m\u001b[0;34m\u001b[0m\u001b[0m\n",
            "\u001b[0;32m/usr/local/lib/python3.10/dist-packages/torch/_tensor.py\u001b[0m in \u001b[0;36m__torch_function__\u001b[0;34m(cls, func, types, args, kwargs)\u001b[0m\n\u001b[1;32m   1510\u001b[0m \u001b[0;34m\u001b[0m\u001b[0m\n\u001b[1;32m   1511\u001b[0m         \u001b[0;32mwith\u001b[0m \u001b[0m_C\u001b[0m\u001b[0;34m.\u001b[0m\u001b[0mDisableTorchFunctionSubclass\u001b[0m\u001b[0;34m(\u001b[0m\u001b[0;34m)\u001b[0m\u001b[0;34m:\u001b[0m\u001b[0;34m\u001b[0m\u001b[0;34m\u001b[0m\u001b[0m\n\u001b[0;32m-> 1512\u001b[0;31m             \u001b[0mret\u001b[0m \u001b[0;34m=\u001b[0m \u001b[0mfunc\u001b[0m\u001b[0;34m(\u001b[0m\u001b[0;34m*\u001b[0m\u001b[0margs\u001b[0m\u001b[0;34m,\u001b[0m \u001b[0;34m**\u001b[0m\u001b[0mkwargs\u001b[0m\u001b[0;34m)\u001b[0m\u001b[0;34m\u001b[0m\u001b[0;34m\u001b[0m\u001b[0m\n\u001b[0m\u001b[1;32m   1513\u001b[0m             \u001b[0;32mif\u001b[0m \u001b[0mfunc\u001b[0m \u001b[0;32min\u001b[0m \u001b[0mget_default_nowrap_functions\u001b[0m\u001b[0;34m(\u001b[0m\u001b[0;34m)\u001b[0m\u001b[0;34m:\u001b[0m\u001b[0;34m\u001b[0m\u001b[0;34m\u001b[0m\u001b[0m\n\u001b[1;32m   1514\u001b[0m                 \u001b[0;32mreturn\u001b[0m \u001b[0mret\u001b[0m\u001b[0;34m\u001b[0m\u001b[0;34m\u001b[0m\u001b[0m\n",
            "\u001b[0;32m/usr/local/lib/python3.10/dist-packages/torch/nn/functional.py\u001b[0m in \u001b[0;36mmulti_margin_loss\u001b[0;34m(input, target, p, margin, weight, size_average, reduce, reduction)\u001b[0m\n\u001b[1;32m   4035\u001b[0m             \u001b[0;32mraise\u001b[0m \u001b[0mValueError\u001b[0m\u001b[0;34m(\u001b[0m\u001b[0;34m\"weight must be one-dimensional\"\u001b[0m\u001b[0;34m)\u001b[0m\u001b[0;34m\u001b[0m\u001b[0;34m\u001b[0m\u001b[0m\n\u001b[1;32m   4036\u001b[0m \u001b[0;34m\u001b[0m\u001b[0m\n\u001b[0;32m-> 4037\u001b[0;31m     return torch._C._nn.multi_margin_loss(\n\u001b[0m\u001b[1;32m   4038\u001b[0m         \u001b[0minput\u001b[0m\u001b[0;34m,\u001b[0m \u001b[0mtarget\u001b[0m\u001b[0;34m,\u001b[0m \u001b[0mp\u001b[0m\u001b[0;34m,\u001b[0m \u001b[0mmargin\u001b[0m\u001b[0;34m,\u001b[0m \u001b[0mweight\u001b[0m\u001b[0;34m,\u001b[0m \u001b[0mreduction_enum\u001b[0m\u001b[0;34m\u001b[0m\u001b[0;34m\u001b[0m\u001b[0m\n\u001b[1;32m   4039\u001b[0m     )\n",
            "\u001b[0;31mRuntimeError\u001b[0m: inconsistent target size, expected 32 but got [32, 1]"
          ]
        }
      ]
    },
    {
      "cell_type": "markdown",
      "source": [
        "### Evaluation"
      ],
      "metadata": {
        "id": "Pa9mtMS3rieN"
      }
    },
    {
      "cell_type": "code",
      "source": [
        "# Load the best model\n",
        "model.load_state_dict(torch.load(\"/content/best_metric_model_losfunctionchange.pth\"))\n",
        "\n",
        "#Setting the model to evaluation state\n",
        "model.eval()\n",
        "\n",
        "\n",
        "with torch.no_grad():\n",
        "    y_pred = torch.tensor([], dtype=torch.float32, device=device)\n",
        "    y = torch.tensor([], dtype=torch.long, device=device)\n",
        "    for val_data in val_loader:\n",
        "        val_images, val_labels = val_data[0][\"image\"].to(device), val_data[1].to(device)\n",
        "        y_pred = torch.cat([y_pred, model(val_images)], dim=0)\n",
        "        y = torch.cat([y, val_labels], dim=0)\n",
        "\n",
        "print(f\"The shape of y_pred is: {y_pred.shape}\")\n",
        "y_pred_class = torch.argmax(y_pred,dim=1)\n",
        "print(f\"The shape of y_pred_class is: {y_pred_class.shape}\")\n",
        "print(f\"The shape of y_pred_class is: {y_pred_class.unsqueeze(-1).shape}\")\n",
        "accuracy = accuracy_score(y_pred_class.cpu().numpy(),y.squeeze(-1).cpu().numpy())\n",
        "print(f\"Accuracy on validation set: {accuracy}\")\n",
        "y_onehot = [y_trans(i) for i in decollate_batch(y, detach=False)]\n",
        "y_pred_onehot = [y_trans(i) for i in decollate_batch(y_pred_class.unsqueeze(-1), detach=False)]\n",
        "y_onehot = torch.stack(y_onehot)\n",
        "y_pred_onehot = torch.stack(y_pred_onehot)\n",
        "print(f\"The shape of y_pred_onehot is: {y_pred_onehot.shape}\")\n",
        "print(f\"The shape of y_onehot is: {y_onehot.shape}\")\n",
        "# print(f\"Confusion Matrix:\\n{conf_matrix}\")\n",
        "conf_matix_sklearn = confusion_matrix(y,y_pred_class)\n",
        "# print(f\"Confusion Matrix:\\n{conf_matix_sklearn}\")\n",
        "\n",
        "from sklearn.metrics import classification_report\n",
        "\n",
        "print(classification_report(y.cpu().numpy(), y_pred_class.cpu().numpy(), target_names=class_names))"
      ],
      "metadata": {
        "colab": {
          "base_uri": "https://localhost:8080/"
        },
        "id": "EIfEur7grm38",
        "outputId": "8d8be4d1-fe8f-41b5-be89-9ef51b208bab"
      },
      "execution_count": null,
      "outputs": [
        {
          "output_type": "stream",
          "name": "stderr",
          "text": [
            "You are using `torch.load` with `weights_only=False` (the current default value), which uses the default pickle module implicitly. It is possible to construct malicious pickle data which will execute arbitrary code during unpickling (See https://github.com/pytorch/pytorch/blob/main/SECURITY.md#untrusted-models for more details). In a future release, the default value for `weights_only` will be flipped to `True`. This limits the functions that could be executed during unpickling. Arbitrary objects will no longer be allowed to be loaded via this mode unless they are explicitly allowlisted by the user via `torch.serialization.add_safe_globals`. We recommend you start setting `weights_only=True` for any use case where you don't have full control of the loaded file. Please open an issue on GitHub for any issues related to this experimental feature.\n"
          ]
        },
        {
          "output_type": "stream",
          "name": "stdout",
          "text": [
            "The shape of y_pred is: torch.Size([524, 2])\n",
            "The shape of y_pred_class is: torch.Size([524])\n",
            "The shape of y_pred_class is: torch.Size([524, 1])\n",
            "Accuracy on validation set: 0.9713740458015268\n",
            "The shape of y_pred_onehot is: torch.Size([524, 2])\n",
            "The shape of y_onehot is: torch.Size([524, 2])\n",
            "              precision    recall  f1-score   support\n",
            "\n",
            "      normal       0.95      0.93      0.94       135\n",
            "   pneumonia       0.98      0.98      0.98       389\n",
            "\n",
            "    accuracy                           0.97       524\n",
            "   macro avg       0.97      0.96      0.96       524\n",
            "weighted avg       0.97      0.97      0.97       524\n",
            "\n"
          ]
        }
      ]
    },
    {
      "cell_type": "markdown",
      "source": [
        "#### Visualization"
      ],
      "metadata": {
        "id": "mZKBqMEDrw-t"
      }
    },
    {
      "cell_type": "code",
      "source": [
        "import seaborn as sns\n",
        "import matplotlib.pyplot as plt\n",
        "\n",
        "# Assuming conf_matix_sklearn is your confusion matrix from sklearn\n",
        "plt.figure(figsize=(8, 6))\n",
        "sns.heatmap(conf_matix_sklearn, annot=True, fmt=\"d\", cmap=\"Blues\",\n",
        "            xticklabels=class_names, yticklabels=class_names)\n",
        "plt.xlabel(\"Predicted\")\n",
        "plt.ylabel(\"True\")\n",
        "plt.title(\"Confusion Matrix\")\n",
        "plt.show()"
      ],
      "metadata": {
        "colab": {
          "base_uri": "https://localhost:8080/",
          "height": 564
        },
        "id": "_M516Vc7rxpV",
        "outputId": "637bf93c-5742-454a-a594-04290e0ed7ea"
      },
      "execution_count": null,
      "outputs": [
        {
          "output_type": "display_data",
          "data": {
            "text/plain": [
              "<Figure size 800x600 with 2 Axes>"
            ],
            "image/png": "[encoded data removed]"
          },
          "metadata": {}
        }
      ]
    },
    {
      "cell_type": "markdown",
      "source": [
        "## 3. Changing image dimensions"
      ],
      "metadata": {
        "id": "U6cbAD7ys7Ye"
      }
    },
    {
      "cell_type": "markdown",
      "source": [
        "### Transforms"
      ],
      "metadata": {
        "id": "XQ8GLnMvwSN5"
      }
    },
    {
      "cell_type": "code",
      "source": [
        "from monai.transforms import (\n",
        "    Compose,\n",
        "    LoadImaged,  # Import LoadImaged for dictionary-based input\n",
        "    RandRotate,\n",
        "    RandFlip,\n",
        "    ToTensor,\n",
        "    EnsureChannelFirstd, # Use EnsureChannelFirstd to work with dictionary\n",
        "    ScaleIntensityd, # Use ScaleIntensityd to work with dictionary\n",
        "    EnsureTyped, # Add this\n",
        "    Resized,\n",
        "    BorderPadd\n",
        ")\n",
        "from monai.data import Dataset, NumpyReader\n",
        "\n",
        "# Define transforms for training data\n",
        "train_transforms = Compose([\n",
        "    ToTensor(),\n",
        "    EnsureChannelFirstd(keys=['image'], channel_dim=\"no_channel\"),  # Add channel dimension to the image data using the 'image' key\n",
        "    ScaleIntensityd(keys=['image']),  # Rescale image pixel values using the 'image' key\n",
        "    EnsureTyped(keys=['image']),\n",
        "    Resized(keys=[\"image\"],spatial_size=(60,60)),\n",
        "    BorderPadd(keys=[\"image\"],spatial_border=[2,2]),\n",
        "])\n",
        "\n",
        "train_ds = Dataset(data=train_dataset, transform=train_transforms)\n",
        "train_label = np.load('/content/pneumoniamnist/train_labels.npy')\n",
        "train_label = ToTensor()(train_label)\n",
        "\n",
        "\n",
        "\n",
        "val_images = np.load('/content/pneumoniamnist/val_images.npy')\n",
        "val_labels = np.load('/content/pneumoniamnist/val_labels.npy')\n",
        "\n",
        "val_files = [{'image': img} for img in val_images]\n",
        "\n",
        "val_transforms = Compose([\n",
        "    ToTensor(),\n",
        "    EnsureChannelFirstd(keys=['image'], channel_dim=\"no_channel\"),\n",
        "    ScaleIntensityd(keys=['image']),\n",
        "    EnsureTyped(keys=['image']),\n",
        "    Resized(keys=[\"image\"],spatial_size=(60,60)),\n",
        "    BorderPadd(keys=[\"image\"],spatial_border=[2,2]),\n",
        "])\n",
        "\n",
        "val_ds = Dataset(data=val_files, transform=val_transforms)\n",
        "val_label = np.load('/content/pneumoniamnist/val_labels.npy')\n",
        "val_label = ToTensor()(val_label)"
      ],
      "metadata": {
        "id": "kJJR5EO-tAw6"
      },
      "execution_count": null,
      "outputs": []
    },
    {
      "cell_type": "code",
      "source": [
        "print(f\"The length of train dataset is: {len(train_ds)}\")\n",
        "print(f\"The size of the image is: {train_ds[0]['image'].shape} with type {type(train_ds[0]['image'])}\")\n",
        "print(f\"The size of the label is: {train_label.shape} with type {type(train_label)}\")\n",
        "print(f\"The length of val dataset is: {len(val_ds)}\")\n",
        "print(f\"The size of the image is: {val_ds[0]['image'].shape} with type {type(val_ds[0]['image'])}\")\n",
        "print(f\"The size of the label is: {val_label.shape} with type {type(val_label)}\")"
      ],
      "metadata": {
        "colab": {
          "base_uri": "https://localhost:8080/"
        },
        "id": "ExfJHdR5tsQQ",
        "outputId": "74d63ce9-4ece-4c02-bfdb-967a2a5e9bb3"
      },
      "execution_count": null,
      "outputs": [
        {
          "output_type": "stream",
          "name": "stdout",
          "text": [
            "The length of train dataset is: 4708\n",
            "The size of the image is: torch.Size([1, 64, 64]) with type <class 'monai.data.meta_tensor.MetaTensor'>\n",
            "The size of the label is: torch.Size([4708, 1]) with type <class 'monai.data.meta_tensor.MetaTensor'>\n",
            "The length of val dataset is: 524\n",
            "The size of the image is: torch.Size([1, 64, 64]) with type <class 'monai.data.meta_tensor.MetaTensor'>\n",
            "The size of the label is: torch.Size([524, 1]) with type <class 'monai.data.meta_tensor.MetaTensor'>\n"
          ]
        }
      ]
    },
    {
      "cell_type": "markdown",
      "source": [
        "### DataLoader"
      ],
      "metadata": {
        "id": "szQ2YlmAwVrl"
      }
    },
    {
      "cell_type": "code",
      "source": [
        "train_loader = DataLoader(\n",
        "    dataset=list(zip(train_ds, train_label)),  # Use zip to create pairs of (image, label)\n",
        "    batch_size=32,\n",
        "    shuffle=True,\n",
        "    num_workers=2\n",
        ")\n",
        "\n",
        "val_loader = DataLoader(\n",
        "    dataset=list(zip(val_ds, val_label)),\n",
        "    batch_size=32,\n",
        "    shuffle=False,\n",
        "    num_workers=2\n",
        ")"
      ],
      "metadata": {
        "id": "FIfk2Lp1wXX_"
      },
      "execution_count": null,
      "outputs": []
    },
    {
      "cell_type": "markdown",
      "source": [
        "### Model & Training"
      ],
      "metadata": {
        "id": "HgyMiXtgwImq"
      }
    },
    {
      "cell_type": "code",
      "source": [
        "from monai.networks.nets import DenseNet\n",
        "from monai.losses import DiceCELoss\n",
        "from monai.metrics import ROCAUCMetric\n",
        "import sklearn\n",
        "del model\n",
        "device= torch.device(\"cuda\" if torch.cuda.is_available() else 'cpu')\n",
        "if(device == \"cpu\"): print(\"using CPU\")\n",
        "\n",
        "model = DenseNet(spatial_dims=2, in_channels=1, out_channels=2).to(device)\n",
        "loss_function=DiceCELoss(to_onehot_y=True,lambda_dice=0,lambda_ce=1)\n",
        "optimizer= torch.optim.Adam(model.parameters(), 1e-3)\n",
        "max_epochs=1\n",
        "val_interval=1\n",
        "auc_metric = ROCAUCMetric()\n",
        "class_names = ['normal', 'pneumonia']\n",
        "\n",
        "from monai.transforms import AsDiscrete, Activations\n",
        "y_pred_trans = Activations(softmax=True)                          #added y_pred_trans for softmax\n",
        "y_trans = AsDiscrete(to_onehot=2)                                 #added y_trans for one_hot"
      ],
      "metadata": {
        "id": "4wxLZeEVwO7w"
      },
      "execution_count": null,
      "outputs": []
    },
    {
      "cell_type": "markdown",
      "source": [
        "Training"
      ],
      "metadata": {
        "id": "QNRJ3KjEwl_T"
      }
    },
    {
      "cell_type": "code",
      "source": [
        "from monai.data import decollate_batch\n",
        "from sklearn.metrics import accuracy_score\n",
        "from tqdm import tqdm\n",
        "best_metric = -1\n",
        "best_metric_epoch = -1\n",
        "epoch_loss_values = []\n",
        "metric_values = []\n",
        "max_epochs=5\n",
        "\n",
        "\n",
        "for epoch in range(max_epochs):                                                                   #Iteration of for loop through multiple epochs\n",
        "    print(\"-\" * 10)\n",
        "    print(f\"epoch {epoch + 1}/{max_epochs}\")\n",
        "    model.train()\n",
        "    epoch_loss = 0\n",
        "    step = 0\n",
        "    for batch_data in tqdm(train_loader):                                                                              #Iteration of all the data in train loader\n",
        "        step += 1\n",
        "        inputs, labels = batch_data\n",
        "        inputs = inputs[\"image\"].to(device)\n",
        "        labels = labels.to(device)\n",
        "        optimizer.zero_grad()\n",
        "        outputs = model(inputs)                                                                                 #Predicting the outputs from the model\n",
        "        loss = loss_function(outputs, labels)                                                                   #Computing the loss for each batch\n",
        "        loss.backward()\n",
        "        optimizer.step()\n",
        "        epoch_loss += loss.item()\n",
        "        # print(f\"{step}/{len(train_ds) // train_loader.batch_size}, \" f\"train_loss: {loss.item():.4f}\")\n",
        "        epoch_len = len(train_ds) // train_loader.batch_size\n",
        "    epoch_loss /= step\n",
        "    epoch_loss_values.append(epoch_loss)\n",
        "    print(f\"epoch {epoch + 1} average loss: {epoch_loss:.4f}\")                                                  #Printing the computed loss after training\n",
        "\n",
        "    if (epoch + 1) % val_interval == 0:\n",
        "        model.eval()\n",
        "        with torch.no_grad():\n",
        "            y_pred = torch.tensor([], dtype=torch.float32, device=device)\n",
        "            y = torch.tensor([], dtype=torch.long, device=device)\n",
        "            for val_data in val_loader:                                                                         #Iteration of all the data in val loader\n",
        "                val_images, val_labels = val_data[0][\"image\"].to(device), val_data[1].to(device)\n",
        "                y_pred = torch.cat([y_pred, model(val_images)], dim=0)\n",
        "                y = torch.cat([y, val_labels], dim=0)\n",
        "            y_onehot = [y_trans(i) for i in decollate_batch(y, detach=False)]\n",
        "            y_pred_act = [y_pred_trans(i) for i in decollate_batch(y_pred)]\n",
        "            auc_metric(y_pred_act, y_onehot)                                                                    #Computing the AUROC metric\n",
        "            result = auc_metric.aggregate()\n",
        "            auc_metric.reset()\n",
        "            del y_pred_act, y_onehot\n",
        "            metric_values.append(result)\n",
        "            y_pred_class = torch.argmax(y_pred, dim=1)                          # Convert logits to class labels\n",
        "            acc_metric = accuracy_score(y.cpu().numpy(),y_pred_class.cpu().numpy())                             # Computing the accuracy\n",
        "            if result > best_metric:\n",
        "                best_metric = result\n",
        "                best_metric_epoch = epoch + 1\n",
        "                torch.save(model.state_dict(), \"best_metric_model_imageresize.pth\")\n",
        "                print(\"saved new best metric model\")\n",
        "            print(\n",
        "                f\"current epoch: {epoch + 1} current AUC: {result:.4f}\"\n",
        "                f\" current accuracy: {acc_metric:.4f}\"\n",
        "                f\" best AUC: {best_metric:.4f}\"\n",
        "                f\" at epoch: {best_metric_epoch}\"\n",
        "            )\n",
        "\n",
        "print(f\"train completed, best_metric: {best_metric:.4f} \" f\"at epoch: {best_metric_epoch}\")"
      ],
      "metadata": {
        "colab": {
          "base_uri": "https://localhost:8080/",
          "height": 512
        },
        "id": "uCkYHhGiwp0k",
        "outputId": "c15c6909-f890-463f-f7bb-e9a8706e042b"
      },
      "execution_count": null,
      "outputs": [
        {
          "output_type": "stream",
          "name": "stdout",
          "text": [
            "----------\n",
            "epoch 1/5\n"
          ]
        },
        {
          "output_type": "stream",
          "name": "stderr",
          "text": [
            "100%|██████████| 148/148 [05:48<00:00,  2.35s/it]"
          ]
        },
        {
          "output_type": "stream",
          "name": "stdout",
          "text": [
            "epoch 1 average loss: 0.1820\n"
          ]
        },
        {
          "output_type": "stream",
          "name": "stderr",
          "text": [
            "\n"
          ]
        },
        {
          "output_type": "stream",
          "name": "stdout",
          "text": [
            "saved new best metric model\n",
            "current epoch: 1 current AUC: 0.9924 current accuracy: 0.9523 best AUC: 0.9924 at epoch: 1\n",
            "----------\n",
            "epoch 2/5\n"
          ]
        },
        {
          "output_type": "stream",
          "name": "stderr",
          "text": [
            "  1%|▏         | 2/148 [00:08<10:17,  4.23s/it]\n"
          ]
        },
        {
          "output_type": "error",
          "ename": "KeyboardInterrupt",
          "evalue": "",
          "traceback": [
            "\u001b[0;31m---------------------------------------------------------------------------\u001b[0m",
            "\u001b[0;31mKeyboardInterrupt\u001b[0m                         Traceback (most recent call last)",
            "\u001b[0;32m<ipython-input-50-d89e90c9cd6a>\u001b[0m in \u001b[0;36m<cell line: 11>\u001b[0;34m()\u001b[0m\n\u001b[1;32m     23\u001b[0m         \u001b[0moutputs\u001b[0m \u001b[0;34m=\u001b[0m \u001b[0mmodel\u001b[0m\u001b[0;34m(\u001b[0m\u001b[0minputs\u001b[0m\u001b[0;34m)\u001b[0m                                                                                 \u001b[0;31m#Predicting the outputs from the model\u001b[0m\u001b[0;34m\u001b[0m\u001b[0;34m\u001b[0m\u001b[0m\n\u001b[1;32m     24\u001b[0m         \u001b[0mloss\u001b[0m \u001b[0;34m=\u001b[0m \u001b[0mloss_function\u001b[0m\u001b[0;34m(\u001b[0m\u001b[0moutputs\u001b[0m\u001b[0;34m,\u001b[0m \u001b[0mlabels\u001b[0m\u001b[0;34m)\u001b[0m                                                                   \u001b[0;31m#Computing the loss for each batch\u001b[0m\u001b[0;34m\u001b[0m\u001b[0;34m\u001b[0m\u001b[0m\n\u001b[0;32m---> 25\u001b[0;31m         \u001b[0mloss\u001b[0m\u001b[0;34m.\u001b[0m\u001b[0mbackward\u001b[0m\u001b[0;34m(\u001b[0m\u001b[0;34m)\u001b[0m\u001b[0;34m\u001b[0m\u001b[0;34m\u001b[0m\u001b[0m\n\u001b[0m\u001b[1;32m     26\u001b[0m         \u001b[0moptimizer\u001b[0m\u001b[0;34m.\u001b[0m\u001b[0mstep\u001b[0m\u001b[0;34m(\u001b[0m\u001b[0;34m)\u001b[0m\u001b[0;34m\u001b[0m\u001b[0;34m\u001b[0m\u001b[0m\n\u001b[1;32m     27\u001b[0m         \u001b[0mepoch_loss\u001b[0m \u001b[0;34m+=\u001b[0m \u001b[0mloss\u001b[0m\u001b[0;34m.\u001b[0m\u001b[0mitem\u001b[0m\u001b[0;34m(\u001b[0m\u001b[0;34m)\u001b[0m\u001b[0;34m\u001b[0m\u001b[0;34m\u001b[0m\u001b[0m\n",
            "\u001b[0;32m/usr/local/lib/python3.10/dist-packages/torch/_tensor.py\u001b[0m in \u001b[0;36mbackward\u001b[0;34m(self, gradient, retain_graph, create_graph, inputs)\u001b[0m\n\u001b[1;32m    570\u001b[0m         \"\"\"\n\u001b[1;32m    571\u001b[0m         \u001b[0;32mif\u001b[0m \u001b[0mhas_torch_function_unary\u001b[0m\u001b[0;34m(\u001b[0m\u001b[0mself\u001b[0m\u001b[0;34m)\u001b[0m\u001b[0;34m:\u001b[0m\u001b[0;34m\u001b[0m\u001b[0;34m\u001b[0m\u001b[0m\n\u001b[0;32m--> 572\u001b[0;31m             return handle_torch_function(\n\u001b[0m\u001b[1;32m    573\u001b[0m                 \u001b[0mTensor\u001b[0m\u001b[0;34m.\u001b[0m\u001b[0mbackward\u001b[0m\u001b[0;34m,\u001b[0m\u001b[0;34m\u001b[0m\u001b[0;34m\u001b[0m\u001b[0m\n\u001b[1;32m    574\u001b[0m                 \u001b[0;34m(\u001b[0m\u001b[0mself\u001b[0m\u001b[0;34m,\u001b[0m\u001b[0;34m)\u001b[0m\u001b[0;34m,\u001b[0m\u001b[0;34m\u001b[0m\u001b[0;34m\u001b[0m\u001b[0m\n",
            "\u001b[0;32m/usr/local/lib/python3.10/dist-packages/torch/overrides.py\u001b[0m in \u001b[0;36mhandle_torch_function\u001b[0;34m(public_api, relevant_args, *args, **kwargs)\u001b[0m\n\u001b[1;32m   1737\u001b[0m         \u001b[0;31m# Use `public_api` instead of `implementation` so __torch_function__\u001b[0m\u001b[0;34m\u001b[0m\u001b[0;34m\u001b[0m\u001b[0m\n\u001b[1;32m   1738\u001b[0m         \u001b[0;31m# implementations can do equality/identity comparisons.\u001b[0m\u001b[0;34m\u001b[0m\u001b[0;34m\u001b[0m\u001b[0m\n\u001b[0;32m-> 1739\u001b[0;31m         \u001b[0mresult\u001b[0m \u001b[0;34m=\u001b[0m \u001b[0mtorch_func_method\u001b[0m\u001b[0;34m(\u001b[0m\u001b[0mpublic_api\u001b[0m\u001b[0;34m,\u001b[0m \u001b[0mtypes\u001b[0m\u001b[0;34m,\u001b[0m \u001b[0margs\u001b[0m\u001b[0;34m,\u001b[0m \u001b[0mkwargs\u001b[0m\u001b[0;34m)\u001b[0m\u001b[0;34m\u001b[0m\u001b[0;34m\u001b[0m\u001b[0m\n\u001b[0m\u001b[1;32m   1740\u001b[0m \u001b[0;34m\u001b[0m\u001b[0m\n\u001b[1;32m   1741\u001b[0m         \u001b[0;32mif\u001b[0m \u001b[0mresult\u001b[0m \u001b[0;32mis\u001b[0m \u001b[0;32mnot\u001b[0m \u001b[0mNotImplemented\u001b[0m\u001b[0;34m:\u001b[0m\u001b[0;34m\u001b[0m\u001b[0;34m\u001b[0m\u001b[0m\n",
            "\u001b[0;32m/usr/local/lib/python3.10/dist-packages/monai/data/meta_tensor.py\u001b[0m in \u001b[0;36m__torch_function__\u001b[0;34m(cls, func, types, args, kwargs)\u001b[0m\n\u001b[1;32m    280\u001b[0m         \u001b[0;32mif\u001b[0m \u001b[0mkwargs\u001b[0m \u001b[0;32mis\u001b[0m \u001b[0;32mNone\u001b[0m\u001b[0;34m:\u001b[0m\u001b[0;34m\u001b[0m\u001b[0;34m\u001b[0m\u001b[0m\n\u001b[1;32m    281\u001b[0m             \u001b[0mkwargs\u001b[0m \u001b[0;34m=\u001b[0m \u001b[0;34m{\u001b[0m\u001b[0;34m}\u001b[0m\u001b[0;34m\u001b[0m\u001b[0;34m\u001b[0m\u001b[0m\n\u001b[0;32m--> 282\u001b[0;31m         \u001b[0mret\u001b[0m \u001b[0;34m=\u001b[0m \u001b[0msuper\u001b[0m\u001b[0;34m(\u001b[0m\u001b[0;34m)\u001b[0m\u001b[0;34m.\u001b[0m\u001b[0m__torch_function__\u001b[0m\u001b[0;34m(\u001b[0m\u001b[0mfunc\u001b[0m\u001b[0;34m,\u001b[0m \u001b[0mtypes\u001b[0m\u001b[0;34m,\u001b[0m \u001b[0margs\u001b[0m\u001b[0;34m,\u001b[0m \u001b[0mkwargs\u001b[0m\u001b[0;34m)\u001b[0m\u001b[0;34m\u001b[0m\u001b[0;34m\u001b[0m\u001b[0m\n\u001b[0m\u001b[1;32m    283\u001b[0m         \u001b[0;31m# if `out` has been used as argument, metadata is not copied, nothing to do.\u001b[0m\u001b[0;34m\u001b[0m\u001b[0;34m\u001b[0m\u001b[0m\n\u001b[1;32m    284\u001b[0m         \u001b[0;31m# if \"out\" in kwargs:\u001b[0m\u001b[0;34m\u001b[0m\u001b[0;34m\u001b[0m\u001b[0m\n",
            "\u001b[0;32m/usr/local/lib/python3.10/dist-packages/torch/_tensor.py\u001b[0m in \u001b[0;36m__torch_function__\u001b[0;34m(cls, func, types, args, kwargs)\u001b[0m\n\u001b[1;32m   1510\u001b[0m \u001b[0;34m\u001b[0m\u001b[0m\n\u001b[1;32m   1511\u001b[0m         \u001b[0;32mwith\u001b[0m \u001b[0m_C\u001b[0m\u001b[0;34m.\u001b[0m\u001b[0mDisableTorchFunctionSubclass\u001b[0m\u001b[0;34m(\u001b[0m\u001b[0;34m)\u001b[0m\u001b[0;34m:\u001b[0m\u001b[0;34m\u001b[0m\u001b[0;34m\u001b[0m\u001b[0m\n\u001b[0;32m-> 1512\u001b[0;31m             \u001b[0mret\u001b[0m \u001b[0;34m=\u001b[0m \u001b[0mfunc\u001b[0m\u001b[0;34m(\u001b[0m\u001b[0;34m*\u001b[0m\u001b[0margs\u001b[0m\u001b[0;34m,\u001b[0m \u001b[0;34m**\u001b[0m\u001b[0mkwargs\u001b[0m\u001b[0;34m)\u001b[0m\u001b[0;34m\u001b[0m\u001b[0;34m\u001b[0m\u001b[0m\n\u001b[0m\u001b[1;32m   1513\u001b[0m             \u001b[0;32mif\u001b[0m \u001b[0mfunc\u001b[0m \u001b[0;32min\u001b[0m \u001b[0mget_default_nowrap_functions\u001b[0m\u001b[0;34m(\u001b[0m\u001b[0;34m)\u001b[0m\u001b[0;34m:\u001b[0m\u001b[0;34m\u001b[0m\u001b[0;34m\u001b[0m\u001b[0m\n\u001b[1;32m   1514\u001b[0m                 \u001b[0;32mreturn\u001b[0m \u001b[0mret\u001b[0m\u001b[0;34m\u001b[0m\u001b[0;34m\u001b[0m\u001b[0m\n",
            "\u001b[0;32m/usr/local/lib/python3.10/dist-packages/torch/_tensor.py\u001b[0m in \u001b[0;36mbackward\u001b[0;34m(self, gradient, retain_graph, create_graph, inputs)\u001b[0m\n\u001b[1;32m    579\u001b[0m                 \u001b[0minputs\u001b[0m\u001b[0;34m=\u001b[0m\u001b[0minputs\u001b[0m\u001b[0;34m,\u001b[0m\u001b[0;34m\u001b[0m\u001b[0;34m\u001b[0m\u001b[0m\n\u001b[1;32m    580\u001b[0m             )\n\u001b[0;32m--> 581\u001b[0;31m         torch.autograd.backward(\n\u001b[0m\u001b[1;32m    582\u001b[0m             \u001b[0mself\u001b[0m\u001b[0;34m,\u001b[0m \u001b[0mgradient\u001b[0m\u001b[0;34m,\u001b[0m \u001b[0mretain_graph\u001b[0m\u001b[0;34m,\u001b[0m \u001b[0mcreate_graph\u001b[0m\u001b[0;34m,\u001b[0m \u001b[0minputs\u001b[0m\u001b[0;34m=\u001b[0m\u001b[0minputs\u001b[0m\u001b[0;34m\u001b[0m\u001b[0;34m\u001b[0m\u001b[0m\n\u001b[1;32m    583\u001b[0m         )\n",
            "\u001b[0;32m/usr/local/lib/python3.10/dist-packages/torch/autograd/__init__.py\u001b[0m in \u001b[0;36mbackward\u001b[0;34m(tensors, grad_tensors, retain_graph, create_graph, grad_variables, inputs)\u001b[0m\n\u001b[1;32m    345\u001b[0m     \u001b[0;31m# some Python versions print out the first line of a multi-line function\u001b[0m\u001b[0;34m\u001b[0m\u001b[0;34m\u001b[0m\u001b[0m\n\u001b[1;32m    346\u001b[0m     \u001b[0;31m# calls in the traceback and some print out the last line\u001b[0m\u001b[0;34m\u001b[0m\u001b[0;34m\u001b[0m\u001b[0m\n\u001b[0;32m--> 347\u001b[0;31m     _engine_run_backward(\n\u001b[0m\u001b[1;32m    348\u001b[0m         \u001b[0mtensors\u001b[0m\u001b[0;34m,\u001b[0m\u001b[0;34m\u001b[0m\u001b[0;34m\u001b[0m\u001b[0m\n\u001b[1;32m    349\u001b[0m         \u001b[0mgrad_tensors_\u001b[0m\u001b[0;34m,\u001b[0m\u001b[0;34m\u001b[0m\u001b[0;34m\u001b[0m\u001b[0m\n",
            "\u001b[0;32m/usr/local/lib/python3.10/dist-packages/torch/autograd/graph.py\u001b[0m in \u001b[0;36m_engine_run_backward\u001b[0;34m(t_outputs, *args, **kwargs)\u001b[0m\n\u001b[1;32m    823\u001b[0m         \u001b[0munregister_hooks\u001b[0m \u001b[0;34m=\u001b[0m \u001b[0m_register_logging_hooks_on_whole_graph\u001b[0m\u001b[0;34m(\u001b[0m\u001b[0mt_outputs\u001b[0m\u001b[0;34m)\u001b[0m\u001b[0;34m\u001b[0m\u001b[0;34m\u001b[0m\u001b[0m\n\u001b[1;32m    824\u001b[0m     \u001b[0;32mtry\u001b[0m\u001b[0;34m:\u001b[0m\u001b[0;34m\u001b[0m\u001b[0;34m\u001b[0m\u001b[0m\n\u001b[0;32m--> 825\u001b[0;31m         return Variable._execution_engine.run_backward(  # Calls into the C++ engine to run the backward pass\n\u001b[0m\u001b[1;32m    826\u001b[0m             \u001b[0mt_outputs\u001b[0m\u001b[0;34m,\u001b[0m \u001b[0;34m*\u001b[0m\u001b[0margs\u001b[0m\u001b[0;34m,\u001b[0m \u001b[0;34m**\u001b[0m\u001b[0mkwargs\u001b[0m\u001b[0;34m\u001b[0m\u001b[0;34m\u001b[0m\u001b[0m\n\u001b[1;32m    827\u001b[0m         )  # Calls into the C++ engine to run the backward pass\n",
            "\u001b[0;31mKeyboardInterrupt\u001b[0m: "
          ]
        }
      ]
    },
    {
      "cell_type": "markdown",
      "source": [
        "### Evaluation"
      ],
      "metadata": {
        "id": "i8oEWZNtwrOc"
      }
    },
    {
      "cell_type": "code",
      "source": [
        "# Load the best model\n",
        "model.load_state_dict(torch.load(\"/content/best_metric_model_imageresize.pth\"))\n",
        "\n",
        "#Setting the model to evaluation state\n",
        "model.eval()\n",
        "\n",
        "\n",
        "with torch.no_grad():\n",
        "    y_pred = torch.tensor([], dtype=torch.float32, device=device)\n",
        "    y = torch.tensor([], dtype=torch.long, device=device)\n",
        "    for val_data in val_loader:\n",
        "        val_images, val_labels = val_data[0][\"image\"].to(device), val_data[1].to(device)\n",
        "        y_pred = torch.cat([y_pred, model(val_images)], dim=0)\n",
        "        y = torch.cat([y, val_labels], dim=0)\n",
        "\n",
        "print(f\"The shape of y_pred is: {y_pred.shape}\")\n",
        "y_pred_class = torch.argmax(y_pred,dim=1)\n",
        "print(f\"The shape of y_pred_class is: {y_pred_class.shape}\")\n",
        "print(f\"The shape of y_pred_class is: {y_pred_class.unsqueeze(-1).shape}\")\n",
        "accuracy = accuracy_score(y_pred_class.cpu().numpy(),y.squeeze(-1).cpu().numpy())\n",
        "print(f\"Accuracy on validation set: {accuracy}\")\n",
        "y_onehot = [y_trans(i) for i in decollate_batch(y, detach=False)]\n",
        "y_pred_onehot = [y_trans(i) for i in decollate_batch(y_pred_class.unsqueeze(-1), detach=False)]\n",
        "y_onehot = torch.stack(y_onehot)\n",
        "y_pred_onehot = torch.stack(y_pred_onehot)\n",
        "print(f\"The shape of y_pred_onehot is: {y_pred_onehot.shape}\")\n",
        "print(f\"The shape of y_onehot is: {y_onehot.shape}\")\n",
        "\n",
        "# print(f\"Confusion Matrix:\\n{conf_matrix}\")\n",
        "conf_matix_sklearn = confusion_matrix(y,y_pred_class)\n",
        "# print(f\"Confusion Matrix:\\n{conf_matix_sklearn}\")\n",
        "\n",
        "from sklearn.metrics import classification_report\n",
        "\n",
        "print(classification_report(y.cpu().numpy(), y_pred_class.cpu().numpy(), target_names=class_names))"
      ],
      "metadata": {
        "colab": {
          "base_uri": "https://localhost:8080/"
        },
        "id": "Ie-nM4Nbws1z",
        "outputId": "34d9dc40-ba1a-407d-cdaf-f6437fa06a4e"
      },
      "execution_count": null,
      "outputs": [
        {
          "output_type": "stream",
          "name": "stderr",
          "text": [
            "You are using `torch.load` with `weights_only=False` (the current default value), which uses the default pickle module implicitly. It is possible to construct malicious pickle data which will execute arbitrary code during unpickling (See https://github.com/pytorch/pytorch/blob/main/SECURITY.md#untrusted-models for more details). In a future release, the default value for `weights_only` will be flipped to `True`. This limits the functions that could be executed during unpickling. Arbitrary objects will no longer be allowed to be loaded via this mode unless they are explicitly allowlisted by the user via `torch.serialization.add_safe_globals`. We recommend you start setting `weights_only=True` for any use case where you don't have full control of the loaded file. Please open an issue on GitHub for any issues related to this experimental feature.\n"
          ]
        },
        {
          "output_type": "stream",
          "name": "stdout",
          "text": [
            "The shape of y_pred is: torch.Size([524, 2])\n",
            "The shape of y_pred_class is: torch.Size([524])\n",
            "The shape of y_pred_class is: torch.Size([524, 1])\n",
            "Accuracy on validation set: 0.9522900763358778\n",
            "The shape of y_pred_onehot is: torch.Size([524, 2])\n",
            "The shape of y_onehot is: torch.Size([524, 2])\n",
            "              precision    recall  f1-score   support\n",
            "\n",
            "      normal       0.92      0.90      0.91       135\n",
            "   pneumonia       0.96      0.97      0.97       389\n",
            "\n",
            "    accuracy                           0.95       524\n",
            "   macro avg       0.94      0.93      0.94       524\n",
            "weighted avg       0.95      0.95      0.95       524\n",
            "\n"
          ]
        }
      ]
    },
    {
      "cell_type": "markdown",
      "source": [
        "#### Visualization"
      ],
      "metadata": {
        "id": "wVuoXMYzw7-j"
      }
    },
    {
      "cell_type": "code",
      "source": [
        "import seaborn as sns\n",
        "import matplotlib.pyplot as plt\n",
        "\n",
        "# Assuming conf_matix_sklearn is your confusion matrix from sklearn\n",
        "plt.figure(figsize=(8, 6))\n",
        "sns.heatmap(conf_matix_sklearn, annot=True, fmt=\"d\", cmap=\"Blues\",\n",
        "            xticklabels=class_names, yticklabels=class_names)\n",
        "plt.xlabel(\"Predicted\")\n",
        "plt.ylabel(\"True\")\n",
        "plt.title(\"Confusion Matrix\")\n",
        "plt.show()"
      ],
      "metadata": {
        "id": "PDg1kUYQw-SV",
        "colab": {
          "base_uri": "https://localhost:8080/",
          "height": 564
        },
        "outputId": "3a4a9490-cb62-4dac-8430-face4df8c3e2"
      },
      "execution_count": null,
      "outputs": [
        {
          "output_type": "display_data",
          "data": {
            "text/plain": [
              "<Figure size 800x600 with 2 Axes>"
            ],
            "image/png": "[encoded data removed]"
          },
          "metadata": {}
        }
      ]
    },
    {
      "cell_type": "markdown",
      "source": [
        "## 4. Observe Training Variability\n",
        "\n",
        "The first code has to be run three times to understand the variability in the performance on the model during three different runs"
      ],
      "metadata": {
        "id": "EM5fWBYyDiKB"
      }
    },
    {
      "cell_type": "markdown",
      "source": [
        "## 5. Changing weight initialization"
      ],
      "metadata": {
        "id": "jqXSd2WqD6hO"
      }
    },
    {
      "cell_type": "markdown",
      "source": [
        "### Transforms"
      ],
      "metadata": {
        "id": "J22hR8_2EKdP"
      }
    },
    {
      "cell_type": "code",
      "source": [
        "from monai.transforms import (\n",
        "    Compose,\n",
        "    LoadImaged,  # Import LoadImaged for dictionary-based input\n",
        "    RandRotate,\n",
        "    RandFlip,\n",
        "    ToTensor,\n",
        "    EnsureChannelFirstd, # Use EnsureChannelFirstd to work with dictionary\n",
        "    ScaleIntensityd, # Use ScaleIntensityd to work with dictionary\n",
        "    EnsureTyped, # Add this\n",
        "    Resized,\n",
        "    BorderPadd # Use BorderPadd for dictionary-based input\n",
        ")\n",
        "from monai.data import Dataset, NumpyReader\n",
        "\n",
        "# Define transforms for training data\n",
        "train_transforms = Compose([\n",
        "    ToTensor(),\n",
        "    EnsureChannelFirstd(keys=['image'], channel_dim=\"no_channel\"),  # Add channel dimension to the image data using the 'image' key\n",
        "    ScaleIntensityd(keys=['image']),  # Rescale image pixel values using the 'image' key\n",
        "    EnsureTyped(keys=['image']),\n",
        "    # Resized(keys=[\"image\"],spatial_size=(32,32)),\n",
        "    BorderPadd(keys=[\"image\"],spatial_border=[2, 2]), # Use a list of two integers for padding (height, width) or a single integer for both.\n",
        "    ToTensor(),\n",
        "])\n",
        "\n",
        "train_ds = Dataset(data=train_dataset, transform=train_transforms)\n",
        "train_label = np.load('/content/pneumoniamnist/train_labels.npy')\n",
        "train_label = ToTensor()(train_label)"
      ],
      "metadata": {
        "id": "hQgVlDdhEMTW"
      },
      "execution_count": null,
      "outputs": []
    },
    {
      "cell_type": "code",
      "source": [
        "print(f\"The length of train dataset is: {len(train_ds)}\")\n",
        "print(f\"The size of the image is: {train_ds[0]['image'].shape} with type {type(train_ds[0]['image'])}\")\n",
        "print(f\"The size of the label is: {train_label.shape} with type {type(train_label)}\")"
      ],
      "metadata": {
        "id": "eBpMQfCAENLY",
        "colab": {
          "base_uri": "https://localhost:8080/"
        },
        "outputId": "41b1009a-fff4-4959-a4e5-aa82946c8c57"
      },
      "execution_count": null,
      "outputs": [
        {
          "output_type": "stream",
          "name": "stdout",
          "text": [
            "The length of train dataset is: 4708\n",
            "The size of the image is: torch.Size([1, 32, 32]) with type <class 'monai.data.meta_tensor.MetaTensor'>\n",
            "The size of the label is: torch.Size([4708, 1]) with type <class 'monai.data.meta_tensor.MetaTensor'>\n"
          ]
        }
      ]
    },
    {
      "cell_type": "code",
      "source": [
        "val_images = np.load('/content/pneumoniamnist/val_images.npy')\n",
        "val_labels = np.load('/content/pneumoniamnist/val_labels.npy')\n",
        "\n",
        "val_files = [{'image': img} for img in val_images]\n",
        "\n",
        "val_transforms = Compose([\n",
        "    ToTensor(),\n",
        "    EnsureChannelFirstd(keys=['image'], channel_dim=\"no_channel\"),\n",
        "    ScaleIntensityd(keys=['image']),\n",
        "    EnsureTyped(keys=['image']),\n",
        "    # Resized(keys=[\"image\"],spatial_size=(32,32)),\n",
        "    BorderPadd(keys=[\"image\"],spatial_border=[2,2]), # Changed BorderPad to BorderPadd\n",
        "])\n",
        "\n",
        "val_ds = Dataset(data=val_files, transform=val_transforms)\n",
        "val_label = np.load('/content/pneumoniamnist/val_labels.npy')\n",
        "val_label = ToTensor()(val_label)"
      ],
      "metadata": {
        "id": "RtF974yjERL4"
      },
      "execution_count": null,
      "outputs": []
    },
    {
      "cell_type": "code",
      "source": [
        "print(f\"The length of val dataset is: {len(val_ds)}\")\n",
        "print(f\"The size of the image is: {val_ds[0]['image'].shape} with type {type(val_ds[0]['image'])}\")\n",
        "print(f\"The size of the label is: {val_label.shape} with type {type(val_label)}\")"
      ],
      "metadata": {
        "id": "BbrJL0jiEVXI",
        "colab": {
          "base_uri": "https://localhost:8080/"
        },
        "outputId": "869a07ac-6674-42c0-a3e5-900ba1b8a4e2"
      },
      "execution_count": null,
      "outputs": [
        {
          "output_type": "stream",
          "name": "stdout",
          "text": [
            "The length of val dataset is: 524\n",
            "The size of the image is: torch.Size([1, 32, 32]) with type <class 'monai.data.meta_tensor.MetaTensor'>\n",
            "The size of the label is: torch.Size([524, 1]) with type <class 'monai.data.meta_tensor.MetaTensor'>\n"
          ]
        }
      ]
    },
    {
      "cell_type": "markdown",
      "source": [
        "### DataLoader"
      ],
      "metadata": {
        "id": "l6x7wM-mEY1-"
      }
    },
    {
      "cell_type": "code",
      "source": [
        "train_loader = DataLoader(\n",
        "    dataset=list(zip(train_ds, train_label)),  # Use zip to create pairs of (image, label)\n",
        "    batch_size=32,\n",
        "    shuffle=True,\n",
        "    num_workers=2\n",
        ")\n",
        "\n",
        "val_loader = DataLoader(\n",
        "    dataset=list(zip(val_ds, val_label)),\n",
        "    batch_size=32,\n",
        "    shuffle=False,\n",
        "    num_workers=2\n",
        ")"
      ],
      "metadata": {
        "id": "XR7l_-mKEbOc"
      },
      "execution_count": null,
      "outputs": []
    },
    {
      "cell_type": "markdown",
      "source": [
        "### Model parameters"
      ],
      "metadata": {
        "id": "HAneEG6hEgUn"
      }
    },
    {
      "cell_type": "markdown",
      "source": [
        "#### Transfer Learning weight initialization"
      ],
      "metadata": {
        "id": "U7w8x0sbHhSj"
      }
    },
    {
      "cell_type": "code",
      "source": [
        "from monai.networks.nets import DenseNet121\n",
        "from monai.losses import DiceCELoss\n",
        "from monai.metrics import ROCAUCMetric\n",
        "import sklearn\n",
        "model = DenseNet121(spatial_dims=2, in_channels=1, out_channels=2,pretrained=True).to(device)\n"
      ],
      "metadata": {
        "id": "D4WN-wvEHpr1"
      },
      "execution_count": null,
      "outputs": []
    },
    {
      "cell_type": "markdown",
      "source": [
        "#### Kaiming Initialization"
      ],
      "metadata": {
        "id": "QAB0PODWUD-x"
      }
    },
    {
      "cell_type": "code",
      "source": [
        "del model\n",
        "model = DenseNet(spatial_dims=2, in_channels=1, out_channels=2).to(device)\n",
        "from torch.nn import init\n",
        "# Apply Kaiming initialization to convolutional layers\n",
        "for m in model.modules():\n",
        "    if isinstance(m, torch.nn.Conv2d):\n",
        "        init.kaiming_normal_(m.weight, mode='fan_out', nonlinearity='relu')  # Adjust nonlinearity if needed\n",
        "        if m.bias is not None:\n",
        "            init.constant_(m.bias, 0)"
      ],
      "metadata": {
        "id": "4KIEpc8rUJQW"
      },
      "execution_count": null,
      "outputs": []
    },
    {
      "cell_type": "markdown",
      "source": [
        "#### Random Initialization"
      ],
      "metadata": {
        "id": "iz0tkZH9VRAx"
      }
    },
    {
      "cell_type": "code",
      "source": [
        "del model\n",
        "model = DenseNet(spatial_dims=2, in_channels=1, out_channels=2).to(device)\n",
        "from torch.nn import init\n",
        "# Apply random initialization to convolutional layers\n",
        "for m in model.modules():\n",
        "    if isinstance(m, torch.nn.Conv2d):\n",
        "        init.xavier_uniform_(m.weight)  # Or init.uniform_(m.weight)\n",
        "        if m.bias is not None:\n",
        "            init.constant_(m.bias, 0)"
      ],
      "metadata": {
        "id": "xZyvMp_xVW7K"
      },
      "execution_count": null,
      "outputs": []
    },
    {
      "cell_type": "markdown",
      "source": [
        "Other initializations"
      ],
      "metadata": {
        "id": "LCtU0DbHVgfU"
      }
    },
    {
      "cell_type": "code",
      "source": [
        "loss_function=DiceCELoss(to_onehot_y=True,lambda_dice=0,lambda_ce=1)\n",
        "optimizer= torch.optim.Adam(model.parameters(), 1e-3)\n",
        "max_epochs=1\n",
        "val_interval=1\n",
        "auc_metric = ROCAUCMetric()\n",
        "class_names = ['normal', 'pneumonia']\n",
        "\n",
        "from monai.transforms import AsDiscrete, Activations\n",
        "y_pred_trans = Activations(softmax=True)                          #added y_pred_trans for softmax\n",
        "y_trans = AsDiscrete(to_onehot=2)                                 #added y_trans for one_hot"
      ],
      "metadata": {
        "id": "yNMrtSGcVf-D"
      },
      "execution_count": null,
      "outputs": []
    },
    {
      "cell_type": "markdown",
      "source": [
        "### Training the model"
      ],
      "metadata": {
        "id": "-U_YvXzKVxrR"
      }
    },
    {
      "cell_type": "code",
      "source": [
        "from monai.data import decollate_batch\n",
        "from sklearn.metrics import accuracy_score\n",
        "from tqdm import tqdm\n",
        "best_metric = -1\n",
        "best_metric_epoch = -1\n",
        "epoch_loss_values = []\n",
        "metric_values = []\n",
        "\n",
        "\n",
        "\n",
        "for epoch in range(max_epochs):                                                                   #Iteration of for loop through multiple epochs\n",
        "    print(\"-\" * 10)\n",
        "    print(f\"epoch {epoch + 1}/{max_epochs}\")\n",
        "    model.train()\n",
        "    epoch_loss = 0\n",
        "    step = 0\n",
        "    for batch_data in tqdm(train_loader):                                                                              #Iteration of all the data in train loader\n",
        "        step += 1\n",
        "        inputs, labels = batch_data\n",
        "        inputs = inputs[\"image\"].to(device)\n",
        "        labels = labels.to(device)\n",
        "        optimizer.zero_grad()\n",
        "        outputs = model(inputs)                                                                                 #Predicting the outputs from the model\n",
        "        loss = loss_function(outputs, labels)                                                                   #Computing the loss for each batch\n",
        "        loss.backward()\n",
        "        optimizer.step()\n",
        "        epoch_loss += loss.item()\n",
        "        # print(f\"{step}/{len(train_ds) // train_loader.batch_size}, \" f\"train_loss: {loss.item():.4f}\")\n",
        "        epoch_len = len(train_ds) // train_loader.batch_size\n",
        "    epoch_loss /= step\n",
        "    epoch_loss_values.append(epoch_loss)\n",
        "    print(f\"epoch {epoch + 1} average loss: {epoch_loss:.4f}\")                                                  #Printing the computed loss after training\n",
        "\n",
        "    if (epoch + 1) % val_interval == 0:\n",
        "        model.eval()\n",
        "        with torch.no_grad():\n",
        "            y_pred = torch.tensor([], dtype=torch.float32, device=device)\n",
        "            y = torch.tensor([], dtype=torch.long, device=device)\n",
        "            for val_data in val_loader:                                                                         #Iteration of all the data in val loader\n",
        "                val_images, val_labels = val_data[0][\"image\"].to(device), val_data[1].to(device)\n",
        "                y_pred = torch.cat([y_pred, model(val_images)], dim=0)\n",
        "                y = torch.cat([y, val_labels], dim=0)\n",
        "            y_onehot = [y_trans(i) for i in decollate_batch(y, detach=False)]\n",
        "            y_pred_act = [y_pred_trans(i) for i in decollate_batch(y_pred)]\n",
        "            auc_metric(y_pred_act, y_onehot)                                                                    #Computing the AUROC metric\n",
        "            result = auc_metric.aggregate()\n",
        "            auc_metric.reset()\n",
        "            del y_pred_act, y_onehot\n",
        "            metric_values.append(result)\n",
        "            y_pred_class = torch.argmax(y_pred, dim=1)                          # Convert logits to class labels\n",
        "            acc_metric = accuracy_score(y.cpu().numpy(),y_pred_class.cpu().numpy())                             # Computing the accuracy\n",
        "            if result > best_metric:\n",
        "                best_metric = result\n",
        "                best_metric_epoch = epoch + 1\n",
        "                torch.save(model.state_dict(), \"best_metric_model_initialization.pth\")\n",
        "                print(\"saved new best metric model\")\n",
        "            print(\n",
        "                f\"current epoch: {epoch + 1} current AUC: {result:.4f}\"\n",
        "                f\" current accuracy: {acc_metric:.4f}\"\n",
        "                f\" best AUC: {best_metric:.4f}\"\n",
        "                f\" at epoch: {best_metric_epoch}\"\n",
        "            )\n",
        "\n",
        "print(f\"train completed, best_metric: {best_metric:.4f} \" f\"at epoch: {best_metric_epoch}\")"
      ],
      "metadata": {
        "id": "u_s4CBWfV1r0",
        "colab": {
          "base_uri": "https://localhost:8080/"
        },
        "outputId": "e3505cfc-8309-47fb-81dd-2a57ef309ac4"
      },
      "execution_count": null,
      "outputs": [
        {
          "output_type": "stream",
          "name": "stdout",
          "text": [
            "----------\n",
            "epoch 1/1\n"
          ]
        },
        {
          "output_type": "stream",
          "name": "stderr",
          "text": [
            "100%|██████████| 148/148 [05:07<00:00,  2.08s/it]"
          ]
        },
        {
          "output_type": "stream",
          "name": "stdout",
          "text": [
            "epoch 1 average loss: 0.1796\n"
          ]
        },
        {
          "output_type": "stream",
          "name": "stderr",
          "text": [
            "\n"
          ]
        },
        {
          "output_type": "stream",
          "name": "stdout",
          "text": [
            "saved new best metric model\n",
            "current epoch: 1 current AUC: 0.9900 current accuracy: 0.8111 best AUC: 0.9900 at epoch: 1\n",
            "train completed, best_metric: 0.9900 at epoch: 1\n"
          ]
        }
      ]
    },
    {
      "cell_type": "markdown",
      "source": [
        "### Evaluation"
      ],
      "metadata": {
        "id": "Hm1_JxifWU-O"
      }
    },
    {
      "cell_type": "code",
      "source": [
        "# Load the best model\n",
        "model.load_state_dict(torch.load(\"/content/best_metric_model_initialization.pth\"))\n",
        "\n",
        "#Setting the model to evaluation state\n",
        "model.eval()\n",
        "\n",
        "\n",
        "with torch.no_grad():\n",
        "    y_pred = torch.tensor([], dtype=torch.float32, device=device)\n",
        "    y = torch.tensor([], dtype=torch.long, device=device)\n",
        "    for val_data in val_loader:\n",
        "        val_images, val_labels = val_data[0][\"image\"].to(device), val_data[1].to(device)\n",
        "        y_pred = torch.cat([y_pred, model(val_images)], dim=0)\n",
        "        y = torch.cat([y, val_labels], dim=0)\n",
        "\n",
        "print(f\"The shape of y_pred is: {y_pred.shape}\")\n",
        "y_pred_class = torch.argmax(y_pred,dim=1)\n",
        "print(f\"The shape of y_pred_class is: {y_pred_class.shape}\")\n",
        "print(f\"The shape of y_pred_class is: {y_pred_class.unsqueeze(-1).shape}\")\n",
        "accuracy = accuracy_score(y_pred_class.cpu().numpy(),y.squeeze(-1).cpu().numpy())\n",
        "print(f\"Accuracy on validation set: {accuracy}\")\n",
        "y_onehot = [y_trans(i) for i in decollate_batch(y, detach=False)]\n",
        "y_pred_onehot = [y_trans(i) for i in decollate_batch(y_pred_class.unsqueeze(-1), detach=False)]\n",
        "y_onehot = torch.stack(y_onehot)\n",
        "y_pred_onehot = torch.stack(y_pred_onehot)\n",
        "print(f\"The shape of y_pred_onehot is: {y_pred_onehot.shape}\")\n",
        "print(f\"The shape of y_onehot is: {y_onehot.shape}\")\n",
        "\n",
        "# print(f\"Confusion Matrix:\\n{conf_matrix}\")\n",
        "conf_matix_sklearn = confusion_matrix(y,y_pred_class)\n",
        "# print(f\"Confusion Matrix:\\n{conf_matix_sklearn}\")\n",
        "\n",
        "from sklearn.metrics import classification_report\n",
        "\n",
        "print(classification_report(y.cpu().numpy(), y_pred_class.cpu().numpy(), target_names=class_names))"
      ],
      "metadata": {
        "id": "j3N4-4ycWWoy",
        "colab": {
          "base_uri": "https://localhost:8080/"
        },
        "outputId": "906ae1c2-a1d8-4026-97b2-6ea252babfe0"
      },
      "execution_count": null,
      "outputs": [
        {
          "output_type": "stream",
          "name": "stderr",
          "text": [
            "You are using `torch.load` with `weights_only=False` (the current default value), which uses the default pickle module implicitly. It is possible to construct malicious pickle data which will execute arbitrary code during unpickling (See https://github.com/pytorch/pytorch/blob/main/SECURITY.md#untrusted-models for more details). In a future release, the default value for `weights_only` will be flipped to `True`. This limits the functions that could be executed during unpickling. Arbitrary objects will no longer be allowed to be loaded via this mode unless they are explicitly allowlisted by the user via `torch.serialization.add_safe_globals`. We recommend you start setting `weights_only=True` for any use case where you don't have full control of the loaded file. Please open an issue on GitHub for any issues related to this experimental feature.\n"
          ]
        },
        {
          "output_type": "stream",
          "name": "stdout",
          "text": [
            "The shape of y_pred is: torch.Size([524, 2])\n",
            "The shape of y_pred_class is: torch.Size([524])\n",
            "The shape of y_pred_class is: torch.Size([524, 1])\n",
            "Accuracy on validation set: 0.8110687022900763\n",
            "The shape of y_pred_onehot is: torch.Size([524, 2])\n",
            "The shape of y_onehot is: torch.Size([524, 2])\n",
            "              precision    recall  f1-score   support\n",
            "\n",
            "      normal       0.58      1.00      0.73       135\n",
            "   pneumonia       1.00      0.75      0.85       389\n",
            "\n",
            "    accuracy                           0.81       524\n",
            "   macro avg       0.79      0.87      0.79       524\n",
            "weighted avg       0.89      0.81      0.82       524\n",
            "\n"
          ]
        }
      ]
    },
    {
      "cell_type": "markdown",
      "source": [
        "#### Visualization"
      ],
      "metadata": {
        "id": "-pkRVh4mWYpC"
      }
    },
    {
      "cell_type": "code",
      "source": [
        "import seaborn as sns\n",
        "import matplotlib.pyplot as plt\n",
        "\n",
        "# Assuming conf_matix_sklearn is your confusion matrix from sklearn\n",
        "plt.figure(figsize=(8, 6))\n",
        "sns.heatmap(conf_matix_sklearn, annot=True, fmt=\"d\", cmap=\"Blues\",\n",
        "            xticklabels=class_names, yticklabels=class_names)\n",
        "plt.xlabel(\"Predicted\")\n",
        "plt.ylabel(\"True\")\n",
        "plt.title(\"Confusion Matrix\")\n",
        "plt.show()"
      ],
      "metadata": {
        "id": "fU_XwpwtWau6",
        "colab": {
          "base_uri": "https://localhost:8080/",
          "height": 564
        },
        "outputId": "473d316b-678d-4fe2-ebcc-00d25bb69e29"
      },
      "execution_count": null,
      "outputs": [
        {
          "output_type": "display_data",
          "data": {
            "text/plain": [
              "<Figure size 800x600 with 2 Axes>"
            ],
            "image/png": "[encoded data removed]"
          },
          "metadata": {}
        }
      ]
    },
    {
      "cell_type": "markdown",
      "source": [
        "## 6. Generalizability"
      ],
      "metadata": {
        "id": "IzzrM7xEWkdb"
      }
    },
    {
      "cell_type": "code",
      "source": [
        "from medmnist import ChestMNIST"
      ],
      "metadata": {
        "id": "HVmIIPNBWnP5"
      },
      "execution_count": null,
      "outputs": []
    },
    {
      "cell_type": "code",
      "source": [
        "data_test = ChestMNIST(root = '/content/',split='test', download=True)"
      ],
      "metadata": {
        "colab": {
          "base_uri": "https://localhost:8080/"
        },
        "id": "bALHaEsRPdHz",
        "outputId": "cf528bb9-16ef-4c9f-d88a-9f189d3e0553"
      },
      "execution_count": null,
      "outputs": [
        {
          "output_type": "stream",
          "name": "stdout",
          "text": [
            "Downloading https://zenodo.org/records/10519652/files/chestmnist.npz?download=1 to /content/chestmnist.npz\n"
          ]
        },
        {
          "output_type": "stream",
          "name": "stderr",
          "text": [
            "100%|██████████| 82.8M/82.8M [00:20<00:00, 3.97MB/s]\n"
          ]
        }
      ]
    },
    {
      "cell_type": "code",
      "source": [
        "print(data_test.info)"
      ],
      "metadata": {
        "colab": {
          "base_uri": "https://localhost:8080/"
        },
        "id": "lbLx9SSvYqCF",
        "outputId": "587444bf-b4ad-4be1-ff73-e879b56a4c77"
      },
      "execution_count": null,
      "outputs": [
        {
          "output_type": "stream",
          "name": "stdout",
          "text": [
            "{'python_class': 'ChestMNIST', 'description': 'The ChestMNIST is based on the NIH-ChestXray14 dataset, a dataset comprising 112,120 frontal-view X-Ray images of 30,805 unique patients with the text-mined 14 disease labels, which could be formulized as a multi-label binary-class classification task. We use the official data split, and resize the source images of 1×1024×1024 into 1×28×28.', 'url': 'https://zenodo.org/records/10519652/files/chestmnist.npz?download=1', 'MD5': '02c8a6516a18b556561a56cbdd36c4a8', 'url_64': 'https://zenodo.org/records/10519652/files/chestmnist_64.npz?download=1', 'MD5_64': '9de6cd0b934ebb5b7426cfba5efbae16', 'url_128': 'https://zenodo.org/records/10519652/files/chestmnist_128.npz?download=1', 'MD5_128': 'db107e5590b27930b62dbaf558aebee3', 'url_224': 'https://zenodo.org/records/10519652/files/chestmnist_224.npz?download=1', 'MD5_224': '45bd33e6f06c3e8cdb481c74a89152aa', 'task': 'multi-label, binary-class', 'label': {'0': 'atelectasis', '1': 'cardiomegaly', '2': 'effusion', '3': 'infiltration', '4': 'mass', '5': 'nodule', '6': 'pneumonia', '7': 'pneumothorax', '8': 'consolidation', '9': 'edema', '10': 'emphysema', '11': 'fibrosis', '12': 'pleural', '13': 'hernia'}, 'n_channels': 1, 'n_samples': {'train': 78468, 'val': 11219, 'test': 22433}, 'license': 'CC BY 4.0'}\n"
          ]
        }
      ]
    },
    {
      "cell_type": "code",
      "source": [
        "!unzip /content/chestmnist.npz -d /content/chestmnist"
      ],
      "metadata": {
        "colab": {
          "base_uri": "https://localhost:8080/"
        },
        "id": "eG75KvMOTLWp",
        "outputId": "436592db-5fc6-43da-9047-44df42ba43e1"
      },
      "execution_count": null,
      "outputs": [
        {
          "output_type": "stream",
          "name": "stdout",
          "text": [
            "Archive:  /content/chestmnist.npz\n",
            "  inflating: /content/chestmnist/train_images.npy  \n",
            "  inflating: /content/chestmnist/val_images.npy  \n",
            "  inflating: /content/chestmnist/test_images.npy  \n",
            "  inflating: /content/chestmnist/train_labels.npy  \n",
            "  inflating: /content/chestmnist/val_labels.npy  \n",
            "  inflating: /content/chestmnist/test_labels.npy  \n"
          ]
        }
      ]
    },
    {
      "cell_type": "code",
      "source": [
        "import numpy as np\n",
        "import torch\n",
        "from monai.networks.nets import DenseNet\n",
        "from monai.transforms import Activations, AsDiscrete\n",
        "from monai.data import decollate_batch\n",
        "from sklearn.metrics import classification_report, confusion_matrix\n",
        "import matplotlib.pyplot as plt\n",
        "import seaborn as sns\n",
        "\n",
        "# Load test data and labels\n",
        "test_images = np.load('/content/chestmnist/val_images.npy')\n",
        "test_labels = np.load('/content/chestmnist/val_labels.npy')\n",
        "\n",
        "# Assuming you have a suitable transform for test data (similar to val_transforms)\n",
        "test_files = [{'image': i} for i in test_images]\n",
        "\n",
        "test_transforms = Compose([\n",
        "    ToTensor(),\n",
        "    EnsureChannelFirstd(keys=['image'], channel_dim=\"no_channel\"),\n",
        "    ScaleIntensityd(keys=['image']),\n",
        "    EnsureTyped(keys=['image']),\n",
        "    # Resized(keys=[\"image\"],spatial_size=(32,32)),\n",
        "    BorderPadd(keys=[\"image\"],spatial_border=[2,2]), # Changed BorderPad to BorderPadd\n",
        "    ToTensor(),\n",
        "])\n",
        "\n"
      ],
      "metadata": {
        "id": "b8uCDnSqUnzU"
      },
      "execution_count": null,
      "outputs": []
    },
    {
      "cell_type": "code",
      "source": [
        "# prompt: print the min and max of the test_label array\n",
        "print(f\"Shape of the test_images: {test_images.shape}\")\n",
        "print(f\"Shape of test_labels: {test_labels.shape}\")\n",
        "print(f\"Min of test_labels: {np.min(test_labels)}\")\n",
        "print(f\"Max of test_labels: {np.max(test_labels)}\")"
      ],
      "metadata": {
        "colab": {
          "base_uri": "https://localhost:8080/"
        },
        "id": "URe1QuoiXfjF",
        "outputId": "203739a2-48d4-4be7-e4a8-c2d546c108af"
      },
      "execution_count": null,
      "outputs": [
        {
          "output_type": "stream",
          "name": "stdout",
          "text": [
            "Shape of the test_images: torch.Size([19, 1, 32, 32])\n",
            "Shape of test_labels: torch.Size([19, 1])\n",
            "Min of test_labels: 0\n",
            "Max of test_labels: 0\n"
          ]
        }
      ]
    },
    {
      "cell_type": "code",
      "source": [
        "new_test_labels = np.zeros((test_labels.shape[0], 1), dtype=int)\n",
        "\n",
        "for i in range(test_labels.shape[0]):\n",
        "    # Iterate through each element in the row of test_labels\n",
        "    # and set the corresponding value in new_test_labels based on the condition\n",
        "    for j in range(test_labels.shape[1]):\n",
        "        if test_labels[i][j] == 1 and j == 6:         # Check if the element is 1 and at index 6\n",
        "            new_test_labels[i] = 1  # Column 1 (position '6')\n",
        "            break # Exit the loop to go to the next row of test_labels\n",
        "\n",
        "    for j in range(test_labels.shape[1]):\n",
        "        if test_labels[i][j] == 1 and j == 7:         # Check if the element is 1 and at index 7\n",
        "            new_test_labels[i] = 1  # Column 1 (position '6')\n",
        "            break # Exit the loop to go to the next row of test_labels\n",
        "\n",
        "print(f\"Shape of the new test labels: {new_test_labels.shape}\")\n",
        "# You can now save new_test_labels to a file if needed\n",
        "# np.save('new_test_labels.npy', new_test_labels)"
      ],
      "metadata": {
        "colab": {
          "base_uri": "https://localhost:8080/"
        },
        "id": "VfWYhghFdUY7",
        "outputId": "a8135f90-c6da-434b-8975-443ccaf90376"
      },
      "execution_count": null,
      "outputs": [
        {
          "output_type": "stream",
          "name": "stdout",
          "text": [
            "Shape of the new test labels: (19, 1)\n"
          ]
        }
      ]
    },
    {
      "cell_type": "code",
      "source": [
        "test_ds = Dataset(data=test_files, transform=test_transforms)\n",
        "\n",
        "test_label = ToTensor()(new_test_labels)\n",
        "\n",
        "\n",
        "test_loader = DataLoader(\n",
        "    dataset=list(zip(test_ds, test_label)),\n",
        "    batch_size=32,  # Adjust batch size as needed\n",
        "    shuffle=False,\n",
        "    num_workers=2\n",
        ")\n",
        "\n",
        "device = torch.device(\"cuda\" if torch.cuda.is_available() else \"cpu\")\n",
        "model = DenseNet(spatial_dims=2, in_channels=1, out_channels=2).to(device)\n",
        "model.load_state_dict(torch.load(\"/content/best_metric_model.pth\"))\n",
        "model.eval()\n",
        "\n",
        "y_pred_trans = Activations(softmax=True)\n",
        "y_trans = AsDiscrete(to_onehot=2)\n",
        "class_names = ['Normal', 'Pneumonia']\n",
        "\n",
        "with torch.no_grad():\n",
        "    y_pred = torch.tensor([], dtype=torch.float32, device=device)\n",
        "    y = torch.tensor([], dtype=torch.long, device=device)\n",
        "    for test_data in test_loader:\n",
        "        test_images, test_labels = test_data[0][\"image\"].to(device), test_data[1].to(device)\n",
        "        y_pred = torch.cat([y_pred, model(test_images)], dim=0)\n",
        "        y = torch.cat([y, test_labels], dim=0)\n",
        "\n",
        "print(f\"The shape of y_pred is: {y_pred.shape}\")\n",
        "print(f\"The shape of y is: {y.shape}\")\n",
        "y_pred_class = torch.argmax(y_pred, dim=1)\n",
        "\n",
        "print(classification_report(y.cpu().numpy(), y_pred_class.cpu().numpy(), target_names=class_names))\n",
        "\n",
        "conf_matrix = confusion_matrix(y.cpu().numpy(), y_pred_class.cpu().numpy())\n",
        "plt.figure(figsize=(8, 6))\n",
        "sns.heatmap(conf_matrix, annot=True, fmt=\"d\", cmap=\"Blues\", xticklabels=class_names, yticklabels=class_names)\n",
        "plt.xlabel(\"Predicted\")\n",
        "plt.ylabel(\"True\")\n",
        "plt.title(\"Confusion Matrix\")\n",
        "plt.show()"
      ],
      "metadata": {
        "colab": {
          "base_uri": "https://localhost:8080/",
          "height": 792
        },
        "id": "DZyBkSZ1WMJN",
        "outputId": "57ccc497-1145-422b-89a9-0780fe48fd63"
      },
      "execution_count": null,
      "outputs": [
        {
          "output_type": "stream",
          "name": "stderr",
          "text": [
            "You are using `torch.load` with `weights_only=False` (the current default value), which uses the default pickle module implicitly. It is possible to construct malicious pickle data which will execute arbitrary code during unpickling (See https://github.com/pytorch/pytorch/blob/main/SECURITY.md#untrusted-models for more details). In a future release, the default value for `weights_only` will be flipped to `True`. This limits the functions that could be executed during unpickling. Arbitrary objects will no longer be allowed to be loaded via this mode unless they are explicitly allowlisted by the user via `torch.serialization.add_safe_globals`. We recommend you start setting `weights_only=True` for any use case where you don't have full control of the loaded file. Please open an issue on GitHub for any issues related to this experimental feature.\n"
          ]
        },
        {
          "output_type": "stream",
          "name": "stdout",
          "text": [
            "The shape of y_pred is: torch.Size([11219, 2])\n",
            "The shape of y is: torch.Size([11219, 1])\n",
            "              precision    recall  f1-score   support\n",
            "\n",
            "      Normal       0.99      0.84      0.91     11086\n",
            "   Pneumonia       0.02      0.30      0.04       133\n",
            "\n",
            "    accuracy                           0.84     11219\n",
            "   macro avg       0.51      0.57      0.48     11219\n",
            "weighted avg       0.98      0.84      0.90     11219\n",
            "\n"
          ]
        },
        {
          "output_type": "display_data",
          "data": {
            "text/plain": [
              "<Figure size 800x600 with 2 Axes>"
            ],
            "image/png": "[encoded data removed]"
          },
          "metadata": {}
        }
      ]
    }
  ],
  "metadata": {
    "colab": {
      "provenance": [],
      "toc_visible": true,
      "include_colab_link": true
    },
    "kernelspec": {
      "display_name": "Python 3",
      "name": "python3"
    },
    "language_info": {
      "codemirror_mode": {
        "name": "ipython",
        "version": 3
      },
      "file_extension": ".py",
      "mimetype": "text/x-python",
      "name": "python",
      "nbconvert_exporter": "python",
      "pygments_lexer": "ipython3",
      "version": "3.11.5"
    }
  },
  "nbformat": 4,
  "nbformat_minor": 0
}
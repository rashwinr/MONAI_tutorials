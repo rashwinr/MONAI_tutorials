{
  "nbformat": 4,
  "nbformat_minor": 0,
  "metadata": {
    "colab": {
      "provenance": [],
      "authorship_tag": "ABX9TyMtYVhmMwMDne3dHI6OP7+b",
      "include_colab_link": true
    },
    "kernelspec": {
      "name": "python3",
      "display_name": "Python 3"
    },
    "language_info": {
      "name": "python"
    }
  },
  "cells": [
    {
      "cell_type": "markdown",
      "metadata": {
        "id": "view-in-github",
        "colab_type": "text"
      },
      "source": [
        "<a href=\"https://colab.research.google.com/github/rashwinr/MONAI_tutorials/blob/main/MONAI_datasets.ipynb\" target=\"_parent\"><img src=\"https://colab.research.google.com/assets/colab-badge.svg\" alt=\"Open In Colab\"/></a>"
      ]
    },
    {
      "cell_type": "markdown",
      "source": [
        "# MONAI: Datasets\n",
        "\n",
        "1. **Medical datasets are key to developing AI solutions for healthcare:** They provide the essential data for training and evaluating algorithms that can detect diseases, assist in diagnosis, and personalize treatment plans.\n",
        "2. **Accessing and utilizing these datasets can be challenging:** Issues include large file sizes, complex formats, and the need for anonymization to protect patient privacy.\n",
        "3. **MONAI simplifies this process:** This open-source framework offers tools and resources specifically designed for medical imaging data, streamlining tasks like data loading, preprocessing, and analysis, making it easier for researchers to work with these valuable datasets.\n",
        "\n",
        "\n"
      ],
      "metadata": {
        "id": "TPFFTV0-hSVf"
      }
    },
    {
      "cell_type": "markdown",
      "source": [],
      "metadata": {
        "id": "zpwYB8P53ZlL"
      }
    },
    {
      "cell_type": "code",
      "execution_count": null,
      "metadata": {
        "id": "J6EoTj8bhRXO"
      },
      "outputs": [],
      "source": [
        "!pip show monai"
      ]
    },
    {
      "cell_type": "code",
      "source": [
        "!pip install monai[all]"
      ],
      "metadata": {
        "id": "1HAYnXt0kim7"
      },
      "execution_count": null,
      "outputs": []
    },
    {
      "cell_type": "code",
      "source": [
        "import monai\n",
        "from monai.config import print_config\n",
        "print_config()"
      ],
      "metadata": {
        "id": "t9eSt-h5kmsb"
      },
      "execution_count": null,
      "outputs": []
    },
    {
      "cell_type": "markdown",
      "source": [
        "## Create a dummy image\n",
        "\n",
        "**Syntax**:\n",
        "```python\n",
        "monai.data.synthetic.create_test_image_2d(height, width, num_objs=12, num_seg_classes=1, channel_dim=3, random_state=None)\n",
        "```\n",
        "\n",
        "**Parameters**\n",
        "________\n",
        "**height** – height of the image.\n",
        "\n",
        "**width** – width of the image.\n",
        "\n",
        "**num_objs** – number of circles to generate. Defaults to 12.\n",
        "\n",
        "**rad_max** – maximum circle radius. Defaults to 30.\n",
        "\n",
        "**rad_min** – minimum circle radius. Defaults to 5.\n",
        "\n",
        "**noise_max** – if greater than 0 then noise will be added to the image taken from the uniform distribution on range [0,noise_max). Defaults to 0.\n",
        "\n",
        "**num_seg_classes** – number of classes for segmentations. Defaults to 5.\n",
        "\n",
        "**channel_dim** – if None, create an image without channel dimension, otherwise create an image with channel dimension as first dim or last dim. Defaults to None.\n",
        "\n",
        "**random_state** – the random generator to use. Defaults to np.random.\n",
        "\n"
      ],
      "metadata": {
        "id": "DfJzC18mUTVx"
      }
    },
    {
      "cell_type": "code",
      "source": [
        "from monai.data import create_test_image_2d\n",
        "\n",
        "image, seg = create_test_image_2d(height=128, width=128,num_objs=5,rad_max=10,rad_min=2,num_seg_classes=10)\n",
        "\n",
        "print(f\"Image shape: {image.shape}\")\n",
        "print(f\"Segmentation shape: {seg.shape}\")\n",
        "\n",
        "print(f\"Image min: {image.min()}, max: {image.max()}\")\n",
        "print(f\"Segmentation min: {seg.min()}, max: {seg.max()}\")"
      ],
      "metadata": {
        "id": "A1ERhLGrUS3J"
      },
      "execution_count": null,
      "outputs": []
    },
    {
      "cell_type": "markdown",
      "source": [
        "### Visualization\n",
        "\n",
        "- Matplotlib has a number of built-in colormaps\n",
        "- An intuitive color scheme for the parameter you are plotting\n",
        "- More details on ``matplotlib.colormaps`` is available here: https://matplotlib.org/stable/users/explain/colors/colormaps.html\n"
      ],
      "metadata": {
        "id": "MtlnEgyRhtvP"
      }
    },
    {
      "cell_type": "markdown",
      "source": [
        "<img src=\"https://matplotlib.org/stable/_images/sphx_glr_colormaps_014.png\">"
      ],
      "metadata": {
        "id": "CwnPnYBDeUG3"
      }
    },
    {
      "cell_type": "code",
      "source": [
        "from matplotlib import colormaps\n",
        "# list(colormaps)"
      ],
      "metadata": {
        "id": "7JWZLcUAZU9o"
      },
      "execution_count": null,
      "outputs": []
    },
    {
      "cell_type": "code",
      "source": [
        "import matplotlib.pyplot as plt\n",
        "\n",
        "plt.figure(\"visualize\", (12, 6))\n",
        "plt.subplot(1, 2, 1)\n",
        "plt.title(\"image\")\n",
        "plt.imshow(image, cmap=\"gray\")\n",
        "plt.subplot(1, 2, 2)\n",
        "plt.title(\"segmentation\")\n",
        "plt.imshow(seg,cmap=\"gnuplot\")\n",
        "plt.show()"
      ],
      "metadata": {
        "id": "t8f4s2M6ga09"
      },
      "execution_count": null,
      "outputs": []
    },
    {
      "cell_type": "markdown",
      "source": [
        "## Recap\n",
        "\n",
        "- MONAI dataset\n",
        "- MONAI transforms\n",
        "- Working with medical images"
      ],
      "metadata": {
        "id": "WgceTsEHin8d"
      }
    },
    {
      "cell_type": "markdown",
      "source": [
        "### MONAI dataset\n",
        "\n",
        "* Dataset: Combines data and its associated transform into a single entity\n",
        "  * Syntax: ``Dataset(data,transform=None)``\n",
        "\n",
        "    Where transform is an image or object manipulation that will be activated and acts on the data"
      ],
      "metadata": {
        "id": "P_cG5xb6jCGu"
      }
    },
    {
      "cell_type": "code",
      "source": [
        "from monai.data import Dataset\n",
        "\n",
        "data = [\n",
        "    {\"image\": image, \"seg\": seg}\n",
        "]\n",
        "\n",
        "# Define a dataset using the data list\n",
        "dataset = Dataset(data=data)\n",
        "\n",
        "\n",
        "print(f\"Dataset length: {len(dataset)}\")\n",
        "\n",
        "# Access a data item by index\n",
        "item = dataset[0]\n",
        "print(f\"Keys in item: {item.keys()}\")\n",
        "\n",
        "print(f\"Image shape: {item['image'].shape}\")\n",
        "print(f\"Segmentation shape: {item['seg'].shape}\")\n"
      ],
      "metadata": {
        "id": "1Rr6lrVDjEs9"
      },
      "execution_count": null,
      "outputs": []
    },
    {
      "cell_type": "markdown",
      "source": [
        "### Attributes of monai dataset\n"
      ],
      "metadata": {
        "id": "GkKEVjiI41cC"
      }
    },
    {
      "cell_type": "code",
      "source": [
        "# prompt: view attributes of monai dataset variable dataset\n",
        "\n",
        "# print(dir(dataset))"
      ],
      "metadata": {
        "id": "Fmx7RqqX47W6"
      },
      "execution_count": null,
      "outputs": []
    },
    {
      "cell_type": "markdown",
      "source": [
        "### MONAI transforms"
      ],
      "metadata": {
        "id": "PNjKhThFjGiO"
      }
    },
    {
      "cell_type": "code",
      "source": [
        "\n",
        "import monai\n",
        "from monai.transforms import Compose, EnsureChannelFirstd, ScaleIntensityd, ToTensord\n",
        "\n",
        "# Define a transform to convert image and segmentation into tensors,\n",
        "# ensure channel first and scale intensity\n",
        "transform = Compose([\n",
        "    EnsureChannelFirstd(keys=[\"image\", \"seg\"],channel_dim=\"no_channel\"),\n",
        "    ScaleIntensityd(keys=[\"image\", \"seg\"]),\n",
        "    ToTensord(keys=[\"image\", \"seg\"])\n",
        "])\n",
        "\n",
        "# Create a monai dataset with the transform\n",
        "dataset = monai.data.Dataset(data=data, transform=transform)\n",
        "\n",
        "\n",
        "# Access a data item by index\n",
        "item = dataset[0]\n",
        "print(f\"Keys in item: {item.keys()}\")\n",
        "\n",
        "print(f\"Image shape: {item['image'].shape}\")\n",
        "print(f\"Segmentation shape: {item['seg'].shape}\")\n",
        "\n",
        "print(f\"Image min: {item['image'].min()}, max: {item['image'].max()}\")\n",
        "print(f\"Segmentation min: {item['seg'].min()}, max: {item['seg'].max()}\")"
      ],
      "metadata": {
        "id": "g9bEs-eTjJoY"
      },
      "execution_count": null,
      "outputs": []
    },
    {
      "cell_type": "markdown",
      "source": [
        "## MONAI datasets\n",
        "\n",
        "From MONAI Applications: ``class monai.apps``\n",
        "- MEDNIST\n",
        "- Medical Decathlon\n",
        "- TCIA\n",
        "- Others: MEDMNIST\n",
        "- Others: PhysioNet"
      ],
      "metadata": {
        "id": "93HGiArEjQ18"
      }
    },
    {
      "cell_type": "code",
      "source": [
        "import os\n",
        "dir_path = os.getcwd()\n",
        "print(dir_path)"
      ],
      "metadata": {
        "id": "0ONpkA7tlWas"
      },
      "execution_count": null,
      "outputs": []
    },
    {
      "cell_type": "markdown",
      "source": [
        "### MEDNIST Dataset\n",
        "\n",
        "The MedNIST dataset was gathered from several sets from [TCIA](https://wiki.cancerimagingarchive.net/display/Public/Data+Usage+Policies+and+Restrictions),\n",
        "[the RSNA Bone Age Challenge](http://rsnachallenges.cloudapp.net/competitions/4),\n",
        "and [the NIH Chest X-ray dataset](https://cloud.google.com/healthcare/docs/resources/public-datasets/nih-chest).\n",
        "\n",
        "The dataset is kindly made available by [Dr. Bradley J. Erickson M.D., Ph.D.](https://www.mayo.edu/research/labs/radiology-informatics/overview) (Department of Radiology, Mayo Clinic)\n",
        "under the Creative Commons [CC BY-SA 4.0 license](https://creativecommons.org/licenses/by-sa/4.0/). If you use the MedNIST dataset, please acknowledge the source.\n",
        "\n",
        "Syntax: ``MedNISTDataset(root_dir, section, transform=(), download=False, seed=0, val_frac=0.1, test_frac=0.1, cache_num=9223372036854775807, cache_rate=1.0, num_workers=1, progress=True, copy_cache=True, as_contiguous=True, runtime_cache=False)``\n",
        "\n",
        "**Parameters**:\n",
        "- **root_dir** – target directory to download and load MedNIST dataset.\n",
        "- **section** – expected data section, can be: training, validation or test.\n",
        "- **download** – whether to download and extract the MedNIST from resource link, default is False. if expected file already exists, skip downloading even set it to True. user can manually copy MedNIST.tar.gz file or MedNIST folder to root directory.\n",
        "- **seed** – random seed to randomly split training, validation and test datasets, default is 0.\n",
        "- **val_frac** – percentage of validation fraction in the whole dataset, default is 0.1.\n",
        "- **test_frac** – percentage of test fraction in the whole dataset, default is 0.1."
      ],
      "metadata": {
        "id": "Rd6hzoPinFYV"
      }
    },
    {
      "cell_type": "code",
      "source": [
        "from monai.apps import MedNISTDataset\n",
        "train_data = MedNISTDataset(root_dir=dir_path, section=\"training\",download=True, seed=24, val_frac=0.1, test_frac=0.55)\n",
        "val_data = MedNISTDataset(root_dir=dir_path, section=\"validation\",download=False, seed=24, val_frac=0.1, test_frac=0.5)\n",
        "test_data = MedNISTDataset(root_dir=dir_path, section=\"test\",download=False, seed=24, val_frac=0.1, test_frac=0.5)\n"
      ],
      "metadata": {
        "id": "ZhIIj5vPk5Ah"
      },
      "execution_count": null,
      "outputs": []
    },
    {
      "cell_type": "code",
      "source": [
        "print(f\"Length of training dataset: {len(train_data)}\")\n",
        "print(f\"Length of validation dataset: {len(val_data)}\")\n",
        "print(f\"Length of test dataset: {len(test_data)}\")\n",
        "print(f\"Type of train data: {type(train_data)}\")\n",
        "# print(dir(train_data))\n",
        "for data in val_data:\n",
        "    image = data['image']\n",
        "    label = data['label']\n",
        "    # Print or inspect the 'image' and 'label'\n",
        "    print(f\"Image shape: {image.shape}, Label: {label}\")"
      ],
      "metadata": {
        "id": "7ATpeCCNmI8c"
      },
      "execution_count": null,
      "outputs": []
    },
    {
      "cell_type": "markdown",
      "source": [
        "### Attributes of MONAI MEDNIST dataset variable"
      ],
      "metadata": {
        "id": "Vo5acv8x5jem"
      }
    },
    {
      "cell_type": "code",
      "source": [
        "print(dir(train_data))"
      ],
      "metadata": {
        "id": "iD9BeZ6y5m6X"
      },
      "execution_count": null,
      "outputs": []
    },
    {
      "cell_type": "markdown",
      "source": [
        "#### Data exploration\n",
        "\n",
        "First of all, check the dataset files and show some statistics.  \n",
        "There are 6 folders in the dataset: Hand, AbdomenCT, CXR, ChestCT, BreastMRI, HeadCT, which should be used as the labels to train our classification model."
      ],
      "metadata": {
        "id": "9U-SEgiJpce2"
      }
    },
    {
      "cell_type": "code",
      "source": [
        "import os\n",
        "\n",
        "mednist_folder = os.path.join(dir_path, 'MedNIST')\n",
        "\n",
        "if os.path.exists(mednist_folder):\n",
        "  for subfolder in os.listdir(mednist_folder):\n",
        "    subfolder_path = os.path.join(mednist_folder, subfolder)\n",
        "    if os.path.isdir(subfolder_path):\n",
        "      print(f\"Subfolder: {subfolder}\")\n",
        "else:\n",
        "  print(\"MedNIST folder not found.\")\n"
      ],
      "metadata": {
        "id": "J6CNrNItpfYE"
      },
      "execution_count": null,
      "outputs": []
    },
    {
      "cell_type": "code",
      "source": [
        "mednist_folder = os.path.join(dir_path, 'MedNIST')\n",
        "\n",
        "if os.path.exists(mednist_folder):\n",
        "  for subfolder in os.listdir(mednist_folder):\n",
        "    subfolder_path = os.path.join(mednist_folder, subfolder)\n",
        "    if os.path.isdir(subfolder_path):\n",
        "      print(f\"Subfolder: {subfolder}\")\n",
        "      file_count = 0\n",
        "      file_types = {}\n",
        "      for filename in os.listdir(subfolder_path):\n",
        "        file_count += 1\n",
        "        file_type = filename.split('.')[-1]\n",
        "        if file_type in file_types:\n",
        "          file_types[file_type] += 1\n",
        "        else:\n",
        "          file_types[file_type] = 1\n",
        "      print(f\"  Number of files: {file_count}\")\n",
        "      print(f\"  File types and counts: {file_types}\")\n",
        "else:\n",
        "  print(\"MedNIST folder not found.\")\n"
      ],
      "metadata": {
        "id": "4kVpod-cqROa"
      },
      "execution_count": null,
      "outputs": []
    },
    {
      "cell_type": "code",
      "source": [
        "import matplotlib.pyplot as plt\n",
        "import numpy as np\n",
        "from PIL import Image # Import the Image class from PIL\n",
        "\n",
        "chestct_folder = os.path.join(mednist_folder, 'ChestCT')\n",
        "if os.path.exists(chestct_folder):\n",
        "  image_files = [os.path.join(chestct_folder, f) for f in os.listdir(chestct_folder) if f.endswith('.jpeg')]\n",
        "  num_images_to_plot = 10\n",
        "\n",
        "  plt.figure(figsize=(15, 5))\n",
        "  for i in range(num_images_to_plot):\n",
        "      image_path = image_files[i]\n",
        "      image = plt.imread(image_path)\n",
        "      plt.subplot(1, num_images_to_plot, i + 1)\n",
        "      plt.imshow(image, cmap='gray')\n",
        "      plt.axis('off')\n",
        "      width, height = Image.open(image_path).size\n",
        "      print(f\"  Image: {image_path}, Size: {width} x {height}\")\n",
        "\n",
        "  plt.show()\n",
        "\n",
        "else:\n",
        "  print(\"ChestCT folder not found.\")"
      ],
      "metadata": {
        "id": "0WroCQhVrXPw"
      },
      "execution_count": null,
      "outputs": []
    },
    {
      "cell_type": "code",
      "source": [
        "import matplotlib.pyplot as plt\n",
        "import numpy as np\n",
        "from PIL import Image # Import the Image class from PIL\n",
        "\n",
        "abdomenct_folder = os.path.join(mednist_folder, 'AbdomenCT')\n",
        "if os.path.exists(abdomenct_folder):\n",
        "  image_files = [os.path.join(abdomenct_folder, f) for f in os.listdir(abdomenct_folder) if f.endswith('.jpeg')]\n",
        "  num_images_to_plot = 10\n",
        "\n",
        "  plt.figure(figsize=(15, 5))\n",
        "  for i in range(num_images_to_plot):\n",
        "      image_path = image_files[i]\n",
        "      image = plt.imread(image_path)\n",
        "      plt.subplot(1, num_images_to_plot, i + 1)\n",
        "      plt.imshow(image, cmap='gray')\n",
        "      plt.axis('off')\n",
        "      width, height = Image.open(image_path).size\n",
        "      print(f\"  Image: {image_path}, Size: {width} x {height}\")\n",
        "\n",
        "  plt.show()\n",
        "\n",
        "else:\n",
        "  print(\"AbdomenCT folder not found.\")"
      ],
      "metadata": {
        "id": "jIjtegR5ugvK"
      },
      "execution_count": null,
      "outputs": []
    },
    {
      "cell_type": "code",
      "source": [
        "import matplotlib.pyplot as plt\n",
        "import numpy as np\n",
        "from PIL import Image # Import the Image class from PIL\n",
        "\n",
        "cxr_folder = os.path.join(mednist_folder, 'CXR')\n",
        "if os.path.exists(cxr_folder):\n",
        "  image_files = [os.path.join(cxr_folder, f) for f in os.listdir(cxr_folder) if f.endswith('.jpeg')]\n",
        "  num_images_to_plot = 10\n",
        "\n",
        "  plt.figure(figsize=(15, 5))\n",
        "  for i in range(num_images_to_plot):\n",
        "      image_path = image_files[i]\n",
        "      image = plt.imread(image_path)\n",
        "      width, height = Image.open(image_path).size\n",
        "      print(f\"  Image: {image_path}, Size: {width} x {height}\")\n",
        "      plt.subplot(1, num_images_to_plot, i + 1)\n",
        "      plt.imshow(image, cmap='gray')\n",
        "      plt.axis('off')\n",
        "\n",
        "  plt.show()\n",
        "\n",
        "else:\n",
        "  print(\"CXR folder not found.\")\n"
      ],
      "metadata": {
        "id": "RE4L80ILwTa9"
      },
      "execution_count": null,
      "outputs": []
    },
    {
      "cell_type": "markdown",
      "source": [
        "### Decathlon datasets\n",
        "\n",
        "- The Dataset command to automatically download the data of Medical Segmentation Decathlon challenge (http://medicaldecathlon.com/) and generate items for training, validation or test.\n",
        "\n",
        "- It will also load these properties from the JSON config file of dataset.\n",
        "\n",
        "- Syntax:\n",
        "```python\n",
        "DecathlonDataset(root_dir, task, section, download=False, seed=0, val_frac=0.2, progress=True)\n",
        "```\n",
        "Parameters:\n",
        "- **root_dir** – local directory for caching and loading the MSD datasets.\n",
        "\n",
        "- **task** – Task to download and execute: one item of the list\n",
        "    - “Task01_BrainTumour”\n",
        "    - “Task02_Heart”\n",
        "    - “Task03_Liver”\n",
        "    - “Task04_Hippocampus”\n",
        "    - “Task05_Prostate”\n",
        "    - “Task06_Lung”\n",
        "    - “Task07_Pancreas”\n",
        "    - “Task08_HepaticVessel”\n",
        "    - “Task09_Spleen”\n",
        "    - “Task10_Colon”\n",
        "\n",
        "- **section** – expected data section: training or validation.\n",
        "\n",
        "- **download** – whether to download and extract the Decathlon from resource link, default is False. if expected file already exists, skip downloading even set it to True. user can manually copy tar file or dataset folder to the root directory.\n",
        "\n",
        "- **val_frac** – percentage of validation fraction in the whole dataset, default is 0.2.\n",
        "\n",
        "- **seed** – random seed to randomly shuffle the datalist before splitting into training and validation, default is 0.\n",
        "  - **Note**: Set same seed for training and validation sections.\n",
        "\n",
        "- **progress** – whether to display a progress bar when downloading dataset and computing the transform cache content.\n",
        "\n"
      ],
      "metadata": {
        "id": "1I8Y0G68sf_-"
      }
    },
    {
      "cell_type": "code",
      "source": [
        "from monai.apps import DecathlonDataset\n",
        "\n",
        "# Specify the task number you want to access (e.g., Task04_Hippocampus)\n",
        "task_num = \"Task04_Hippocampus\"\n",
        "\n",
        "# Create a DecathlonDataset instance for the specified task\n",
        "train_decathlondataset = DecathlonDataset(root_dir=dir_path, task=task_num, section=\"training\", download=True,val_frac=0.1)\n",
        "validation_decathlondataset = DecathlonDataset(root_dir=dir_path, task=task_num, section=\"validation\", download=False,val_frac=0.1)"
      ],
      "metadata": {
        "id": "WWaCxg93w9Mq"
      },
      "execution_count": null,
      "outputs": []
    },
    {
      "cell_type": "code",
      "source": [
        "print(f\"The length of the training dataset is {len(train_decathlondataset)} and the type of vaiable is {type(train_decathlondataset)}\")\n",
        "print(f\"The length of the validation dataset is {len(validation_decathlondataset)} and the type of vaiable is {type(validation_decathlondataset)}\")\n",
        "print(dir(validation_decathlondataset))\n",
        "# Access the 'image' and 'label' dictionaries\n",
        "for i in range(len(validation_decathlondataset)):\n",
        "    data = validation_decathlondataset[i]\n",
        "    image = data[\"image\"]\n",
        "    label = data[\"label\"]\n",
        "    print(f\"Image: {image.shape}, Label: {label.shape}\")"
      ],
      "metadata": {
        "id": "6w5wCF3F26aG"
      },
      "execution_count": null,
      "outputs": []
    },
    {
      "cell_type": "markdown",
      "source": [
        "### TCIA Dataset\n",
        "\n",
        "- The Dataset to automatically download the data from a public The Cancer Imaging Archive (TCIA) dataset and generate items for training, validation or test. [https://www.cancerimagingarchive.net/](https://www.cancerimagingarchive.net/)\n",
        "- Syntax:\n",
        "```Python\n",
        "class monai.apps.TciaDataset(root_dir, collection, section, transform=(), download=False)\n",
        "```\n",
        "\n",
        "- **Massive Public Database**: TCIA provides a huge collection of de-identified medical images (like CT scans, MRIs, and histopathology slides) across a wide range of cancer types. This allows researchers to access diverse data for analysis, development of image-based diagnostic tools, and discovery of new disease insights.\n",
        "\n",
        "- **Open and Free**: All the data in TCIA is freely available to the public. This open access promotes collaboration, accelerates research, and encourages the development of innovative cancer imaging applications.\n",
        "\n",
        "- **Standardized Format**: TCIA uses the DICOM (Digital Imaging and Communications in Medicine) standard for storing and distributing images. This ensures compatibility and makes it easier for researchers to use the data with various image processing and analysis tools."
      ],
      "metadata": {
        "id": "Bg-wBjZ2s50Z"
      }
    },
    {
      "cell_type": "code",
      "source": [
        "!pip install pydicom\n",
        "import pydicom\n",
        "from monai.apps import TciaDataset\n",
        "\n",
        "# Specify the collection you want to access (e.g., \"Lung Phantom\")\n",
        "collection = \"Lung Phantom\"\n",
        "\n",
        "# Create a TciaDataset instance for the specified collection\n",
        "tcia_dataset = TciaDataset(root_dir=dir_path, collection=collection, section=\"training\", download=True)\n",
        "\n"
      ],
      "metadata": {
        "id": "hfHabrVBtAAV"
      },
      "execution_count": null,
      "outputs": []
    },
    {
      "cell_type": "code",
      "source": [
        "print(f\"The length of the TCIA dataset is {len(tcia_dataset)} and the type of variable is {type(tcia_dataset)}\")\n",
        "\n",
        "print(dir(tcia_dataset))"
      ],
      "metadata": {
        "id": "aoARTf5gBpvy"
      },
      "execution_count": null,
      "outputs": []
    },
    {
      "cell_type": "markdown",
      "source": [
        "## Other datasets\n",
        "\n",
        "### MEDMNIST\n",
        "- A large-scale MNIST-like collection of standardized biomedical images, including 12 datasets for 2D and 6 datasets for 3D.\n",
        "- All images are pre-processed into 28x28 (2D) or 28x28x28 (3D) with the corresponding classification labels, so that no background knowledge is required for users.\n",
        "- Covering primary data modalities in biomedical images, MedMNIST is designed to perform classification on lightweight 2D and 3D images with various data scales (from 100 to 100,000) and diverse tasks (binary/multi-class, ordinal regression and multi-label)\n",
        "\n",
        "\n",
        "<img src=\"https://raw.githubusercontent.com/MedMNIST/MedMNIST/main/assets/medmnistv2.jpg\" width=\"1738px\" height=\"942px\">"
      ],
      "metadata": {
        "id": "d5nWS9Z1s_fD"
      }
    },
    {
      "cell_type": "code",
      "source": [
        "!pip install medmnist\n",
        "from medmnist import INFO, Evaluator\n"
      ],
      "metadata": {
        "id": "-37qSs-ytKxA"
      },
      "execution_count": null,
      "outputs": []
    },
    {
      "cell_type": "code",
      "source": [
        "from medmnist import INFO, Evaluator\n",
        "import medmnist\n",
        "\n",
        "# Print available datasets and their information\n",
        "for dataset_name in INFO.keys():\n",
        "  print(f\"Dataset: {dataset_name}\")\n",
        "  print(f\"    Description: {INFO[dataset_name]['description']}\")\n",
        "  # Check if the 'input_shape' key exists before accessing it\n",
        "  if 'input_shape' in INFO[dataset_name]:\n",
        "    print(f\"    Data shape: {INFO[dataset_name]['input_shape']}\")\n",
        "  else:\n",
        "    print(f\"    Data shape: Not available in INFO\")  # Handle the case where 'shape' is missing\n",
        "  print(f\"    Labels: {INFO[dataset_name]['label']}\")\n",
        "  print(f\"    Download URL: {INFO[dataset_name]['url']}\")\n",
        "  print(\"-\" * 20)\n"
      ],
      "metadata": {
        "id": "vY4SydgqEMHl"
      },
      "execution_count": null,
      "outputs": []
    },
    {
      "cell_type": "markdown",
      "source": [
        "### Downloading data"
      ],
      "metadata": {
        "id": "gbVsExRGhBAU"
      }
    },
    {
      "cell_type": "code",
      "source": [
        "from medmnist import PathMNIST\n",
        "\n",
        "# Create an instance of the PathMNIST dataset\n",
        "dataset = PathMNIST(root=dir_path,split='train', download=True)\n",
        "\n",
        "# Get a list of attributes using dir()\n",
        "attributes = dir(dataset)\n",
        "\n",
        "# Print the attributes\n",
        "for attr in attributes:\n",
        "    print(attr)"
      ],
      "metadata": {
        "id": "8UDu0AjrhFw-"
      },
      "execution_count": null,
      "outputs": []
    },
    {
      "cell_type": "markdown",
      "source": [
        "### Unzip"
      ],
      "metadata": {
        "id": "f4Bqmh7y_2Ut"
      }
    },
    {
      "cell_type": "code",
      "source": [
        "!unzip /content/pathmnist.npz -d /content/PathMNIST"
      ],
      "metadata": {
        "id": "XhT8ySVV_5yj"
      },
      "execution_count": null,
      "outputs": []
    },
    {
      "cell_type": "code",
      "source": [
        "import numpy as np\n",
        "import matplotlib.pyplot as plt\n",
        "\n",
        "# Load the validation images from the .npy file\n",
        "val_images = np.load('/content/PathMNIST/val_images.npy')\n",
        "print(val_images.shape)"
      ],
      "metadata": {
        "id": "ZX_xFYPmFEC_"
      },
      "execution_count": null,
      "outputs": []
    },
    {
      "cell_type": "code",
      "source": [
        "val_labels = np.load('/content/PathMNIST/val_labels.npy')\n",
        "print(val_labels.shape)"
      ],
      "metadata": {
        "id": "o0Cm3N7FGL-u"
      },
      "execution_count": null,
      "outputs": []
    },
    {
      "cell_type": "markdown",
      "source": [],
      "metadata": {
        "id": "yjpCARlYGn4j"
      }
    },
    {
      "cell_type": "markdown",
      "source": [
        "### Visualization"
      ],
      "metadata": {
        "id": "CeOzDbQ6D-Wz"
      }
    },
    {
      "cell_type": "markdown",
      "source": [
        "Labels: {'0': 'adipose', '1': 'background', '2': 'debris', '3': 'lymphocytes', '4': 'mucus', '5': 'smooth muscle', '6': 'normal colon mucosa', '7': 'cancer-associated stroma', '8': 'colorectal adenocarcinoma epithelium'}\n",
        "    "
      ],
      "metadata": {
        "id": "LiF0l4UgGsmY"
      }
    },
    {
      "cell_type": "code",
      "source": [
        "\n",
        "# Create a 3x3 grid for visualization\n",
        "fig, axes = plt.subplots(3, 3, figsize=(10, 10))\n",
        "\n",
        "# Iterate through the first 9 images in the validation dataset\n",
        "for i in range(9):\n",
        "  row = i // 3\n",
        "  col = i % 3\n",
        "  axes[row, col].imshow(val_images[i], cmap='gray')\n",
        "  axes[row, col].set_title(f\"Image {i+1}\\nSize: {val_images[i].shape}\\nLabel:{val_labels[i]}]\")\n",
        "  axes[row, col].axis('off')\n",
        "\n",
        "plt.tight_layout()\n",
        "plt.show()"
      ],
      "metadata": {
        "id": "H_RnNPgREB8o"
      },
      "execution_count": null,
      "outputs": []
    },
    {
      "cell_type": "markdown",
      "source": [
        "Folder to view the medmnist mapping: [medmnist_fileid](https://drive.google.com/drive/folders/1A_99qH_c-J0p_SatwSiaP_i1CvLUOzVo)"
      ],
      "metadata": {
        "id": "yM_f2imuBxHs"
      }
    },
    {
      "cell_type": "markdown",
      "source": [
        "## Tasks\n"
      ],
      "metadata": {
        "id": "bPcQV3Ga50jY"
      }
    },
    {
      "cell_type": "markdown",
      "source": [
        "### Task 1\n",
        "\n",
        "- Plot the already downloaded MEDNIST dataset such that an image from each of its class is plotted"
      ],
      "metadata": {
        "id": "3UJAznok6vgz"
      }
    },
    {
      "cell_type": "code",
      "source": [
        "import matplotlib.pyplot as plt\n",
        "import os\n",
        "\n",
        "mednist_folder = os.path.join(os.getcwd(), 'MedNIST')\n",
        "\n",
        "if os.path.exists(mednist_folder):\n",
        "  class_images = {}\n",
        "  for subfolder in os.listdir(mednist_folder):\n",
        "    subfolder_path = os.path.join(mednist_folder, subfolder)\n",
        "    if os.path.isdir(subfolder_path):\n",
        "      image_files = [os.path.join(subfolder_path, f) for f in os.listdir(subfolder_path) if f.endswith('.jpeg')]\n",
        "      if image_files:\n",
        "        class_images[subfolder] = image_files[0]  # Take the first image from each class\n",
        "\n",
        "  if class_images:\n",
        "    num_classes = len(class_images)\n",
        "    rows = (num_classes + 3) // 4  # Adjust rows based on number of classes\n",
        "    cols = min(num_classes, 4)\n",
        "    plt.figure(figsize=(15, rows * 3.5))\n",
        "\n",
        "    for i, (class_name, image_path) in enumerate(class_images.items()):\n",
        "      plt.subplot(rows, cols, i + 1)\n",
        "      image = plt.imread(image_path)\n",
        "      plt.imshow(image, cmap='gray')\n",
        "      plt.title(class_name)\n",
        "      plt.axis('off')\n",
        "\n",
        "    plt.tight_layout()\n",
        "    plt.show()\n",
        "else:\n",
        "  print(\"MedNIST folder not found.\")"
      ],
      "metadata": {
        "id": "AiKw38jK6xnn"
      },
      "execution_count": null,
      "outputs": []
    },
    {
      "cell_type": "markdown",
      "source": [
        "### Task 2\n",
        "\n",
        "- Download the decathlon dataset for Spleen, such that you have train:val::60:40.\n",
        "- Load samples into a dataset variable to visualize the mid slice of the 3D volume along with their labels"
      ],
      "metadata": {
        "id": "NJv7t-fR7DdT"
      }
    },
    {
      "cell_type": "code",
      "source": [
        "task_num = \"Task09_Spleen\"\n",
        "\n",
        "# Create a DecathlonDataset instance for the specified task with a 60:40 train:val split\n",
        "train_decathlondataset = DecathlonDataset(root_dir=dir_path, task=task_num, section=\"training\", download=True, val_frac=0.4, seed=123)\n",
        "validation_decathlondataset = DecathlonDataset(root_dir=dir_path, task=task_num, section=\"validation\", download=False, val_frac=0.4, seed=123)\n",
        "\n",
        "print(f\"The length of the training dataset is {len(train_decathlondataset)}\")\n",
        "print(f\"The length of the validation dataset is {len(validation_decathlondataset)}\")\n",
        "\n",
        "# Load samples into a dataset variable to visualize the mid slice of the 3D volume along with their labels\n",
        "for i in range(min(len(validation_decathlondataset), 3)):  # Visualize the first 3 validation samples\n",
        "    data = validation_decathlondataset[i]\n",
        "    image = data[\"image\"]\n",
        "    label = data[\"label\"]\n",
        "    print(f\"Image shape: {image.shape}, Label shape: {label.shape}\")\n",
        "\n",
        "    mid_slice_image = image[image.shape[0] // 2, :, :]\n",
        "    mid_slice_label = label[label.shape[0] // 2, :, :]\n",
        "\n",
        "    plt.figure(figsize=(10, 5))\n",
        "    plt.subplot(1, 2, 1)\n",
        "    plt.imshow(mid_slice_image, cmap='gray')\n",
        "    plt.title('Mid-Slice Image')\n",
        "    plt.axis('off')\n",
        "\n",
        "    plt.subplot(1, 2, 2)\n",
        "    plt.imshow(mid_slice_label, cmap='gray')\n",
        "    plt.title('Mid-Slice Label')\n",
        "    plt.axis('off')\n",
        "\n",
        "    plt.show()"
      ],
      "metadata": {
        "id": "89I9WwOJ7YXH"
      },
      "execution_count": null,
      "outputs": []
    }
  ]
}
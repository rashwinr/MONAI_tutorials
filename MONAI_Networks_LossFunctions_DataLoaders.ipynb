{
  "nbformat": 4,
  "nbformat_minor": 0,
  "metadata": {
    "colab": {
      "provenance": [],
      "toc_visible": true,
      "authorship_tag": "ABX9TyNLYUKrytl4FkshTb2MXTCc",
      "include_colab_link": true
    },
    "kernelspec": {
      "name": "python3",
      "display_name": "Python 3"
    },
    "language_info": {
      "name": "python"
    }
  },
  "cells": [
    {
      "cell_type": "markdown",
      "metadata": {
        "id": "view-in-github",
        "colab_type": "text"
      },
      "source": [
        "<a href=\"https://colab.research.google.com/github/rashwinr/MONAI_tutorials/blob/main/MONAI_Networks_LossFunctions_DataLoaders.ipynb\" target=\"_parent\"><img src=\"https://colab.research.google.com/assets/colab-badge.svg\" alt=\"Open In Colab\"/></a>"
      ]
    },
    {
      "cell_type": "markdown",
      "source": [
        "# **MONAI: Networks, DataLoader, and Loss Functions**"
      ],
      "metadata": {
        "id": "jQUI_K5kFfq3"
      }
    },
    {
      "cell_type": "markdown",
      "source": [
        "## Introduction to Model and Loss Function"
      ],
      "metadata": {
        "id": "3jHyKcy54WO9"
      }
    },
    {
      "cell_type": "markdown",
      "source": [
        "### What does a model do?\n",
        "<a href=\"https://www.pycodemates.com/2023/02/backpropagation-and-gradient-descent-simplified.html\">\n",
        "<img src=\"https://blogger.googleusercontent.com/img/b/R29vZ2xl/AVvXsEiHKxQ3QXBha8JvveVU59HKbCklvvQut8vtVNMWMS0C4wHQZdaRWR_L0nL2IOrUZ6Brmmty8pEj1FAz6z-0F8_JZApvW5te_mwzcLFSnE5Zuy2Arc3dKADo9Eq__0WROHHdJ7bBvTdZFb0tD5O4e3Zs1EPIr79rlmkwsPni2SfPqxAvszumdZjRZgSGTw/s1152/Forward%20Propagation%20Neural%20Network%20Animation%20(2).gif\"/>\n",
        "</a>\n",
        "\n",
        "Wrt. to above image, let $X_{1}$ be the input image and $O_{2}$ be the model output, then the model $M$ are the parameters $[W_{1} ,  b_{1};W_{2} , b_{2}]$  \n",
        "\n"
      ],
      "metadata": {
        "id": "FDg8ihhN4e44"
      }
    },
    {
      "cell_type": "markdown",
      "source": [
        "### What does a loss function do?\n",
        "It computes the error or difference between the $Y_{1}$ (desired or designated output) and $O_{2}$ (model output).\n",
        "- The computed loss is used by the *optimizer* to update the weights and biases of the model $M$, such that $Y_{1}\\equiv O_{2}$.\n",
        "\n",
        "An example of how the loss calculation and backpropogation happens in a loop is visualized below:\n",
        "<center><img src=\"https://miro.medium.com/max/2628/1*YHM9vCaEf8pmdBycuW4wrg.gif\"/></center>\n",
        "\n"
      ],
      "metadata": {
        "id": "ylcP375ALfD_"
      }
    },
    {
      "cell_type": "markdown",
      "source": [
        "### Models could get very complex\n",
        "\n",
        "<center>\n",
        "<a href=\"https://tikz.net/neural_networks/\">\n",
        "<img src=\"https://tikz.net/wp-content/uploads/2021/12/neural_networks.gif\" />\n",
        "</a>\n",
        "</center>\n",
        "\n",
        "- This image is an example of how complex a network or model will get and it is very difficult to compute manually\n",
        "\n",
        "- Today we will be looking at PyTorch and MONAI, the tools that will make our life easy in selecting and using pre-built network architectures."
      ],
      "metadata": {
        "id": "Wzz63oylLh5Z"
      }
    },
    {
      "cell_type": "markdown",
      "source": [
        "## Applications of Deeplearning in Medical Image Analysis\n",
        "\n"
      ],
      "metadata": {
        "id": "5G2cxf6mLkkh"
      }
    },
    {
      "cell_type": "markdown",
      "source": [
        "### Image classification\n",
        "\n",
        "- Image classification using deep learning involves training a convolutional neural network (CNN) on a large dataset of labeled images.\n",
        "- The CNN learns to extract relevant features from the images and classify them into predefined categories.\n",
        "- The model shown below takes in a $28\\times28$ image as input and provides $0 - 9$ output\n",
        "\n",
        "<center>\n",
        "<a href=\"https://www.analyticsvidhya.com/blog/2021/07/convolution-neural-network-better-understanding/\">\n",
        "<img src=\"https://editor.analyticsvidhya.com/uploads/95577cnn2.gif\" />\n",
        "</a>\n",
        "</center>\n",
        "\n",
        "\n"
      ],
      "metadata": {
        "id": "2fwYim40MrVR"
      }
    },
    {
      "cell_type": "markdown",
      "source": [
        "### Image segmentation\n",
        "\n",
        "-  Image segmentation involves dividing an image into multiple segments or regions\n",
        "- These segments correspond to meaningful parts of the image, such as objects, features, or regions with similar characteristics\n",
        "\n",
        "The image below shows a label of a human lung being annotated by a human for deep learning applications\n",
        "<center>\n",
        "<a href=\"\">\n",
        "<img src=\"https://imerit.net/wp-content/uploads/2023/09/med-ai-polygon-annotation-video-1.gif\"/>\n",
        "</a>\n",
        "</center>\n",
        "\n",
        "The image below shows the output of medcial segment anything model (MedSAM) that is capable of segmenting lesions and tumors from any imaging modality by using a prompt\n",
        "\n",
        "<center>\n",
        "<a href=\"https://arxiv.org/pdf/2304.12306\">\n",
        "<img src=\"https://www.researchgate.net/publication/370227344/figure/fig1/AS:11431281153293472@1682392187086/Visualized-examples-of-the-pre-trained-SAM-and-MedSAM-segmentation-results-MedSAM.ppm\"/>\n",
        "</a>\n",
        "</center>\n"
      ],
      "metadata": {
        "id": "LTs1NNSlUxT0"
      }
    },
    {
      "cell_type": "markdown",
      "source": [
        "## Convolutional Neural Networks (CNN)\n",
        "\n",
        "<center>\n",
        "<a href=\"https://indiantechwarrior.com/convolution-layers-in-convolutional-neural-network/\">\n",
        "<img src=\"https://cdn-media-1.freecodecamp.org/images/gb08-2i83P5wPzs3SL-vosNb6Iur5kb5ZH43\" />\n",
        "</a>\n",
        "</center>\n",
        "\n",
        "Let us explore convolution with this Interactive Tool: [convolution-visualizer](https://ezyang.github.io/convolution-visualizer/)\n",
        "\n",
        "- **Input Image Size**: The dimensions (height and width) of the image fed into the CNN layer.\n",
        "- **Padding**: Extra border of pixels added around the input image.\n",
        "- **Stride**: The number of pixels the filter shifts over the input image in each step.\n",
        "- **Dilation**: Spacing between the values in a kernel, increasing the receptive field without increasing the kernel size.\n",
        "- **Kernel/Filter Size**: The dimensions of the filter that slides across the input image, extracting features.\n",
        "- **Output Image Size**: The dimensions of the feature maps produced by the CNN layer after applying the convolution operation.\n",
        "\n",
        "**Formula**\n",
        "\n",
        "Here's a common formula to calculate the output size (O) based on the input size (I), padding (P), stride (S), dilation (D), and kernel size (K):\n",
        "\n",
        "$$ O = \\frac{(I + 2P - D(K - 1) - 1)}{S} + 1 $$\n"
      ],
      "metadata": {
        "id": "fchUQYEtMxb0"
      }
    },
    {
      "cell_type": "markdown",
      "source": [
        "## MaxPooling\n",
        "- Max pooling helps reduce the dimensions of feature maps by selecting the maximum value from each pooling window\n",
        "\n",
        "<center>\n",
        "<a href=\"https://velog.io/@mykirk98/Pooling-Layer\">\n",
        "<img src=\"https://miro.medium.com/proxy/1*lRVHY6UXH7K5sfr9L_YVvg.gif\" />\n",
        "</a>\n",
        "</center>\n"
      ],
      "metadata": {
        "id": "6o2TOKrFSA6i"
      }
    },
    {
      "cell_type": "markdown",
      "source": [
        "## Installing dependencies"
      ],
      "metadata": {
        "id": "iVAlczxjXvNg"
      }
    },
    {
      "cell_type": "code",
      "source": [
        "!pip show monai"
      ],
      "metadata": {
        "colab": {
          "base_uri": "https://localhost:8080/"
        },
        "id": "iyDguXC5X6X4",
        "outputId": "b9478b44-e019-42cf-d420-f886b7e79478"
      },
      "execution_count": null,
      "outputs": [
        {
          "output_type": "stream",
          "name": "stdout",
          "text": [
            "Name: monai\n",
            "Version: 1.4.0\n",
            "Summary: AI Toolkit for Healthcare Imaging\n",
            "Home-page: https://monai.io/\n",
            "Author: MONAI Consortium\n",
            "Author-email: monai.contact@gmail.com\n",
            "License: Apache License 2.0\n",
            "Location: /usr/local/lib/python3.10/dist-packages\n",
            "Requires: numpy, torch\n",
            "Required-by: \n"
          ]
        }
      ]
    },
    {
      "cell_type": "code",
      "source": [
        "!pip install monai[all]\n",
        "import monai\n",
        "monai.__version__"
      ],
      "metadata": {
        "colab": {
          "base_uri": "https://localhost:8080/",
          "height": 1000
        },
        "id": "wiq4xoyBX8uL",
        "outputId": "53dd2ad9-13b6-4659-9be3-c5ce2a3d0f36"
      },
      "execution_count": null,
      "outputs": [
        {
          "output_type": "stream",
          "name": "stdout",
          "text": [
            "Requirement already satisfied: monai[all] in /usr/local/lib/python3.10/dist-packages (1.4.0)\n",
            "Requirement already satisfied: numpy<2.0,>=1.24 in /usr/local/lib/python3.10/dist-packages (from monai[all]) (1.26.4)\n",
            "Requirement already satisfied: torch>=1.9 in /usr/local/lib/python3.10/dist-packages (from monai[all]) (2.5.0+cu121)\n",
            "Requirement already satisfied: clearml>=1.10.0rc0 in /usr/local/lib/python3.10/dist-packages (from monai[all]) (1.16.5rc2)\n",
            "Requirement already satisfied: einops in /usr/local/lib/python3.10/dist-packages (from monai[all]) (0.8.0)\n",
            "Requirement already satisfied: fire in /usr/local/lib/python3.10/dist-packages (from monai[all]) (0.7.0)\n",
            "Requirement already satisfied: gdown>=4.7.3 in /usr/local/lib/python3.10/dist-packages (from monai[all]) (5.2.0)\n",
            "Requirement already satisfied: h5py in /usr/local/lib/python3.10/dist-packages (from monai[all]) (3.11.0)\n",
            "Requirement already satisfied: huggingface-hub in /usr/local/lib/python3.10/dist-packages (from monai[all]) (0.24.7)\n",
            "Requirement already satisfied: imagecodecs in /usr/local/lib/python3.10/dist-packages (from monai[all]) (2024.9.22)\n",
            "Requirement already satisfied: itk>=5.2 in /usr/local/lib/python3.10/dist-packages (from monai[all]) (5.4.0)\n",
            "Requirement already satisfied: jsonschema in /usr/local/lib/python3.10/dist-packages (from monai[all]) (4.23.0)\n",
            "Requirement already satisfied: lmdb in /usr/local/lib/python3.10/dist-packages (from monai[all]) (1.5.1)\n",
            "Requirement already satisfied: lpips==0.1.4 in /usr/local/lib/python3.10/dist-packages (from monai[all]) (0.1.4)\n",
            "Requirement already satisfied: matplotlib>=3.6.3 in /usr/local/lib/python3.10/dist-packages (from monai[all]) (3.7.1)\n",
            "Requirement already satisfied: mlflow>=2.12.2 in /usr/local/lib/python3.10/dist-packages (from monai[all]) (2.17.1)\n",
            "Requirement already satisfied: nibabel in /usr/local/lib/python3.10/dist-packages (from monai[all]) (5.2.1)\n",
            "Requirement already satisfied: ninja in /usr/local/lib/python3.10/dist-packages (from monai[all]) (1.11.1.1)\n",
            "Requirement already satisfied: nni in /usr/local/lib/python3.10/dist-packages (from monai[all]) (3.0)\n",
            "Requirement already satisfied: nvidia-ml-py in /usr/local/lib/python3.10/dist-packages (from monai[all]) (12.560.30)\n",
            "Requirement already satisfied: onnx>=1.13.0 in /usr/local/lib/python3.10/dist-packages (from monai[all]) (1.17.0)\n",
            "Requirement already satisfied: openslide-python in /usr/local/lib/python3.10/dist-packages (from monai[all]) (1.3.1)\n",
            "Requirement already satisfied: optuna in /usr/local/lib/python3.10/dist-packages (from monai[all]) (4.0.0)\n",
            "Requirement already satisfied: pandas in /usr/local/lib/python3.10/dist-packages (from monai[all]) (2.2.2)\n",
            "Requirement already satisfied: pillow in /usr/local/lib/python3.10/dist-packages (from monai[all]) (10.4.0)\n",
            "Requirement already satisfied: psutil in /usr/local/lib/python3.10/dist-packages (from monai[all]) (5.9.5)\n",
            "Requirement already satisfied: pyamg>=5.0.0 in /usr/local/lib/python3.10/dist-packages (from monai[all]) (5.2.1)\n",
            "Requirement already satisfied: pydicom in /usr/local/lib/python3.10/dist-packages (from monai[all]) (3.0.1)\n",
            "Requirement already satisfied: pynrrd in /usr/local/lib/python3.10/dist-packages (from monai[all]) (1.0.0)\n",
            "Requirement already satisfied: pytorch-ignite==0.4.11 in /usr/local/lib/python3.10/dist-packages (from monai[all]) (0.4.11)\n",
            "Requirement already satisfied: pyyaml in /usr/local/lib/python3.10/dist-packages (from monai[all]) (6.0.2)\n",
            "Requirement already satisfied: scikit-image>=0.14.2 in /usr/local/lib/python3.10/dist-packages (from monai[all]) (0.24.0)\n",
            "Requirement already satisfied: tensorboard in /usr/local/lib/python3.10/dist-packages (from monai[all]) (2.17.0)\n",
            "Requirement already satisfied: tensorboardX in /usr/local/lib/python3.10/dist-packages (from monai[all]) (2.6.2.2)\n",
            "Requirement already satisfied: tifffile in /usr/local/lib/python3.10/dist-packages (from monai[all]) (2024.9.20)\n",
            "Requirement already satisfied: torchvision in /usr/local/lib/python3.10/dist-packages (from monai[all]) (0.20.0+cu121)\n",
            "Requirement already satisfied: tqdm>=4.47.0 in /usr/local/lib/python3.10/dist-packages (from monai[all]) (4.66.5)\n",
            "Requirement already satisfied: zarr in /usr/local/lib/python3.10/dist-packages (from monai[all]) (2.18.3)\n",
            "Requirement already satisfied: onnxruntime in /usr/local/lib/python3.10/dist-packages (from monai[all]) (1.19.2)\n",
            "Requirement already satisfied: transformers<4.41.0,>=4.36.0 in /usr/local/lib/python3.10/dist-packages (from monai[all]) (4.40.2)\n",
            "Requirement already satisfied: scipy>=1.12.0 in /usr/local/lib/python3.10/dist-packages (from monai[all]) (1.13.1)\n",
            "Requirement already satisfied: cucim-cu12 in /usr/local/lib/python3.10/dist-packages (from monai[all]) (24.10.0)\n",
            "Requirement already satisfied: packaging in /usr/local/lib/python3.10/dist-packages (from pytorch-ignite==0.4.11->monai[all]) (24.1)\n",
            "Requirement already satisfied: attrs>=18.0 in /usr/local/lib/python3.10/dist-packages (from clearml>=1.10.0rc0->monai[all]) (24.2.0)\n",
            "Requirement already satisfied: furl>=2.0.0 in /usr/local/lib/python3.10/dist-packages (from clearml>=1.10.0rc0->monai[all]) (2.1.3)\n",
            "Requirement already satisfied: pathlib2>=2.3.0 in /usr/local/lib/python3.10/dist-packages (from clearml>=1.10.0rc0->monai[all]) (2.3.7.post1)\n",
            "Requirement already satisfied: pyparsing>=2.0.3 in /usr/local/lib/python3.10/dist-packages (from clearml>=1.10.0rc0->monai[all]) (3.2.0)\n",
            "Requirement already satisfied: python-dateutil>=2.6.1 in /usr/local/lib/python3.10/dist-packages (from clearml>=1.10.0rc0->monai[all]) (2.8.2)\n",
            "Requirement already satisfied: requests>=2.20.0 in /usr/local/lib/python3.10/dist-packages (from clearml>=1.10.0rc0->monai[all]) (2.32.3)\n",
            "Requirement already satisfied: six>=1.13.0 in /usr/local/lib/python3.10/dist-packages (from clearml>=1.10.0rc0->monai[all]) (1.16.0)\n",
            "Requirement already satisfied: urllib3>=1.21.1 in /usr/local/lib/python3.10/dist-packages (from clearml>=1.10.0rc0->monai[all]) (2.2.3)\n",
            "Requirement already satisfied: pyjwt<2.9.0,>=2.4.0 in /usr/local/lib/python3.10/dist-packages (from clearml>=1.10.0rc0->monai[all]) (2.8.0)\n",
            "Requirement already satisfied: referencing<0.40 in /usr/local/lib/python3.10/dist-packages (from clearml>=1.10.0rc0->monai[all]) (0.35.1)\n",
            "Requirement already satisfied: beautifulsoup4 in /usr/local/lib/python3.10/dist-packages (from gdown>=4.7.3->monai[all]) (4.12.3)\n",
            "Requirement already satisfied: filelock in /usr/local/lib/python3.10/dist-packages (from gdown>=4.7.3->monai[all]) (3.11.0)\n",
            "Requirement already satisfied: itk-core==5.4.0 in /usr/local/lib/python3.10/dist-packages (from itk>=5.2->monai[all]) (5.4.0)\n",
            "Requirement already satisfied: itk-numerics==5.4.0 in /usr/local/lib/python3.10/dist-packages (from itk>=5.2->monai[all]) (5.4.0)\n",
            "Requirement already satisfied: itk-io==5.4.0 in /usr/local/lib/python3.10/dist-packages (from itk>=5.2->monai[all]) (5.4.0)\n",
            "Requirement already satisfied: itk-filtering==5.4.0 in /usr/local/lib/python3.10/dist-packages (from itk>=5.2->monai[all]) (5.4.0)\n",
            "Requirement already satisfied: itk-registration==5.4.0 in /usr/local/lib/python3.10/dist-packages (from itk>=5.2->monai[all]) (5.4.0)\n",
            "Requirement already satisfied: itk-segmentation==5.4.0 in /usr/local/lib/python3.10/dist-packages (from itk>=5.2->monai[all]) (5.4.0)\n",
            "Requirement already satisfied: jsonschema-specifications>=2023.03.6 in /usr/local/lib/python3.10/dist-packages (from jsonschema->monai[all]) (2024.10.1)\n",
            "Requirement already satisfied: rpds-py>=0.7.1 in /usr/local/lib/python3.10/dist-packages (from jsonschema->monai[all]) (0.20.0)\n",
            "Requirement already satisfied: contourpy>=1.0.1 in /usr/local/lib/python3.10/dist-packages (from matplotlib>=3.6.3->monai[all]) (1.3.0)\n",
            "Requirement already satisfied: cycler>=0.10 in /usr/local/lib/python3.10/dist-packages (from matplotlib>=3.6.3->monai[all]) (0.12.1)\n",
            "Requirement already satisfied: fonttools>=4.22.0 in /usr/local/lib/python3.10/dist-packages (from matplotlib>=3.6.3->monai[all]) (4.54.1)\n",
            "Requirement already satisfied: kiwisolver>=1.0.1 in /usr/local/lib/python3.10/dist-packages (from matplotlib>=3.6.3->monai[all]) (1.4.7)\n",
            "Requirement already satisfied: mlflow-skinny==2.17.1 in /usr/local/lib/python3.10/dist-packages (from mlflow>=2.12.2->monai[all]) (2.17.1)\n",
            "Requirement already satisfied: Flask<4 in /usr/local/lib/python3.10/dist-packages (from mlflow>=2.12.2->monai[all]) (2.2.5)\n",
            "Requirement already satisfied: alembic!=1.10.0,<2 in /usr/local/lib/python3.10/dist-packages (from mlflow>=2.12.2->monai[all]) (1.13.3)\n",
            "Requirement already satisfied: docker<8,>=4.0.0 in /usr/local/lib/python3.10/dist-packages (from mlflow>=2.12.2->monai[all]) (7.1.0)\n",
            "Requirement already satisfied: graphene<4 in /usr/local/lib/python3.10/dist-packages (from mlflow>=2.12.2->monai[all]) (3.4)\n",
            "Requirement already satisfied: markdown<4,>=3.3 in /usr/local/lib/python3.10/dist-packages (from mlflow>=2.12.2->monai[all]) (3.7)\n",
            "Requirement already satisfied: pyarrow<18,>=4.0.0 in /usr/local/lib/python3.10/dist-packages (from mlflow>=2.12.2->monai[all]) (16.1.0)\n",
            "Requirement already satisfied: scikit-learn<2 in /usr/local/lib/python3.10/dist-packages (from mlflow>=2.12.2->monai[all]) (1.5.2)\n",
            "Requirement already satisfied: sqlalchemy<3,>=1.4.0 in /usr/local/lib/python3.10/dist-packages (from mlflow>=2.12.2->monai[all]) (2.0.36)\n",
            "Requirement already satisfied: Jinja2<4,>=2.11 in /usr/local/lib/python3.10/dist-packages (from mlflow>=2.12.2->monai[all]) (3.1.4)\n",
            "Requirement already satisfied: gunicorn<24 in /usr/local/lib/python3.10/dist-packages (from mlflow>=2.12.2->monai[all]) (23.0.0)\n",
            "Requirement already satisfied: cachetools<6,>=5.0.0 in /usr/local/lib/python3.10/dist-packages (from mlflow-skinny==2.17.1->mlflow>=2.12.2->monai[all]) (5.5.0)\n",
            "Requirement already satisfied: click<9,>=7.0 in /usr/local/lib/python3.10/dist-packages (from mlflow-skinny==2.17.1->mlflow>=2.12.2->monai[all]) (8.1.7)\n",
            "Requirement already satisfied: cloudpickle<4 in /usr/local/lib/python3.10/dist-packages (from mlflow-skinny==2.17.1->mlflow>=2.12.2->monai[all]) (3.1.0)\n",
            "Requirement already satisfied: databricks-sdk<1,>=0.20.0 in /usr/local/lib/python3.10/dist-packages (from mlflow-skinny==2.17.1->mlflow>=2.12.2->monai[all]) (0.36.0)\n",
            "Requirement already satisfied: gitpython<4,>=3.1.9 in /usr/local/lib/python3.10/dist-packages (from mlflow-skinny==2.17.1->mlflow>=2.12.2->monai[all]) (3.1.43)\n",
            "Requirement already satisfied: importlib-metadata!=4.7.0,<9,>=3.7.0 in /usr/local/lib/python3.10/dist-packages (from mlflow-skinny==2.17.1->mlflow>=2.12.2->monai[all]) (8.5.0)\n",
            "Requirement already satisfied: opentelemetry-api<3,>=1.9.0 in /usr/local/lib/python3.10/dist-packages (from mlflow-skinny==2.17.1->mlflow>=2.12.2->monai[all]) (1.16.0)\n",
            "Requirement already satisfied: opentelemetry-sdk<3,>=1.9.0 in /usr/local/lib/python3.10/dist-packages (from mlflow-skinny==2.17.1->mlflow>=2.12.2->monai[all]) (1.16.0)\n",
            "Requirement already satisfied: protobuf<6,>=3.12.0 in /usr/local/lib/python3.10/dist-packages (from mlflow-skinny==2.17.1->mlflow>=2.12.2->monai[all]) (3.20.3)\n",
            "Requirement already satisfied: sqlparse<1,>=0.4.0 in /usr/local/lib/python3.10/dist-packages (from mlflow-skinny==2.17.1->mlflow>=2.12.2->monai[all]) (0.5.1)\n",
            "Requirement already satisfied: pytz>=2020.1 in /usr/local/lib/python3.10/dist-packages (from pandas->monai[all]) (2024.2)\n",
            "Requirement already satisfied: tzdata>=2022.7 in /usr/local/lib/python3.10/dist-packages (from pandas->monai[all]) (2024.2)\n",
            "Requirement already satisfied: networkx>=2.8 in /usr/local/lib/python3.10/dist-packages (from scikit-image>=0.14.2->monai[all]) (3.4.2)\n",
            "Requirement already satisfied: imageio>=2.33 in /usr/local/lib/python3.10/dist-packages (from scikit-image>=0.14.2->monai[all]) (2.35.1)\n",
            "Requirement already satisfied: lazy-loader>=0.4 in /usr/local/lib/python3.10/dist-packages (from scikit-image>=0.14.2->monai[all]) (0.4)\n",
            "Requirement already satisfied: typing-extensions>=4.8.0 in /usr/local/lib/python3.10/dist-packages (from torch>=1.9->monai[all]) (4.12.2)\n",
            "Requirement already satisfied: fsspec in /usr/local/lib/python3.10/dist-packages (from torch>=1.9->monai[all]) (2024.6.1)\n",
            "Requirement already satisfied: sympy==1.13.1 in /usr/local/lib/python3.10/dist-packages (from torch>=1.9->monai[all]) (1.13.1)\n",
            "Requirement already satisfied: mpmath<1.4,>=1.1.0 in /usr/local/lib/python3.10/dist-packages (from sympy==1.13.1->torch>=1.9->monai[all]) (1.3.0)\n",
            "Requirement already satisfied: regex!=2019.12.17 in /usr/local/lib/python3.10/dist-packages (from transformers<4.41.0,>=4.36.0->monai[all]) (2024.9.11)\n",
            "Requirement already satisfied: tokenizers<0.20,>=0.19 in /usr/local/lib/python3.10/dist-packages (from transformers<4.41.0,>=4.36.0->monai[all]) (0.19.1)\n",
            "Requirement already satisfied: safetensors>=0.4.1 in /usr/local/lib/python3.10/dist-packages (from transformers<4.41.0,>=4.36.0->monai[all]) (0.4.5)\n",
            "Requirement already satisfied: cupy-cuda12x>=12.0.0 in /usr/local/lib/python3.10/dist-packages (from cucim-cu12->monai[all]) (12.2.0)\n",
            "Requirement already satisfied: termcolor in /usr/local/lib/python3.10/dist-packages (from fire->monai[all]) (2.5.0)\n",
            "Requirement already satisfied: astor in /usr/local/lib/python3.10/dist-packages (from nni->monai[all]) (0.8.1)\n",
            "Requirement already satisfied: colorama in /usr/local/lib/python3.10/dist-packages (from nni->monai[all]) (0.4.6)\n",
            "Requirement already satisfied: json-tricks>=3.15.5 in /usr/local/lib/python3.10/dist-packages (from nni->monai[all]) (3.17.3)\n",
            "Requirement already satisfied: prettytable in /usr/local/lib/python3.10/dist-packages (from nni->monai[all]) (3.11.0)\n",
            "Requirement already satisfied: PythonWebHDFS in /usr/local/lib/python3.10/dist-packages (from nni->monai[all]) (0.2.3)\n",
            "Requirement already satisfied: responses in /usr/local/lib/python3.10/dist-packages (from nni->monai[all]) (0.25.3)\n",
            "Requirement already satisfied: schema in /usr/local/lib/python3.10/dist-packages (from nni->monai[all]) (0.7.7)\n",
            "Requirement already satisfied: typeguard<4.1.3,>=3.0.0 in /usr/local/lib/python3.10/dist-packages (from nni->monai[all]) (4.1.2)\n",
            "Requirement already satisfied: websockets>=10.1 in /usr/local/lib/python3.10/dist-packages (from nni->monai[all]) (13.1)\n",
            "Requirement already satisfied: coloredlogs in /usr/local/lib/python3.10/dist-packages (from onnxruntime->monai[all]) (15.0.1)\n",
            "Requirement already satisfied: flatbuffers in /usr/local/lib/python3.10/dist-packages (from onnxruntime->monai[all]) (24.3.25)\n",
            "Requirement already satisfied: colorlog in /usr/local/lib/python3.10/dist-packages (from optuna->monai[all]) (6.8.2)\n",
            "Requirement already satisfied: nptyping in /usr/local/lib/python3.10/dist-packages (from pynrrd->monai[all]) (2.5.0)\n",
            "Requirement already satisfied: absl-py>=0.4 in /usr/local/lib/python3.10/dist-packages (from tensorboard->monai[all]) (1.4.0)\n",
            "Requirement already satisfied: grpcio>=1.48.2 in /usr/local/lib/python3.10/dist-packages (from tensorboard->monai[all]) (1.64.1)\n",
            "Requirement already satisfied: setuptools>=41.0.0 in /usr/local/lib/python3.10/dist-packages (from tensorboard->monai[all]) (75.1.0)\n",
            "Requirement already satisfied: tensorboard-data-server<0.8.0,>=0.7.0 in /usr/local/lib/python3.10/dist-packages (from tensorboard->monai[all]) (0.7.2)\n",
            "Requirement already satisfied: werkzeug>=1.0.1 in /usr/local/lib/python3.10/dist-packages (from tensorboard->monai[all]) (3.0.4)\n",
            "Requirement already satisfied: asciitree in /usr/local/lib/python3.10/dist-packages (from zarr->monai[all]) (0.3.3)\n",
            "Requirement already satisfied: numcodecs>=0.10.0 in /usr/local/lib/python3.10/dist-packages (from zarr->monai[all]) (0.13.1)\n",
            "Requirement already satisfied: fasteners in /usr/local/lib/python3.10/dist-packages (from zarr->monai[all]) (0.19)\n",
            "Requirement already satisfied: Mako in /usr/local/lib/python3.10/dist-packages (from alembic!=1.10.0,<2->mlflow>=2.12.2->monai[all]) (1.3.6)\n",
            "Requirement already satisfied: fastrlock>=0.5 in /usr/local/lib/python3.10/dist-packages (from cupy-cuda12x>=12.0.0->cucim-cu12->monai[all]) (0.8.2)\n",
            "Requirement already satisfied: itsdangerous>=2.0 in /usr/local/lib/python3.10/dist-packages (from Flask<4->mlflow>=2.12.2->monai[all]) (2.2.0)\n",
            "Requirement already satisfied: orderedmultidict>=1.0.1 in /usr/local/lib/python3.10/dist-packages (from furl>=2.0.0->clearml>=1.10.0rc0->monai[all]) (1.0.1)\n",
            "Requirement already satisfied: graphql-core<3.3,>=3.1 in /usr/local/lib/python3.10/dist-packages (from graphene<4->mlflow>=2.12.2->monai[all]) (3.2.5)\n",
            "Requirement already satisfied: graphql-relay<3.3,>=3.1 in /usr/local/lib/python3.10/dist-packages (from graphene<4->mlflow>=2.12.2->monai[all]) (3.2.0)\n",
            "Requirement already satisfied: MarkupSafe>=2.0 in /usr/local/lib/python3.10/dist-packages (from Jinja2<4,>=2.11->mlflow>=2.12.2->monai[all]) (3.0.2)\n",
            "Requirement already satisfied: charset-normalizer<4,>=2 in /usr/local/lib/python3.10/dist-packages (from requests>=2.20.0->clearml>=1.10.0rc0->monai[all]) (3.4.0)\n",
            "Requirement already satisfied: idna<4,>=2.5 in /usr/local/lib/python3.10/dist-packages (from requests>=2.20.0->clearml>=1.10.0rc0->monai[all]) (3.10)\n",
            "Requirement already satisfied: certifi>=2017.4.17 in /usr/local/lib/python3.10/dist-packages (from requests>=2.20.0->clearml>=1.10.0rc0->monai[all]) (2024.8.30)\n",
            "Requirement already satisfied: joblib>=1.2.0 in /usr/local/lib/python3.10/dist-packages (from scikit-learn<2->mlflow>=2.12.2->monai[all]) (1.4.2)\n",
            "Requirement already satisfied: threadpoolctl>=3.1.0 in /usr/local/lib/python3.10/dist-packages (from scikit-learn<2->mlflow>=2.12.2->monai[all]) (3.5.0)\n",
            "Requirement already satisfied: greenlet!=0.4.17 in /usr/local/lib/python3.10/dist-packages (from sqlalchemy<3,>=1.4.0->mlflow>=2.12.2->monai[all]) (3.1.1)\n",
            "Requirement already satisfied: soupsieve>1.2 in /usr/local/lib/python3.10/dist-packages (from beautifulsoup4->gdown>=4.7.3->monai[all]) (2.6)\n",
            "Requirement already satisfied: humanfriendly>=9.1 in /usr/local/lib/python3.10/dist-packages (from coloredlogs->onnxruntime->monai[all]) (10.0)\n",
            "Requirement already satisfied: wcwidth in /usr/local/lib/python3.10/dist-packages (from prettytable->nni->monai[all]) (0.2.13)\n",
            "Requirement already satisfied: simplejson in /usr/local/lib/python3.10/dist-packages (from PythonWebHDFS->nni->monai[all]) (3.19.3)\n",
            "Requirement already satisfied: PySocks!=1.5.7,>=1.5.6 in /usr/local/lib/python3.10/dist-packages (from requests[socks]->gdown>=4.7.3->monai[all]) (1.7.1)\n",
            "Requirement already satisfied: google-auth~=2.0 in /usr/local/lib/python3.10/dist-packages (from databricks-sdk<1,>=0.20.0->mlflow-skinny==2.17.1->mlflow>=2.12.2->monai[all]) (2.27.0)\n",
            "Requirement already satisfied: gitdb<5,>=4.0.1 in /usr/local/lib/python3.10/dist-packages (from gitpython<4,>=3.1.9->mlflow-skinny==2.17.1->mlflow>=2.12.2->monai[all]) (4.0.11)\n",
            "Requirement already satisfied: zipp>=3.20 in /usr/local/lib/python3.10/dist-packages (from importlib-metadata!=4.7.0,<9,>=3.7.0->mlflow-skinny==2.17.1->mlflow>=2.12.2->monai[all]) (3.20.2)\n",
            "Requirement already satisfied: deprecated>=1.2.6 in /usr/local/lib/python3.10/dist-packages (from opentelemetry-api<3,>=1.9.0->mlflow-skinny==2.17.1->mlflow>=2.12.2->monai[all]) (1.2.14)\n",
            "Requirement already satisfied: opentelemetry-semantic-conventions==0.37b0 in /usr/local/lib/python3.10/dist-packages (from opentelemetry-sdk<3,>=1.9.0->mlflow-skinny==2.17.1->mlflow>=2.12.2->monai[all]) (0.37b0)\n",
            "Requirement already satisfied: wrapt<2,>=1.10 in /usr/local/lib/python3.10/dist-packages (from deprecated>=1.2.6->opentelemetry-api<3,>=1.9.0->mlflow-skinny==2.17.1->mlflow>=2.12.2->monai[all]) (1.16.0)\n",
            "Requirement already satisfied: smmap<6,>=3.0.1 in /usr/local/lib/python3.10/dist-packages (from gitdb<5,>=4.0.1->gitpython<4,>=3.1.9->mlflow-skinny==2.17.1->mlflow>=2.12.2->monai[all]) (5.0.1)\n",
            "Requirement already satisfied: pyasn1-modules>=0.2.1 in /usr/local/lib/python3.10/dist-packages (from google-auth~=2.0->databricks-sdk<1,>=0.20.0->mlflow-skinny==2.17.1->mlflow>=2.12.2->monai[all]) (0.4.1)\n",
            "Requirement already satisfied: rsa<5,>=3.1.4 in /usr/local/lib/python3.10/dist-packages (from google-auth~=2.0->databricks-sdk<1,>=0.20.0->mlflow-skinny==2.17.1->mlflow>=2.12.2->monai[all]) (4.9)\n",
            "Requirement already satisfied: pyasn1<0.7.0,>=0.4.6 in /usr/local/lib/python3.10/dist-packages (from pyasn1-modules>=0.2.1->google-auth~=2.0->databricks-sdk<1,>=0.20.0->mlflow-skinny==2.17.1->mlflow>=2.12.2->monai[all]) (0.6.1)\n"
          ]
        },
        {
          "output_type": "execute_result",
          "data": {
            "text/plain": [
              "'1.4.0'"
            ],
            "application/vnd.google.colaboratory.intrinsic+json": {
              "type": "string"
            }
          },
          "metadata": {},
          "execution_count": 68
        }
      ]
    },
    {
      "cell_type": "markdown",
      "source": [
        "## MONAI: Network Architectures\n",
        "\n",
        "- Blocks: MONAI provides flexible and customizable network architecture blocks like Convolution, Attention, and UpSample, which can be easily combined to build complex medical image analysis models\n",
        "- Nets: MONAI offers a collection of pre-built network architectures like UNet, SegResNet, and DynUNet, readily available for common medical image analysis tasks"
      ],
      "metadata": {
        "id": "bBhc2F_yXpQf"
      }
    },
    {
      "cell_type": "markdown",
      "source": [
        "### Create dummy image"
      ],
      "metadata": {
        "id": "OmwftGgAdUo7"
      }
    },
    {
      "cell_type": "code",
      "source": [
        "import monai\n",
        "import matplotlib.pyplot as plt\n",
        "from monai.data import create_test_image_2d\n",
        "\n",
        "# Create a 2D image of 128x128 with 2 classes\n",
        "im, seg = create_test_image_2d(128, 128, num_seg_classes=2,rad_max=10,num_objs=10)\n",
        "\n",
        "# Display the image and segmentation\n",
        "plt.figure(\"test image\", (12, 6))\n",
        "plt.subplot(1, 2, 1)\n",
        "plt.title(\"image\")\n",
        "plt.imshow(im, cmap=\"gray\")\n",
        "plt.subplot(1, 2, 2)\n",
        "plt.title(\"segmentation\")\n",
        "plt.imshow(seg, cmap=\"jet\")\n",
        "plt.show()\n",
        "print(f\"The shape of the image: {im.shape}\")\n",
        "print(f\"The shape of the segmentation: {seg.shape}\")"
      ],
      "metadata": {
        "colab": {
          "base_uri": "https://localhost:8080/",
          "height": 540
        },
        "id": "kh4Hrd7jYwU7",
        "outputId": "339fe67a-c82d-4ec6-a354-478ffbdb2d47"
      },
      "execution_count": null,
      "outputs": [
        {
          "output_type": "display_data",
          "data": {
            "text/plain": [
              "<Figure size 1200x600 with 2 Axes>"
            ],
            "image/png": "[encoded data removed]"
          },
          "metadata": {}
        },
        {
          "output_type": "stream",
          "name": "stdout",
          "text": [
            "The shape of the image: (128, 128)\n",
            "The shape of the segmentation: (128, 128)\n"
          ]
        }
      ]
    },
    {
      "cell_type": "markdown",
      "source": [
        "### Create MONAI dataset & transforms"
      ],
      "metadata": {
        "id": "pEm2R4_1dYEH"
      }
    },
    {
      "cell_type": "code",
      "execution_count": null,
      "metadata": {
        "colab": {
          "base_uri": "https://localhost:8080/"
        },
        "id": "EESMJjpT4OXM",
        "outputId": "0be3e4f5-4f67-479b-c32f-fbb5c770964a"
      },
      "outputs": [
        {
          "output_type": "stream",
          "name": "stdout",
          "text": [
            "Shape of image after transform: torch.Size([1, 1, 128, 128])\n",
            "Shape of label after transform: torch.Size([1, 1, 128, 128])\n",
            "Type of image after transform: <class 'monai.data.meta_tensor.MetaTensor'>\n",
            "Type of label after transform: <class 'monai.data.meta_tensor.MetaTensor'>\n"
          ]
        }
      ],
      "source": [
        "import numpy as np\n",
        "from monai.data import Dataset\n",
        "from monai.transforms import Compose, EnsureChannelFirstd, ToTensord, ScaleIntensityd\n",
        "\n",
        "# Assuming 'im' and 'seg' are already defined from the previous code\n",
        "\n",
        "# Create a list of dictionaries, where each dictionary represents a data sample.\n",
        "data_dicts = [\n",
        "    {\"image\": im, \"label\": seg}\n",
        "]\n",
        "\n",
        "\n",
        "# Define transformations\n",
        "transforms = Compose([\n",
        "    EnsureChannelFirstd(keys=[\"image\",\"label\"],channel_dim=\"no_channel\"),  # Adds a channel dimension to the image and segmentation\n",
        "    EnsureChannelFirstd(keys=[\"image\",\"label\"],channel_dim=\"no_channel\"),  # Adds a channel dimension to the image and segmentation\n",
        "    ScaleIntensityd(keys=[\"image\"]),  # Scales the intensity values of the image to the range [0, 1]\n",
        "    ToTensord(keys=[\"image\",\"label\"])     # Converts NumPy arrays to PyTorch tensors\n",
        "])\n",
        "\n",
        "# Create the MONAI dataset\n",
        "dataset = Dataset(data=data_dicts, transform=transforms)\n",
        "\n",
        "# Access data sample from the dataset\n",
        "check_data = dataset[0]\n",
        "image, label = check_data[\"image\"], check_data[\"label\"]\n",
        "\n",
        "print(f\"Shape of image after transform: {image.shape}\")\n",
        "print(f\"Shape of label after transform: {label.shape}\")\n",
        "print(f\"Type of image after transform: {type(image)}\")\n",
        "print(f\"Type of label after transform: {type(label)}\")\n"
      ]
    },
    {
      "cell_type": "markdown",
      "source": [
        "### Convolution\n",
        "\n",
        "More details: https://docs.monai.io/en/stable/networks.html#convolution\n"
      ],
      "metadata": {
        "id": "E3N2tooUdhhJ"
      }
    },
    {
      "cell_type": "code",
      "source": [
        "#Defining a convolution\n",
        "from monai.networks.blocks import Convolution\n",
        "\n",
        "conv = Convolution(\n",
        "    spatial_dims=2,\n",
        "    in_channels=1,\n",
        "    out_channels=1,\n",
        ")"
      ],
      "metadata": {
        "id": "Wn0uqyOX7Yiz"
      },
      "execution_count": null,
      "outputs": []
    },
    {
      "cell_type": "code",
      "source": [
        "# Apply convolution to the image\n",
        "conv_output = conv(image)\n",
        "\n",
        "# Display the input image and the convolved image\n",
        "plt.figure(\"Input vs Convoluted Image\", (12, 6))\n",
        "plt.subplot(1, 2, 1)\n",
        "plt.title(\"Input Image\")\n",
        "plt.imshow(np.squeeze(image.numpy()), cmap=\"gray\")  # Remove channel dimension for display\n",
        "plt.subplot(1, 2, 2)\n",
        "plt.title(\"Convoluted Image\")\n",
        "plt.imshow(np.squeeze(conv_output.detach().numpy()), cmap=\"gray\")  # Remove channel dimension for display and detach from computation graph\n",
        "plt.show()\n",
        "\n",
        "\n",
        "# Print the sizes of the input image and the convolved image\n",
        "print(f\"Input image size: {image.shape}\")\n",
        "print(f\"Convoluted image size: {conv_output.shape}\")"
      ],
      "metadata": {
        "colab": {
          "base_uri": "https://localhost:8080/",
          "height": 540
        },
        "id": "NvoJDl-ubvXF",
        "outputId": "a9a31cdf-6cd7-4d0f-efcf-88ab47a391bc"
      },
      "execution_count": null,
      "outputs": [
        {
          "output_type": "display_data",
          "data": {
            "text/plain": [
              "<Figure size 1200x600 with 2 Axes>"
            ],
            "image/png": "[encoded data removed]"
          },
          "metadata": {}
        },
        {
          "output_type": "stream",
          "name": "stdout",
          "text": [
            "Input image size: torch.Size([1, 1, 128, 128])\n",
            "Convoluted image size: torch.Size([1, 1, 128, 128])\n"
          ]
        }
      ]
    },
    {
      "cell_type": "markdown",
      "source": [
        "### MaxAvgPooling\n",
        "\n",
        "more details: https://docs.monai.io/en/stable/networks.html#maxavgpooling"
      ],
      "metadata": {
        "id": "bS77yo2O9ruc"
      }
    },
    {
      "cell_type": "code",
      "source": [
        "from monai.networks.blocks import MaxAvgPool\n",
        "\n",
        "# Define MaxAvgPool with spatial_dims=2 and kernel_size=2.\n",
        "maxavgpool = MaxAvgPool(spatial_dims=2, kernel_size=(2,2),stride=(2,2))\n",
        "\n",
        "# Apply maxavgpool to the image\n",
        "maxavgpool_output = maxavgpool(image)\n",
        "\n",
        "# Print the sizes of the input image and the maxavgpool output\n",
        "print(f\"Input image size: {image.shape}\")\n",
        "print(f\"MaxAvgPool image size: {maxavgpool_output.shape}\")\n",
        "\n",
        "# Display the input image and the maxavgpool output\n",
        "plt.figure(\"Input vs MaxAvgPool Image\", (12, 6))\n",
        "plt.subplot(1, 2, 1)\n",
        "plt.title(\"Input Image\")\n",
        "plt.imshow(np.squeeze(image.numpy()), cmap=\"gray\")\n",
        "plt.subplot(1, 2, 2)\n",
        "plt.title(\"MaxAvgPool Image\")\n",
        "plt.imshow(np.squeeze(maxavgpool_output.detach().numpy()[0,0,:,:]), cmap=\"gray\")\n",
        "plt.show()\n",
        "\n"
      ],
      "metadata": {
        "colab": {
          "base_uri": "https://localhost:8080/",
          "height": 540
        },
        "id": "glbPDwxKLSiv",
        "outputId": "65a71648-e92a-4c97-f2af-e286459e8b7c"
      },
      "execution_count": null,
      "outputs": [
        {
          "output_type": "stream",
          "name": "stdout",
          "text": [
            "Input image size: torch.Size([1, 1, 128, 128])\n",
            "MaxAvgPool image size: torch.Size([1, 2, 64, 64])\n"
          ]
        },
        {
          "output_type": "display_data",
          "data": {
            "text/plain": [
              "<Figure size 1200x600 with 2 Axes>"
            ],
            "image/png": "[encoded data removed]"
          },
          "metadata": {}
        }
      ]
    },
    {
      "cell_type": "markdown",
      "source": [
        "### Classification Models\n",
        "\n",
        "<center>\n",
        "<a href=\"https://arxiv.org/abs/1608.06993\">\n",
        "<img src=\"https://th.bing.com/th/id/OIP.kNGEXTvcgXPqztCwKbNvUwHaFM?pid=ImgDet&w=474&h=332&rs=1\"/>\n",
        "</a>\n",
        "</center>\n",
        "\n",
        "More details: https://docs.monai.io/en/stable/networks.html#densenet"
      ],
      "metadata": {
        "id": "dwEGX0FwkJRS"
      }
    },
    {
      "cell_type": "code",
      "source": [
        "from monai.networks.nets import DenseNet121\n",
        "\n",
        "# Define the DenseNet model with specified parameters\n",
        "model = DenseNet121(\n",
        "    spatial_dims=2,\n",
        "    in_channels=1,\n",
        "    out_channels=2,\n",
        ")\n",
        "\n",
        "print(model)"
      ],
      "metadata": {
        "colab": {
          "base_uri": "https://localhost:8080/"
        },
        "id": "VYrWBOfU9tKa",
        "outputId": "810a36da-a02b-45f2-cfec-8a1aa828f5b8"
      },
      "execution_count": null,
      "outputs": [
        {
          "output_type": "stream",
          "name": "stdout",
          "text": [
            "DenseNet121(\n",
            "  (features): Sequential(\n",
            "    (conv0): Conv2d(1, 64, kernel_size=(7, 7), stride=(2, 2), padding=(3, 3), bias=False)\n",
            "    (norm0): BatchNorm2d(64, eps=1e-05, momentum=0.1, affine=True, track_running_stats=True)\n",
            "    (relu0): ReLU(inplace=True)\n",
            "    (pool0): MaxPool2d(kernel_size=3, stride=2, padding=1, dilation=1, ceil_mode=False)\n",
            "    (denseblock1): _DenseBlock(\n",
            "      (denselayer1): _DenseLayer(\n",
            "        (layers): Sequential(\n",
            "          (norm1): BatchNorm2d(64, eps=1e-05, momentum=0.1, affine=True, track_running_stats=True)\n",
            "          (relu1): ReLU(inplace=True)\n",
            "          (conv1): Conv2d(64, 128, kernel_size=(1, 1), stride=(1, 1), bias=False)\n",
            "          (norm2): BatchNorm2d(128, eps=1e-05, momentum=0.1, affine=True, track_running_stats=True)\n",
            "          (relu2): ReLU(inplace=True)\n",
            "          (conv2): Conv2d(128, 32, kernel_size=(3, 3), stride=(1, 1), padding=(1, 1), bias=False)\n",
            "        )\n",
            "      )\n",
            "      (denselayer2): _DenseLayer(\n",
            "        (layers): Sequential(\n",
            "          (norm1): BatchNorm2d(96, eps=1e-05, momentum=0.1, affine=True, track_running_stats=True)\n",
            "          (relu1): ReLU(inplace=True)\n",
            "          (conv1): Conv2d(96, 128, kernel_size=(1, 1), stride=(1, 1), bias=False)\n",
            "          (norm2): BatchNorm2d(128, eps=1e-05, momentum=0.1, affine=True, track_running_stats=True)\n",
            "          (relu2): ReLU(inplace=True)\n",
            "          (conv2): Conv2d(128, 32, kernel_size=(3, 3), stride=(1, 1), padding=(1, 1), bias=False)\n",
            "        )\n",
            "      )\n",
            "      (denselayer3): _DenseLayer(\n",
            "        (layers): Sequential(\n",
            "          (norm1): BatchNorm2d(128, eps=1e-05, momentum=0.1, affine=True, track_running_stats=True)\n",
            "          (relu1): ReLU(inplace=True)\n",
            "          (conv1): Conv2d(128, 128, kernel_size=(1, 1), stride=(1, 1), bias=False)\n",
            "          (norm2): BatchNorm2d(128, eps=1e-05, momentum=0.1, affine=True, track_running_stats=True)\n",
            "          (relu2): ReLU(inplace=True)\n",
            "          (conv2): Conv2d(128, 32, kernel_size=(3, 3), stride=(1, 1), padding=(1, 1), bias=False)\n",
            "        )\n",
            "      )\n",
            "      (denselayer4): _DenseLayer(\n",
            "        (layers): Sequential(\n",
            "          (norm1): BatchNorm2d(160, eps=1e-05, momentum=0.1, affine=True, track_running_stats=True)\n",
            "          (relu1): ReLU(inplace=True)\n",
            "          (conv1): Conv2d(160, 128, kernel_size=(1, 1), stride=(1, 1), bias=False)\n",
            "          (norm2): BatchNorm2d(128, eps=1e-05, momentum=0.1, affine=True, track_running_stats=True)\n",
            "          (relu2): ReLU(inplace=True)\n",
            "          (conv2): Conv2d(128, 32, kernel_size=(3, 3), stride=(1, 1), padding=(1, 1), bias=False)\n",
            "        )\n",
            "      )\n",
            "      (denselayer5): _DenseLayer(\n",
            "        (layers): Sequential(\n",
            "          (norm1): BatchNorm2d(192, eps=1e-05, momentum=0.1, affine=True, track_running_stats=True)\n",
            "          (relu1): ReLU(inplace=True)\n",
            "          (conv1): Conv2d(192, 128, kernel_size=(1, 1), stride=(1, 1), bias=False)\n",
            "          (norm2): BatchNorm2d(128, eps=1e-05, momentum=0.1, affine=True, track_running_stats=True)\n",
            "          (relu2): ReLU(inplace=True)\n",
            "          (conv2): Conv2d(128, 32, kernel_size=(3, 3), stride=(1, 1), padding=(1, 1), bias=False)\n",
            "        )\n",
            "      )\n",
            "      (denselayer6): _DenseLayer(\n",
            "        (layers): Sequential(\n",
            "          (norm1): BatchNorm2d(224, eps=1e-05, momentum=0.1, affine=True, track_running_stats=True)\n",
            "          (relu1): ReLU(inplace=True)\n",
            "          (conv1): Conv2d(224, 128, kernel_size=(1, 1), stride=(1, 1), bias=False)\n",
            "          (norm2): BatchNorm2d(128, eps=1e-05, momentum=0.1, affine=True, track_running_stats=True)\n",
            "          (relu2): ReLU(inplace=True)\n",
            "          (conv2): Conv2d(128, 32, kernel_size=(3, 3), stride=(1, 1), padding=(1, 1), bias=False)\n",
            "        )\n",
            "      )\n",
            "    )\n",
            "    (transition1): _Transition(\n",
            "      (norm): BatchNorm2d(256, eps=1e-05, momentum=0.1, affine=True, track_running_stats=True)\n",
            "      (relu): ReLU(inplace=True)\n",
            "      (conv): Conv2d(256, 128, kernel_size=(1, 1), stride=(1, 1), bias=False)\n",
            "      (pool): AvgPool2d(kernel_size=2, stride=2, padding=0)\n",
            "    )\n",
            "    (denseblock2): _DenseBlock(\n",
            "      (denselayer1): _DenseLayer(\n",
            "        (layers): Sequential(\n",
            "          (norm1): BatchNorm2d(128, eps=1e-05, momentum=0.1, affine=True, track_running_stats=True)\n",
            "          (relu1): ReLU(inplace=True)\n",
            "          (conv1): Conv2d(128, 128, kernel_size=(1, 1), stride=(1, 1), bias=False)\n",
            "          (norm2): BatchNorm2d(128, eps=1e-05, momentum=0.1, affine=True, track_running_stats=True)\n",
            "          (relu2): ReLU(inplace=True)\n",
            "          (conv2): Conv2d(128, 32, kernel_size=(3, 3), stride=(1, 1), padding=(1, 1), bias=False)\n",
            "        )\n",
            "      )\n",
            "      (denselayer2): _DenseLayer(\n",
            "        (layers): Sequential(\n",
            "          (norm1): BatchNorm2d(160, eps=1e-05, momentum=0.1, affine=True, track_running_stats=True)\n",
            "          (relu1): ReLU(inplace=True)\n",
            "          (conv1): Conv2d(160, 128, kernel_size=(1, 1), stride=(1, 1), bias=False)\n",
            "          (norm2): BatchNorm2d(128, eps=1e-05, momentum=0.1, affine=True, track_running_stats=True)\n",
            "          (relu2): ReLU(inplace=True)\n",
            "          (conv2): Conv2d(128, 32, kernel_size=(3, 3), stride=(1, 1), padding=(1, 1), bias=False)\n",
            "        )\n",
            "      )\n",
            "      (denselayer3): _DenseLayer(\n",
            "        (layers): Sequential(\n",
            "          (norm1): BatchNorm2d(192, eps=1e-05, momentum=0.1, affine=True, track_running_stats=True)\n",
            "          (relu1): ReLU(inplace=True)\n",
            "          (conv1): Conv2d(192, 128, kernel_size=(1, 1), stride=(1, 1), bias=False)\n",
            "          (norm2): BatchNorm2d(128, eps=1e-05, momentum=0.1, affine=True, track_running_stats=True)\n",
            "          (relu2): ReLU(inplace=True)\n",
            "          (conv2): Conv2d(128, 32, kernel_size=(3, 3), stride=(1, 1), padding=(1, 1), bias=False)\n",
            "        )\n",
            "      )\n",
            "      (denselayer4): _DenseLayer(\n",
            "        (layers): Sequential(\n",
            "          (norm1): BatchNorm2d(224, eps=1e-05, momentum=0.1, affine=True, track_running_stats=True)\n",
            "          (relu1): ReLU(inplace=True)\n",
            "          (conv1): Conv2d(224, 128, kernel_size=(1, 1), stride=(1, 1), bias=False)\n",
            "          (norm2): BatchNorm2d(128, eps=1e-05, momentum=0.1, affine=True, track_running_stats=True)\n",
            "          (relu2): ReLU(inplace=True)\n",
            "          (conv2): Conv2d(128, 32, kernel_size=(3, 3), stride=(1, 1), padding=(1, 1), bias=False)\n",
            "        )\n",
            "      )\n",
            "      (denselayer5): _DenseLayer(\n",
            "        (layers): Sequential(\n",
            "          (norm1): BatchNorm2d(256, eps=1e-05, momentum=0.1, affine=True, track_running_stats=True)\n",
            "          (relu1): ReLU(inplace=True)\n",
            "          (conv1): Conv2d(256, 128, kernel_size=(1, 1), stride=(1, 1), bias=False)\n",
            "          (norm2): BatchNorm2d(128, eps=1e-05, momentum=0.1, affine=True, track_running_stats=True)\n",
            "          (relu2): ReLU(inplace=True)\n",
            "          (conv2): Conv2d(128, 32, kernel_size=(3, 3), stride=(1, 1), padding=(1, 1), bias=False)\n",
            "        )\n",
            "      )\n",
            "      (denselayer6): _DenseLayer(\n",
            "        (layers): Sequential(\n",
            "          (norm1): BatchNorm2d(288, eps=1e-05, momentum=0.1, affine=True, track_running_stats=True)\n",
            "          (relu1): ReLU(inplace=True)\n",
            "          (conv1): Conv2d(288, 128, kernel_size=(1, 1), stride=(1, 1), bias=False)\n",
            "          (norm2): BatchNorm2d(128, eps=1e-05, momentum=0.1, affine=True, track_running_stats=True)\n",
            "          (relu2): ReLU(inplace=True)\n",
            "          (conv2): Conv2d(128, 32, kernel_size=(3, 3), stride=(1, 1), padding=(1, 1), bias=False)\n",
            "        )\n",
            "      )\n",
            "      (denselayer7): _DenseLayer(\n",
            "        (layers): Sequential(\n",
            "          (norm1): BatchNorm2d(320, eps=1e-05, momentum=0.1, affine=True, track_running_stats=True)\n",
            "          (relu1): ReLU(inplace=True)\n",
            "          (conv1): Conv2d(320, 128, kernel_size=(1, 1), stride=(1, 1), bias=False)\n",
            "          (norm2): BatchNorm2d(128, eps=1e-05, momentum=0.1, affine=True, track_running_stats=True)\n",
            "          (relu2): ReLU(inplace=True)\n",
            "          (conv2): Conv2d(128, 32, kernel_size=(3, 3), stride=(1, 1), padding=(1, 1), bias=False)\n",
            "        )\n",
            "      )\n",
            "      (denselayer8): _DenseLayer(\n",
            "        (layers): Sequential(\n",
            "          (norm1): BatchNorm2d(352, eps=1e-05, momentum=0.1, affine=True, track_running_stats=True)\n",
            "          (relu1): ReLU(inplace=True)\n",
            "          (conv1): Conv2d(352, 128, kernel_size=(1, 1), stride=(1, 1), bias=False)\n",
            "          (norm2): BatchNorm2d(128, eps=1e-05, momentum=0.1, affine=True, track_running_stats=True)\n",
            "          (relu2): ReLU(inplace=True)\n",
            "          (conv2): Conv2d(128, 32, kernel_size=(3, 3), stride=(1, 1), padding=(1, 1), bias=False)\n",
            "        )\n",
            "      )\n",
            "      (denselayer9): _DenseLayer(\n",
            "        (layers): Sequential(\n",
            "          (norm1): BatchNorm2d(384, eps=1e-05, momentum=0.1, affine=True, track_running_stats=True)\n",
            "          (relu1): ReLU(inplace=True)\n",
            "          (conv1): Conv2d(384, 128, kernel_size=(1, 1), stride=(1, 1), bias=False)\n",
            "          (norm2): BatchNorm2d(128, eps=1e-05, momentum=0.1, affine=True, track_running_stats=True)\n",
            "          (relu2): ReLU(inplace=True)\n",
            "          (conv2): Conv2d(128, 32, kernel_size=(3, 3), stride=(1, 1), padding=(1, 1), bias=False)\n",
            "        )\n",
            "      )\n",
            "      (denselayer10): _DenseLayer(\n",
            "        (layers): Sequential(\n",
            "          (norm1): BatchNorm2d(416, eps=1e-05, momentum=0.1, affine=True, track_running_stats=True)\n",
            "          (relu1): ReLU(inplace=True)\n",
            "          (conv1): Conv2d(416, 128, kernel_size=(1, 1), stride=(1, 1), bias=False)\n",
            "          (norm2): BatchNorm2d(128, eps=1e-05, momentum=0.1, affine=True, track_running_stats=True)\n",
            "          (relu2): ReLU(inplace=True)\n",
            "          (conv2): Conv2d(128, 32, kernel_size=(3, 3), stride=(1, 1), padding=(1, 1), bias=False)\n",
            "        )\n",
            "      )\n",
            "      (denselayer11): _DenseLayer(\n",
            "        (layers): Sequential(\n",
            "          (norm1): BatchNorm2d(448, eps=1e-05, momentum=0.1, affine=True, track_running_stats=True)\n",
            "          (relu1): ReLU(inplace=True)\n",
            "          (conv1): Conv2d(448, 128, kernel_size=(1, 1), stride=(1, 1), bias=False)\n",
            "          (norm2): BatchNorm2d(128, eps=1e-05, momentum=0.1, affine=True, track_running_stats=True)\n",
            "          (relu2): ReLU(inplace=True)\n",
            "          (conv2): Conv2d(128, 32, kernel_size=(3, 3), stride=(1, 1), padding=(1, 1), bias=False)\n",
            "        )\n",
            "      )\n",
            "      (denselayer12): _DenseLayer(\n",
            "        (layers): Sequential(\n",
            "          (norm1): BatchNorm2d(480, eps=1e-05, momentum=0.1, affine=True, track_running_stats=True)\n",
            "          (relu1): ReLU(inplace=True)\n",
            "          (conv1): Conv2d(480, 128, kernel_size=(1, 1), stride=(1, 1), bias=False)\n",
            "          (norm2): BatchNorm2d(128, eps=1e-05, momentum=0.1, affine=True, track_running_stats=True)\n",
            "          (relu2): ReLU(inplace=True)\n",
            "          (conv2): Conv2d(128, 32, kernel_size=(3, 3), stride=(1, 1), padding=(1, 1), bias=False)\n",
            "        )\n",
            "      )\n",
            "    )\n",
            "    (transition2): _Transition(\n",
            "      (norm): BatchNorm2d(512, eps=1e-05, momentum=0.1, affine=True, track_running_stats=True)\n",
            "      (relu): ReLU(inplace=True)\n",
            "      (conv): Conv2d(512, 256, kernel_size=(1, 1), stride=(1, 1), bias=False)\n",
            "      (pool): AvgPool2d(kernel_size=2, stride=2, padding=0)\n",
            "    )\n",
            "    (denseblock3): _DenseBlock(\n",
            "      (denselayer1): _DenseLayer(\n",
            "        (layers): Sequential(\n",
            "          (norm1): BatchNorm2d(256, eps=1e-05, momentum=0.1, affine=True, track_running_stats=True)\n",
            "          (relu1): ReLU(inplace=True)\n",
            "          (conv1): Conv2d(256, 128, kernel_size=(1, 1), stride=(1, 1), bias=False)\n",
            "          (norm2): BatchNorm2d(128, eps=1e-05, momentum=0.1, affine=True, track_running_stats=True)\n",
            "          (relu2): ReLU(inplace=True)\n",
            "          (conv2): Conv2d(128, 32, kernel_size=(3, 3), stride=(1, 1), padding=(1, 1), bias=False)\n",
            "        )\n",
            "      )\n",
            "      (denselayer2): _DenseLayer(\n",
            "        (layers): Sequential(\n",
            "          (norm1): BatchNorm2d(288, eps=1e-05, momentum=0.1, affine=True, track_running_stats=True)\n",
            "          (relu1): ReLU(inplace=True)\n",
            "          (conv1): Conv2d(288, 128, kernel_size=(1, 1), stride=(1, 1), bias=False)\n",
            "          (norm2): BatchNorm2d(128, eps=1e-05, momentum=0.1, affine=True, track_running_stats=True)\n",
            "          (relu2): ReLU(inplace=True)\n",
            "          (conv2): Conv2d(128, 32, kernel_size=(3, 3), stride=(1, 1), padding=(1, 1), bias=False)\n",
            "        )\n",
            "      )\n",
            "      (denselayer3): _DenseLayer(\n",
            "        (layers): Sequential(\n",
            "          (norm1): BatchNorm2d(320, eps=1e-05, momentum=0.1, affine=True, track_running_stats=True)\n",
            "          (relu1): ReLU(inplace=True)\n",
            "          (conv1): Conv2d(320, 128, kernel_size=(1, 1), stride=(1, 1), bias=False)\n",
            "          (norm2): BatchNorm2d(128, eps=1e-05, momentum=0.1, affine=True, track_running_stats=True)\n",
            "          (relu2): ReLU(inplace=True)\n",
            "          (conv2): Conv2d(128, 32, kernel_size=(3, 3), stride=(1, 1), padding=(1, 1), bias=False)\n",
            "        )\n",
            "      )\n",
            "      (denselayer4): _DenseLayer(\n",
            "        (layers): Sequential(\n",
            "          (norm1): BatchNorm2d(352, eps=1e-05, momentum=0.1, affine=True, track_running_stats=True)\n",
            "          (relu1): ReLU(inplace=True)\n",
            "          (conv1): Conv2d(352, 128, kernel_size=(1, 1), stride=(1, 1), bias=False)\n",
            "          (norm2): BatchNorm2d(128, eps=1e-05, momentum=0.1, affine=True, track_running_stats=True)\n",
            "          (relu2): ReLU(inplace=True)\n",
            "          (conv2): Conv2d(128, 32, kernel_size=(3, 3), stride=(1, 1), padding=(1, 1), bias=False)\n",
            "        )\n",
            "      )\n",
            "      (denselayer5): _DenseLayer(\n",
            "        (layers): Sequential(\n",
            "          (norm1): BatchNorm2d(384, eps=1e-05, momentum=0.1, affine=True, track_running_stats=True)\n",
            "          (relu1): ReLU(inplace=True)\n",
            "          (conv1): Conv2d(384, 128, kernel_size=(1, 1), stride=(1, 1), bias=False)\n",
            "          (norm2): BatchNorm2d(128, eps=1e-05, momentum=0.1, affine=True, track_running_stats=True)\n",
            "          (relu2): ReLU(inplace=True)\n",
            "          (conv2): Conv2d(128, 32, kernel_size=(3, 3), stride=(1, 1), padding=(1, 1), bias=False)\n",
            "        )\n",
            "      )\n",
            "      (denselayer6): _DenseLayer(\n",
            "        (layers): Sequential(\n",
            "          (norm1): BatchNorm2d(416, eps=1e-05, momentum=0.1, affine=True, track_running_stats=True)\n",
            "          (relu1): ReLU(inplace=True)\n",
            "          (conv1): Conv2d(416, 128, kernel_size=(1, 1), stride=(1, 1), bias=False)\n",
            "          (norm2): BatchNorm2d(128, eps=1e-05, momentum=0.1, affine=True, track_running_stats=True)\n",
            "          (relu2): ReLU(inplace=True)\n",
            "          (conv2): Conv2d(128, 32, kernel_size=(3, 3), stride=(1, 1), padding=(1, 1), bias=False)\n",
            "        )\n",
            "      )\n",
            "      (denselayer7): _DenseLayer(\n",
            "        (layers): Sequential(\n",
            "          (norm1): BatchNorm2d(448, eps=1e-05, momentum=0.1, affine=True, track_running_stats=True)\n",
            "          (relu1): ReLU(inplace=True)\n",
            "          (conv1): Conv2d(448, 128, kernel_size=(1, 1), stride=(1, 1), bias=False)\n",
            "          (norm2): BatchNorm2d(128, eps=1e-05, momentum=0.1, affine=True, track_running_stats=True)\n",
            "          (relu2): ReLU(inplace=True)\n",
            "          (conv2): Conv2d(128, 32, kernel_size=(3, 3), stride=(1, 1), padding=(1, 1), bias=False)\n",
            "        )\n",
            "      )\n",
            "      (denselayer8): _DenseLayer(\n",
            "        (layers): Sequential(\n",
            "          (norm1): BatchNorm2d(480, eps=1e-05, momentum=0.1, affine=True, track_running_stats=True)\n",
            "          (relu1): ReLU(inplace=True)\n",
            "          (conv1): Conv2d(480, 128, kernel_size=(1, 1), stride=(1, 1), bias=False)\n",
            "          (norm2): BatchNorm2d(128, eps=1e-05, momentum=0.1, affine=True, track_running_stats=True)\n",
            "          (relu2): ReLU(inplace=True)\n",
            "          (conv2): Conv2d(128, 32, kernel_size=(3, 3), stride=(1, 1), padding=(1, 1), bias=False)\n",
            "        )\n",
            "      )\n",
            "      (denselayer9): _DenseLayer(\n",
            "        (layers): Sequential(\n",
            "          (norm1): BatchNorm2d(512, eps=1e-05, momentum=0.1, affine=True, track_running_stats=True)\n",
            "          (relu1): ReLU(inplace=True)\n",
            "          (conv1): Conv2d(512, 128, kernel_size=(1, 1), stride=(1, 1), bias=False)\n",
            "          (norm2): BatchNorm2d(128, eps=1e-05, momentum=0.1, affine=True, track_running_stats=True)\n",
            "          (relu2): ReLU(inplace=True)\n",
            "          (conv2): Conv2d(128, 32, kernel_size=(3, 3), stride=(1, 1), padding=(1, 1), bias=False)\n",
            "        )\n",
            "      )\n",
            "      (denselayer10): _DenseLayer(\n",
            "        (layers): Sequential(\n",
            "          (norm1): BatchNorm2d(544, eps=1e-05, momentum=0.1, affine=True, track_running_stats=True)\n",
            "          (relu1): ReLU(inplace=True)\n",
            "          (conv1): Conv2d(544, 128, kernel_size=(1, 1), stride=(1, 1), bias=False)\n",
            "          (norm2): BatchNorm2d(128, eps=1e-05, momentum=0.1, affine=True, track_running_stats=True)\n",
            "          (relu2): ReLU(inplace=True)\n",
            "          (conv2): Conv2d(128, 32, kernel_size=(3, 3), stride=(1, 1), padding=(1, 1), bias=False)\n",
            "        )\n",
            "      )\n",
            "      (denselayer11): _DenseLayer(\n",
            "        (layers): Sequential(\n",
            "          (norm1): BatchNorm2d(576, eps=1e-05, momentum=0.1, affine=True, track_running_stats=True)\n",
            "          (relu1): ReLU(inplace=True)\n",
            "          (conv1): Conv2d(576, 128, kernel_size=(1, 1), stride=(1, 1), bias=False)\n",
            "          (norm2): BatchNorm2d(128, eps=1e-05, momentum=0.1, affine=True, track_running_stats=True)\n",
            "          (relu2): ReLU(inplace=True)\n",
            "          (conv2): Conv2d(128, 32, kernel_size=(3, 3), stride=(1, 1), padding=(1, 1), bias=False)\n",
            "        )\n",
            "      )\n",
            "      (denselayer12): _DenseLayer(\n",
            "        (layers): Sequential(\n",
            "          (norm1): BatchNorm2d(608, eps=1e-05, momentum=0.1, affine=True, track_running_stats=True)\n",
            "          (relu1): ReLU(inplace=True)\n",
            "          (conv1): Conv2d(608, 128, kernel_size=(1, 1), stride=(1, 1), bias=False)\n",
            "          (norm2): BatchNorm2d(128, eps=1e-05, momentum=0.1, affine=True, track_running_stats=True)\n",
            "          (relu2): ReLU(inplace=True)\n",
            "          (conv2): Conv2d(128, 32, kernel_size=(3, 3), stride=(1, 1), padding=(1, 1), bias=False)\n",
            "        )\n",
            "      )\n",
            "      (denselayer13): _DenseLayer(\n",
            "        (layers): Sequential(\n",
            "          (norm1): BatchNorm2d(640, eps=1e-05, momentum=0.1, affine=True, track_running_stats=True)\n",
            "          (relu1): ReLU(inplace=True)\n",
            "          (conv1): Conv2d(640, 128, kernel_size=(1, 1), stride=(1, 1), bias=False)\n",
            "          (norm2): BatchNorm2d(128, eps=1e-05, momentum=0.1, affine=True, track_running_stats=True)\n",
            "          (relu2): ReLU(inplace=True)\n",
            "          (conv2): Conv2d(128, 32, kernel_size=(3, 3), stride=(1, 1), padding=(1, 1), bias=False)\n",
            "        )\n",
            "      )\n",
            "      (denselayer14): _DenseLayer(\n",
            "        (layers): Sequential(\n",
            "          (norm1): BatchNorm2d(672, eps=1e-05, momentum=0.1, affine=True, track_running_stats=True)\n",
            "          (relu1): ReLU(inplace=True)\n",
            "          (conv1): Conv2d(672, 128, kernel_size=(1, 1), stride=(1, 1), bias=False)\n",
            "          (norm2): BatchNorm2d(128, eps=1e-05, momentum=0.1, affine=True, track_running_stats=True)\n",
            "          (relu2): ReLU(inplace=True)\n",
            "          (conv2): Conv2d(128, 32, kernel_size=(3, 3), stride=(1, 1), padding=(1, 1), bias=False)\n",
            "        )\n",
            "      )\n",
            "      (denselayer15): _DenseLayer(\n",
            "        (layers): Sequential(\n",
            "          (norm1): BatchNorm2d(704, eps=1e-05, momentum=0.1, affine=True, track_running_stats=True)\n",
            "          (relu1): ReLU(inplace=True)\n",
            "          (conv1): Conv2d(704, 128, kernel_size=(1, 1), stride=(1, 1), bias=False)\n",
            "          (norm2): BatchNorm2d(128, eps=1e-05, momentum=0.1, affine=True, track_running_stats=True)\n",
            "          (relu2): ReLU(inplace=True)\n",
            "          (conv2): Conv2d(128, 32, kernel_size=(3, 3), stride=(1, 1), padding=(1, 1), bias=False)\n",
            "        )\n",
            "      )\n",
            "      (denselayer16): _DenseLayer(\n",
            "        (layers): Sequential(\n",
            "          (norm1): BatchNorm2d(736, eps=1e-05, momentum=0.1, affine=True, track_running_stats=True)\n",
            "          (relu1): ReLU(inplace=True)\n",
            "          (conv1): Conv2d(736, 128, kernel_size=(1, 1), stride=(1, 1), bias=False)\n",
            "          (norm2): BatchNorm2d(128, eps=1e-05, momentum=0.1, affine=True, track_running_stats=True)\n",
            "          (relu2): ReLU(inplace=True)\n",
            "          (conv2): Conv2d(128, 32, kernel_size=(3, 3), stride=(1, 1), padding=(1, 1), bias=False)\n",
            "        )\n",
            "      )\n",
            "      (denselayer17): _DenseLayer(\n",
            "        (layers): Sequential(\n",
            "          (norm1): BatchNorm2d(768, eps=1e-05, momentum=0.1, affine=True, track_running_stats=True)\n",
            "          (relu1): ReLU(inplace=True)\n",
            "          (conv1): Conv2d(768, 128, kernel_size=(1, 1), stride=(1, 1), bias=False)\n",
            "          (norm2): BatchNorm2d(128, eps=1e-05, momentum=0.1, affine=True, track_running_stats=True)\n",
            "          (relu2): ReLU(inplace=True)\n",
            "          (conv2): Conv2d(128, 32, kernel_size=(3, 3), stride=(1, 1), padding=(1, 1), bias=False)\n",
            "        )\n",
            "      )\n",
            "      (denselayer18): _DenseLayer(\n",
            "        (layers): Sequential(\n",
            "          (norm1): BatchNorm2d(800, eps=1e-05, momentum=0.1, affine=True, track_running_stats=True)\n",
            "          (relu1): ReLU(inplace=True)\n",
            "          (conv1): Conv2d(800, 128, kernel_size=(1, 1), stride=(1, 1), bias=False)\n",
            "          (norm2): BatchNorm2d(128, eps=1e-05, momentum=0.1, affine=True, track_running_stats=True)\n",
            "          (relu2): ReLU(inplace=True)\n",
            "          (conv2): Conv2d(128, 32, kernel_size=(3, 3), stride=(1, 1), padding=(1, 1), bias=False)\n",
            "        )\n",
            "      )\n",
            "      (denselayer19): _DenseLayer(\n",
            "        (layers): Sequential(\n",
            "          (norm1): BatchNorm2d(832, eps=1e-05, momentum=0.1, affine=True, track_running_stats=True)\n",
            "          (relu1): ReLU(inplace=True)\n",
            "          (conv1): Conv2d(832, 128, kernel_size=(1, 1), stride=(1, 1), bias=False)\n",
            "          (norm2): BatchNorm2d(128, eps=1e-05, momentum=0.1, affine=True, track_running_stats=True)\n",
            "          (relu2): ReLU(inplace=True)\n",
            "          (conv2): Conv2d(128, 32, kernel_size=(3, 3), stride=(1, 1), padding=(1, 1), bias=False)\n",
            "        )\n",
            "      )\n",
            "      (denselayer20): _DenseLayer(\n",
            "        (layers): Sequential(\n",
            "          (norm1): BatchNorm2d(864, eps=1e-05, momentum=0.1, affine=True, track_running_stats=True)\n",
            "          (relu1): ReLU(inplace=True)\n",
            "          (conv1): Conv2d(864, 128, kernel_size=(1, 1), stride=(1, 1), bias=False)\n",
            "          (norm2): BatchNorm2d(128, eps=1e-05, momentum=0.1, affine=True, track_running_stats=True)\n",
            "          (relu2): ReLU(inplace=True)\n",
            "          (conv2): Conv2d(128, 32, kernel_size=(3, 3), stride=(1, 1), padding=(1, 1), bias=False)\n",
            "        )\n",
            "      )\n",
            "      (denselayer21): _DenseLayer(\n",
            "        (layers): Sequential(\n",
            "          (norm1): BatchNorm2d(896, eps=1e-05, momentum=0.1, affine=True, track_running_stats=True)\n",
            "          (relu1): ReLU(inplace=True)\n",
            "          (conv1): Conv2d(896, 128, kernel_size=(1, 1), stride=(1, 1), bias=False)\n",
            "          (norm2): BatchNorm2d(128, eps=1e-05, momentum=0.1, affine=True, track_running_stats=True)\n",
            "          (relu2): ReLU(inplace=True)\n",
            "          (conv2): Conv2d(128, 32, kernel_size=(3, 3), stride=(1, 1), padding=(1, 1), bias=False)\n",
            "        )\n",
            "      )\n",
            "      (denselayer22): _DenseLayer(\n",
            "        (layers): Sequential(\n",
            "          (norm1): BatchNorm2d(928, eps=1e-05, momentum=0.1, affine=True, track_running_stats=True)\n",
            "          (relu1): ReLU(inplace=True)\n",
            "          (conv1): Conv2d(928, 128, kernel_size=(1, 1), stride=(1, 1), bias=False)\n",
            "          (norm2): BatchNorm2d(128, eps=1e-05, momentum=0.1, affine=True, track_running_stats=True)\n",
            "          (relu2): ReLU(inplace=True)\n",
            "          (conv2): Conv2d(128, 32, kernel_size=(3, 3), stride=(1, 1), padding=(1, 1), bias=False)\n",
            "        )\n",
            "      )\n",
            "      (denselayer23): _DenseLayer(\n",
            "        (layers): Sequential(\n",
            "          (norm1): BatchNorm2d(960, eps=1e-05, momentum=0.1, affine=True, track_running_stats=True)\n",
            "          (relu1): ReLU(inplace=True)\n",
            "          (conv1): Conv2d(960, 128, kernel_size=(1, 1), stride=(1, 1), bias=False)\n",
            "          (norm2): BatchNorm2d(128, eps=1e-05, momentum=0.1, affine=True, track_running_stats=True)\n",
            "          (relu2): ReLU(inplace=True)\n",
            "          (conv2): Conv2d(128, 32, kernel_size=(3, 3), stride=(1, 1), padding=(1, 1), bias=False)\n",
            "        )\n",
            "      )\n",
            "      (denselayer24): _DenseLayer(\n",
            "        (layers): Sequential(\n",
            "          (norm1): BatchNorm2d(992, eps=1e-05, momentum=0.1, affine=True, track_running_stats=True)\n",
            "          (relu1): ReLU(inplace=True)\n",
            "          (conv1): Conv2d(992, 128, kernel_size=(1, 1), stride=(1, 1), bias=False)\n",
            "          (norm2): BatchNorm2d(128, eps=1e-05, momentum=0.1, affine=True, track_running_stats=True)\n",
            "          (relu2): ReLU(inplace=True)\n",
            "          (conv2): Conv2d(128, 32, kernel_size=(3, 3), stride=(1, 1), padding=(1, 1), bias=False)\n",
            "        )\n",
            "      )\n",
            "    )\n",
            "    (transition3): _Transition(\n",
            "      (norm): BatchNorm2d(1024, eps=1e-05, momentum=0.1, affine=True, track_running_stats=True)\n",
            "      (relu): ReLU(inplace=True)\n",
            "      (conv): Conv2d(1024, 512, kernel_size=(1, 1), stride=(1, 1), bias=False)\n",
            "      (pool): AvgPool2d(kernel_size=2, stride=2, padding=0)\n",
            "    )\n",
            "    (denseblock4): _DenseBlock(\n",
            "      (denselayer1): _DenseLayer(\n",
            "        (layers): Sequential(\n",
            "          (norm1): BatchNorm2d(512, eps=1e-05, momentum=0.1, affine=True, track_running_stats=True)\n",
            "          (relu1): ReLU(inplace=True)\n",
            "          (conv1): Conv2d(512, 128, kernel_size=(1, 1), stride=(1, 1), bias=False)\n",
            "          (norm2): BatchNorm2d(128, eps=1e-05, momentum=0.1, affine=True, track_running_stats=True)\n",
            "          (relu2): ReLU(inplace=True)\n",
            "          (conv2): Conv2d(128, 32, kernel_size=(3, 3), stride=(1, 1), padding=(1, 1), bias=False)\n",
            "        )\n",
            "      )\n",
            "      (denselayer2): _DenseLayer(\n",
            "        (layers): Sequential(\n",
            "          (norm1): BatchNorm2d(544, eps=1e-05, momentum=0.1, affine=True, track_running_stats=True)\n",
            "          (relu1): ReLU(inplace=True)\n",
            "          (conv1): Conv2d(544, 128, kernel_size=(1, 1), stride=(1, 1), bias=False)\n",
            "          (norm2): BatchNorm2d(128, eps=1e-05, momentum=0.1, affine=True, track_running_stats=True)\n",
            "          (relu2): ReLU(inplace=True)\n",
            "          (conv2): Conv2d(128, 32, kernel_size=(3, 3), stride=(1, 1), padding=(1, 1), bias=False)\n",
            "        )\n",
            "      )\n",
            "      (denselayer3): _DenseLayer(\n",
            "        (layers): Sequential(\n",
            "          (norm1): BatchNorm2d(576, eps=1e-05, momentum=0.1, affine=True, track_running_stats=True)\n",
            "          (relu1): ReLU(inplace=True)\n",
            "          (conv1): Conv2d(576, 128, kernel_size=(1, 1), stride=(1, 1), bias=False)\n",
            "          (norm2): BatchNorm2d(128, eps=1e-05, momentum=0.1, affine=True, track_running_stats=True)\n",
            "          (relu2): ReLU(inplace=True)\n",
            "          (conv2): Conv2d(128, 32, kernel_size=(3, 3), stride=(1, 1), padding=(1, 1), bias=False)\n",
            "        )\n",
            "      )\n",
            "      (denselayer4): _DenseLayer(\n",
            "        (layers): Sequential(\n",
            "          (norm1): BatchNorm2d(608, eps=1e-05, momentum=0.1, affine=True, track_running_stats=True)\n",
            "          (relu1): ReLU(inplace=True)\n",
            "          (conv1): Conv2d(608, 128, kernel_size=(1, 1), stride=(1, 1), bias=False)\n",
            "          (norm2): BatchNorm2d(128, eps=1e-05, momentum=0.1, affine=True, track_running_stats=True)\n",
            "          (relu2): ReLU(inplace=True)\n",
            "          (conv2): Conv2d(128, 32, kernel_size=(3, 3), stride=(1, 1), padding=(1, 1), bias=False)\n",
            "        )\n",
            "      )\n",
            "      (denselayer5): _DenseLayer(\n",
            "        (layers): Sequential(\n",
            "          (norm1): BatchNorm2d(640, eps=1e-05, momentum=0.1, affine=True, track_running_stats=True)\n",
            "          (relu1): ReLU(inplace=True)\n",
            "          (conv1): Conv2d(640, 128, kernel_size=(1, 1), stride=(1, 1), bias=False)\n",
            "          (norm2): BatchNorm2d(128, eps=1e-05, momentum=0.1, affine=True, track_running_stats=True)\n",
            "          (relu2): ReLU(inplace=True)\n",
            "          (conv2): Conv2d(128, 32, kernel_size=(3, 3), stride=(1, 1), padding=(1, 1), bias=False)\n",
            "        )\n",
            "      )\n",
            "      (denselayer6): _DenseLayer(\n",
            "        (layers): Sequential(\n",
            "          (norm1): BatchNorm2d(672, eps=1e-05, momentum=0.1, affine=True, track_running_stats=True)\n",
            "          (relu1): ReLU(inplace=True)\n",
            "          (conv1): Conv2d(672, 128, kernel_size=(1, 1), stride=(1, 1), bias=False)\n",
            "          (norm2): BatchNorm2d(128, eps=1e-05, momentum=0.1, affine=True, track_running_stats=True)\n",
            "          (relu2): ReLU(inplace=True)\n",
            "          (conv2): Conv2d(128, 32, kernel_size=(3, 3), stride=(1, 1), padding=(1, 1), bias=False)\n",
            "        )\n",
            "      )\n",
            "      (denselayer7): _DenseLayer(\n",
            "        (layers): Sequential(\n",
            "          (norm1): BatchNorm2d(704, eps=1e-05, momentum=0.1, affine=True, track_running_stats=True)\n",
            "          (relu1): ReLU(inplace=True)\n",
            "          (conv1): Conv2d(704, 128, kernel_size=(1, 1), stride=(1, 1), bias=False)\n",
            "          (norm2): BatchNorm2d(128, eps=1e-05, momentum=0.1, affine=True, track_running_stats=True)\n",
            "          (relu2): ReLU(inplace=True)\n",
            "          (conv2): Conv2d(128, 32, kernel_size=(3, 3), stride=(1, 1), padding=(1, 1), bias=False)\n",
            "        )\n",
            "      )\n",
            "      (denselayer8): _DenseLayer(\n",
            "        (layers): Sequential(\n",
            "          (norm1): BatchNorm2d(736, eps=1e-05, momentum=0.1, affine=True, track_running_stats=True)\n",
            "          (relu1): ReLU(inplace=True)\n",
            "          (conv1): Conv2d(736, 128, kernel_size=(1, 1), stride=(1, 1), bias=False)\n",
            "          (norm2): BatchNorm2d(128, eps=1e-05, momentum=0.1, affine=True, track_running_stats=True)\n",
            "          (relu2): ReLU(inplace=True)\n",
            "          (conv2): Conv2d(128, 32, kernel_size=(3, 3), stride=(1, 1), padding=(1, 1), bias=False)\n",
            "        )\n",
            "      )\n",
            "      (denselayer9): _DenseLayer(\n",
            "        (layers): Sequential(\n",
            "          (norm1): BatchNorm2d(768, eps=1e-05, momentum=0.1, affine=True, track_running_stats=True)\n",
            "          (relu1): ReLU(inplace=True)\n",
            "          (conv1): Conv2d(768, 128, kernel_size=(1, 1), stride=(1, 1), bias=False)\n",
            "          (norm2): BatchNorm2d(128, eps=1e-05, momentum=0.1, affine=True, track_running_stats=True)\n",
            "          (relu2): ReLU(inplace=True)\n",
            "          (conv2): Conv2d(128, 32, kernel_size=(3, 3), stride=(1, 1), padding=(1, 1), bias=False)\n",
            "        )\n",
            "      )\n",
            "      (denselayer10): _DenseLayer(\n",
            "        (layers): Sequential(\n",
            "          (norm1): BatchNorm2d(800, eps=1e-05, momentum=0.1, affine=True, track_running_stats=True)\n",
            "          (relu1): ReLU(inplace=True)\n",
            "          (conv1): Conv2d(800, 128, kernel_size=(1, 1), stride=(1, 1), bias=False)\n",
            "          (norm2): BatchNorm2d(128, eps=1e-05, momentum=0.1, affine=True, track_running_stats=True)\n",
            "          (relu2): ReLU(inplace=True)\n",
            "          (conv2): Conv2d(128, 32, kernel_size=(3, 3), stride=(1, 1), padding=(1, 1), bias=False)\n",
            "        )\n",
            "      )\n",
            "      (denselayer11): _DenseLayer(\n",
            "        (layers): Sequential(\n",
            "          (norm1): BatchNorm2d(832, eps=1e-05, momentum=0.1, affine=True, track_running_stats=True)\n",
            "          (relu1): ReLU(inplace=True)\n",
            "          (conv1): Conv2d(832, 128, kernel_size=(1, 1), stride=(1, 1), bias=False)\n",
            "          (norm2): BatchNorm2d(128, eps=1e-05, momentum=0.1, affine=True, track_running_stats=True)\n",
            "          (relu2): ReLU(inplace=True)\n",
            "          (conv2): Conv2d(128, 32, kernel_size=(3, 3), stride=(1, 1), padding=(1, 1), bias=False)\n",
            "        )\n",
            "      )\n",
            "      (denselayer12): _DenseLayer(\n",
            "        (layers): Sequential(\n",
            "          (norm1): BatchNorm2d(864, eps=1e-05, momentum=0.1, affine=True, track_running_stats=True)\n",
            "          (relu1): ReLU(inplace=True)\n",
            "          (conv1): Conv2d(864, 128, kernel_size=(1, 1), stride=(1, 1), bias=False)\n",
            "          (norm2): BatchNorm2d(128, eps=1e-05, momentum=0.1, affine=True, track_running_stats=True)\n",
            "          (relu2): ReLU(inplace=True)\n",
            "          (conv2): Conv2d(128, 32, kernel_size=(3, 3), stride=(1, 1), padding=(1, 1), bias=False)\n",
            "        )\n",
            "      )\n",
            "      (denselayer13): _DenseLayer(\n",
            "        (layers): Sequential(\n",
            "          (norm1): BatchNorm2d(896, eps=1e-05, momentum=0.1, affine=True, track_running_stats=True)\n",
            "          (relu1): ReLU(inplace=True)\n",
            "          (conv1): Conv2d(896, 128, kernel_size=(1, 1), stride=(1, 1), bias=False)\n",
            "          (norm2): BatchNorm2d(128, eps=1e-05, momentum=0.1, affine=True, track_running_stats=True)\n",
            "          (relu2): ReLU(inplace=True)\n",
            "          (conv2): Conv2d(128, 32, kernel_size=(3, 3), stride=(1, 1), padding=(1, 1), bias=False)\n",
            "        )\n",
            "      )\n",
            "      (denselayer14): _DenseLayer(\n",
            "        (layers): Sequential(\n",
            "          (norm1): BatchNorm2d(928, eps=1e-05, momentum=0.1, affine=True, track_running_stats=True)\n",
            "          (relu1): ReLU(inplace=True)\n",
            "          (conv1): Conv2d(928, 128, kernel_size=(1, 1), stride=(1, 1), bias=False)\n",
            "          (norm2): BatchNorm2d(128, eps=1e-05, momentum=0.1, affine=True, track_running_stats=True)\n",
            "          (relu2): ReLU(inplace=True)\n",
            "          (conv2): Conv2d(128, 32, kernel_size=(3, 3), stride=(1, 1), padding=(1, 1), bias=False)\n",
            "        )\n",
            "      )\n",
            "      (denselayer15): _DenseLayer(\n",
            "        (layers): Sequential(\n",
            "          (norm1): BatchNorm2d(960, eps=1e-05, momentum=0.1, affine=True, track_running_stats=True)\n",
            "          (relu1): ReLU(inplace=True)\n",
            "          (conv1): Conv2d(960, 128, kernel_size=(1, 1), stride=(1, 1), bias=False)\n",
            "          (norm2): BatchNorm2d(128, eps=1e-05, momentum=0.1, affine=True, track_running_stats=True)\n",
            "          (relu2): ReLU(inplace=True)\n",
            "          (conv2): Conv2d(128, 32, kernel_size=(3, 3), stride=(1, 1), padding=(1, 1), bias=False)\n",
            "        )\n",
            "      )\n",
            "      (denselayer16): _DenseLayer(\n",
            "        (layers): Sequential(\n",
            "          (norm1): BatchNorm2d(992, eps=1e-05, momentum=0.1, affine=True, track_running_stats=True)\n",
            "          (relu1): ReLU(inplace=True)\n",
            "          (conv1): Conv2d(992, 128, kernel_size=(1, 1), stride=(1, 1), bias=False)\n",
            "          (norm2): BatchNorm2d(128, eps=1e-05, momentum=0.1, affine=True, track_running_stats=True)\n",
            "          (relu2): ReLU(inplace=True)\n",
            "          (conv2): Conv2d(128, 32, kernel_size=(3, 3), stride=(1, 1), padding=(1, 1), bias=False)\n",
            "        )\n",
            "      )\n",
            "    )\n",
            "    (norm5): BatchNorm2d(1024, eps=1e-05, momentum=0.1, affine=True, track_running_stats=True)\n",
            "  )\n",
            "  (class_layers): Sequential(\n",
            "    (relu): ReLU(inplace=True)\n",
            "    (pool): AdaptiveAvgPool2d(output_size=1)\n",
            "    (flatten): Flatten(start_dim=1, end_dim=-1)\n",
            "    (out): Linear(in_features=1024, out_features=2, bias=True)\n",
            "  )\n",
            ")\n"
          ]
        }
      ]
    },
    {
      "cell_type": "markdown",
      "source": [
        "### Segmentation Models\n",
        "\n",
        "The image below shows an UNet architecture popular for medical image segmentation\n",
        "\n",
        "<center>\n",
        "<a href=\"https://arxiv.org/abs/1505.04597\">\n",
        "<img src=\"https://lmb.informatik.uni-freiburg.de/people/ronneber/u-net/u-net-architecture.png\"/>\n",
        "</a>\n",
        "</center>"
      ],
      "metadata": {
        "id": "jnYi9Bk0tmd6"
      }
    },
    {
      "cell_type": "code",
      "source": [
        "from monai.networks.nets import BasicUNet\n",
        "\n",
        "# Define the UNet model with specified parameters\n",
        "model = BasicUNet(\n",
        "    spatial_dims=2,\n",
        "    in_channels=1,\n",
        "    out_channels=1,\n",
        ")\n",
        "\n",
        "# print(model)\n"
      ],
      "metadata": {
        "colab": {
          "base_uri": "https://localhost:8080/"
        },
        "id": "wir_Mccsto2Y",
        "outputId": "6f763e71-eab9-410e-c015-425b0b39a0c0"
      },
      "execution_count": null,
      "outputs": [
        {
          "output_type": "stream",
          "name": "stdout",
          "text": [
            "BasicUNet features: (32, 32, 64, 128, 256, 32).\n"
          ]
        }
      ]
    },
    {
      "cell_type": "markdown",
      "source": [
        "## MONAI: Loss Functions\n",
        "\n",
        "- MONAI offers specialized loss functions like Dice Loss, Focal Loss, etc.,tailored for various medical image analysis tasks, including segmentation and classification.\n",
        "\n",
        "- syntax 1: ```loss_function=DiceLoss()```\n",
        "- syntax 2: ```loss = loss_function(output,label)```\n",
        "\n",
        "Visualizing Dice & IoU:\n",
        "<center>\n",
        "<a href=\"https://learnopencv.com/deep-learning-based-document-segmentation-using-semantic-segmentation-deeplabv3-on-custom-dataset/\">\n",
        "<img src=\"https://learnopencv.com/wp-content/uploads/2022/08/05-document-segmentation-IoU-Dice-concept.png\"/>\n",
        "</a>\n",
        "<center>\n",
        "\n",
        "\n"
      ],
      "metadata": {
        "id": "-njmf4dnucxV"
      }
    },
    {
      "cell_type": "code",
      "source": [
        "#Diceloss works well in segmentation tasks\n",
        "#Cross entropy works well in classification tasks\n",
        "\n",
        "import torch\n",
        "from monai.losses import GeneralizedDiceLoss, DiceCELoss, FocalLoss, DiceLoss\n",
        "\n",
        "# Create a random tensor of size 1, 1, 128, 128 of float32\n",
        "random_tensor = torch.randn(1, 1, 128, 128, dtype=torch.float32)\n",
        "\n",
        "# Create a target tensor (example: all zeros)\n",
        "target_tensor = torch.zeros(1, 1, 128, 128, dtype=torch.float32)\n",
        "\n",
        "\n",
        "#O/p=[1 (0.2) or 0 (0.6)] #[1]\n",
        "\n",
        "\n",
        "loss_function_monai = DiceCELoss(lambda_dice=0.0, lambda_ce=1.0)\n",
        "\n",
        "\n",
        "loss_monai = loss_function_monai(model_output, label)\n",
        "\n",
        "# Compute the loss using torch\n",
        "loss_torch = torch.nn.BCEWithLogitsLoss()(conv_output, image)\n",
        "\n",
        "print(f\"Loss with Torch: {loss_torch.item()} and loss with monai: {loss_monai.item()}\")"
      ],
      "metadata": {
        "colab": {
          "base_uri": "https://localhost:8080/"
        },
        "id": "n4AH9I3UvPo1",
        "outputId": "418e756a-96a5-43ca-e035-94565c62d5d9"
      },
      "execution_count": null,
      "outputs": [
        {
          "output_type": "stream",
          "name": "stdout",
          "text": [
            "Loss with Torch: 0.8047244548797607 and loss with monai: 0.8047244548797607\n"
          ]
        }
      ]
    },
    {
      "cell_type": "code",
      "source": [
        "class diceloss(torch.nn.Module):\n",
        "    def init(self):\n",
        "        super(diceLoss, self).init()\n",
        "    def forward(self,pred, target):\n",
        "       smooth = 10^-5\n",
        "       iflat = pred.contiguous().view(-1)\n",
        "       tflat = target.contiguous().view(-1)\n",
        "       intersection = (iflat * tflat).sum()\n",
        "       A_sum = torch.sum(iflat * iflat)\n",
        "       B_sum = torch.sum(tflat * tflat)\n",
        "       diceloss = 1-((2. * intersection + smooth) / (A_sum + B_sum + smooth) )\n",
        "       return diceloss"
      ],
      "metadata": {
        "id": "rukNxtUI2peu"
      },
      "execution_count": null,
      "outputs": []
    },
    {
      "cell_type": "code",
      "source": [
        "criterion=diceloss()\n",
        "loss_dice=criterion(target_tensor,target_tensor)\n",
        "loss_dice_monai = DiceLoss()\n",
        "diceloss_monai = loss_dice_monai(target_tensor,target_tensor)\n",
        "print(f\"Loss with Torch: {loss_dice.item()} and loss with monai: {diceloss_monai.item()}\")"
      ],
      "metadata": {
        "colab": {
          "base_uri": "https://localhost:8080/"
        },
        "id": "7a2Lob2h2rP1",
        "outputId": "aef12692-9037-4821-c7ab-7a5a5c32d68d"
      },
      "execution_count": null,
      "outputs": [
        {
          "output_type": "stream",
          "name": "stdout",
          "text": [
            "Loss with Torch: 0.0 and loss with monai: 0.0\n"
          ]
        }
      ]
    },
    {
      "cell_type": "markdown",
      "source": [
        "## MONAI DataLoader\n",
        "- MONAI's DataLoader efficiently handles loading and preprocessing medical image data\n",
        "- This streamlines the process of feeding data into your AI models for training or inference\n",
        "- syntax: ```DataLoader(dataset, batch_size=16, num_workers=2)```\n",
        "\n",
        "<center><img src=\"https://i.makeagif.com/media/11-13-2023/yY1wrp.gif\"/></center>\n"
      ],
      "metadata": {
        "id": "LPKwmuyz0DiR"
      }
    },
    {
      "cell_type": "code",
      "source": [
        "from monai.data import DataLoader\n",
        "\n",
        "# Create a DataLoader with specified parameters\n",
        "dataloader = DataLoader(dataset, batch_size=1, num_workers=1)\n",
        "\n",
        "# Iterate through the DataLoader to access data in batches\n",
        "for batch_data in dataloader:\n",
        "  # Access images and labels for the current batch\n",
        "  images = batch_data[\"image\"]\n",
        "  labels = batch_data[\"label\"]\n",
        "\n",
        "  # Now you can use 'images' and 'labels' for your model training\n",
        "\n",
        "  print(f\"Shape of images in a batch:{images.shape}\")\n",
        "  print(f\"Shape of labels in a batch:{labels.shape}\")\n",
        "  break # example: only processes one batch"
      ],
      "metadata": {
        "colab": {
          "base_uri": "https://localhost:8080/"
        },
        "id": "9-UGXAYK0_hd",
        "outputId": "6ed54f18-bdfb-4cd3-f627-23cedf39e239"
      },
      "execution_count": null,
      "outputs": [
        {
          "output_type": "stream",
          "name": "stdout",
          "text": [
            "Shape of images in a batch:torch.Size([1, 1, 1, 128, 128])\n",
            "Shape of labels in a batch:torch.Size([1, 1, 1, 128, 128])\n"
          ]
        }
      ]
    },
    {
      "cell_type": "markdown",
      "source": [
        "## Tasks\n",
        "\n",
        "Practicing these tasks will get you quickly acquianted with the concepts."
      ],
      "metadata": {
        "id": "0iCclEFp-GZu"
      }
    },
    {
      "cell_type": "markdown",
      "source": [
        "### Task1\n",
        "\n",
        "Create an array of 100 images with segmentation using ```create_test_image_2d```"
      ],
      "metadata": {
        "id": "CLbUyXR8_SsK"
      }
    },
    {
      "cell_type": "code",
      "source": [
        "from monai.data import create_test_image_2d\n",
        "img= []\n",
        "seg=[]\n",
        "for i in range(100):\n",
        "  image,label = create_test_image_2d(128, 128, num_seg_classes=2,rad_max=10,num_objs=5)\n",
        "  img.append(image)\n",
        "  seg.append(label)\n",
        "\n",
        "print(f\"The shape of the image: {img[0].shape}\")\n",
        "print(f\"The shape of the segmentation: {seg[0].shape}\")\n",
        "print(f\"The number of images in image list is: {len(img)}\")\n",
        "print(f\"The number of images in segmentation list is: {len(seg)}\")"
      ],
      "metadata": {
        "id": "iv-7LfM5-Idv",
        "colab": {
          "base_uri": "https://localhost:8080/"
        },
        "outputId": "30d59cb7-2227-437d-bfa7-06325b08932e"
      },
      "execution_count": null,
      "outputs": [
        {
          "output_type": "stream",
          "name": "stdout",
          "text": [
            "The shape of the image: (128, 128)\n",
            "The shape of the segmentation: (128, 128)\n",
            "The number of images in image list is: 100\n",
            "The number of images in segmentation list is: 100\n"
          ]
        }
      ]
    },
    {
      "cell_type": "markdown",
      "source": [
        "### Task2\n",
        "\n",
        "Create a DataLoader of a suitable size for loading the data, print its size and shape of the image"
      ],
      "metadata": {
        "id": "qpX8c5yD_V9g"
      }
    },
    {
      "cell_type": "code",
      "source": [
        "from monai.data import Dataset, DataLoader\n",
        "from monai.transforms import Compose, EnsureChannelFirstd, ToTensord, ScaleIntensityd\n",
        "\n",
        "# Create a list of dictionaries, where each dictionary represents a data sample.\n",
        "data_dictionary=[]\n",
        "for i in range(len(img)):\n",
        "  data_dictionary.append({\"image\": img[i], \"label\": seg[i]})\n",
        "\n",
        "transform=Compose([\n",
        "    EnsureChannelFirstd(keys=[\"image\",\"label\"],channel_dim=\"no_channel\"),  # Adds a channel dimension to the image and segmentation\n",
        "    ScaleIntensityd(keys=[\"image\"]),  # Scales the intensity values of the image to the range [0, 1]\n",
        "    ToTensord(keys=[\"image\",\"label\"])     # Converts NumPy arrays to PyTorch tensors\n",
        "]\n",
        ")\n",
        "\n",
        "dataset = Dataset(data=data_dictionary, transform=transform)\n",
        "\n",
        "# Create a DataLoader with specified parameters\n",
        "dataloader = DataLoader(dataset, batch_size=8, num_workers=1)\n",
        "\n",
        "print(f\"The size of the dataloader is: {len(dataloader)}\")\n",
        "\n",
        "for batch_data in dataloader:\n",
        "  # Access images and labels for the current batch\n",
        "  images = batch_data[\"image\"]\n",
        "  labels = batch_data[\"label\"]"
      ],
      "metadata": {
        "id": "FCl7vjJI_q-V",
        "colab": {
          "base_uri": "https://localhost:8080/"
        },
        "outputId": "f894196e-aeb4-42a1-ab3c-cd2d83ad6bed"
      },
      "execution_count": null,
      "outputs": [
        {
          "output_type": "stream",
          "name": "stdout",
          "text": [
            "The size of the dataloader is: 13\n"
          ]
        }
      ]
    },
    {
      "cell_type": "markdown",
      "source": [
        "### Task3\n",
        "\n",
        "Create a model for classification of the image and another model for segmentation of the image"
      ],
      "metadata": {
        "id": "XYxOJSqp_rZv"
      }
    },
    {
      "cell_type": "code",
      "source": [
        "from monai.networks.nets import DenseNet121\n",
        "from monai.networks.nets import BasicUNet\n",
        "\n",
        "# Define the DenseNet model with specified parameters\n",
        "model_classification = DenseNet121(\n",
        "    spatial_dims=2,\n",
        "    in_channels=1,\n",
        "    out_channels=2,\n",
        ")\n",
        "\n",
        "model_segmentation = BasicUNet(\n",
        "    spatial_dims=2,\n",
        "    in_channels=1,\n",
        "    out_channels=1,\n",
        ")"
      ],
      "metadata": {
        "id": "GBMbH6er_9jL",
        "colab": {
          "base_uri": "https://localhost:8080/"
        },
        "outputId": "a8bc728b-96b0-4474-c04f-78afa7eb4a59"
      },
      "execution_count": null,
      "outputs": [
        {
          "output_type": "stream",
          "name": "stdout",
          "text": [
            "BasicUNet features: (32, 32, 64, 128, 256, 32).\n"
          ]
        }
      ]
    },
    {
      "cell_type": "markdown",
      "source": [
        "### Task4\n",
        "\n",
        "Compute the loss (Dice, crossentropy) for one batch between segmentation image and output of the model."
      ],
      "metadata": {
        "id": "7I1yd2p0_937"
      }
    },
    {
      "cell_type": "code",
      "source": [
        "for batch_data in dataloader:\n",
        "  # Access images and labels for the current batch\n",
        "  images = batch_data[\"image\"]\n",
        "  labels = batch_data[\"label\"]\n",
        "  model_output = model_segmentation(images)\n",
        "  loss_function_monai = DiceCELoss(lambda_dice=0.0, lambda_ce=1.0)\n",
        "  loss_monai = loss_function_monai(model_output, labels)\n",
        "  print(f\"Cross entropy Loss with monai: {loss_monai.item()}\")\n",
        "  diceloss_function_monai = DiceLoss()\n",
        "  diceloss_monai = diceloss_function_monai(model_output, labels)\n",
        "  print(f\"Dice Loss with monai: {diceloss_monai.item()}\")\n",
        "  break"
      ],
      "metadata": {
        "id": "MXZSHW6yAZQX",
        "colab": {
          "base_uri": "https://localhost:8080/"
        },
        "outputId": "38054afe-7616-484a-d715-1dc8fb07fd5c"
      },
      "execution_count": null,
      "outputs": [
        {
          "output_type": "stream",
          "name": "stdout",
          "text": [
            "Cross entropy Loss with monai: 0.7700809240341187\n",
            "Dice Loss with monai: 2.083326816558838\n"
          ]
        }
      ]
    }
  ]
}